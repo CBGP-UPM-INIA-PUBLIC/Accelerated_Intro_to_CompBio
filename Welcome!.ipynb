{
 "cells": [
  {
   "cell_type": "markdown",
   "metadata": {},
   "source": [
    "# Welcome to the Accelerated Introduction to Computational Biology Course\n",
    "\n"
   ]
  },
  {
   "cell_type": "markdown",
   "metadata": {},
   "source": [
    "Me:  Mark D Wilkinson\n",
    "\n",
    "Location:  CBGP CsBGP Laboratory\n",
    "\n",
    "Phone: +34 913364592\n"
   ]
  },
  {
   "cell_type": "markdown",
   "metadata": {},
   "source": [
    "<pre>\n",
    "\n",
    "\n",
    "</pre>\n",
    "# Before we begin.... what is this Web page?\n",
    "\n",
    "The page you are reading right now is called a [Jupyter Notebook](https://jupyter.org/).  Jupyter is a Web-based environment for demonstrating and documenting software (in almost any language!)\n",
    "\n",
    "The \"original version (VO)\" of this page is located in a public repository called [GitHub](http://github.com).  All files for this course are [stored there](https://github.com/CBGP-UPM-INIA-PUBLIC).  The VO of the page you are reading is stored in the folder [Accelerated_Intro_to_CompBio_Part_1](https://github.com/CBGP-UPM-INIA-PUBLIC/Accelerated_Intro_to_CompBio_Part_1).  \n",
    "\n",
    "I say \"VO\" because you are reading a **copy** of the original.  Clicking \"START HERE\" on your desktop causes your computer to download a copy of the course lectures from GitHub to your computer.  \n",
    "\n",
    "The best thing about Jupyter notebooks is that they can be edited!  Because the copy you are reading is **YOUR** copy, you are free to make your own notes in this Notebook.  To make notes, just double-click in the white text areas, type your notes, and then <CTRL><ENTER> to save your notes.  To change a piece of code/software, just click in the grey area and type your changes.  To execute the changes, and see the output, type <CTRL><ENTER>.  (try this now!)\n",
    "    \n",
    "BE CAREFUL!!  If you EVER click \"START_HERE\" again, it will **delete your copy** and replace it with a clean copy of the VO from GitHub... all of your notes will be lost!\n",
    "\n"
   ]
  },
  {
   "cell_type": "code",
   "execution_count": 3,
   "metadata": {},
   "outputs": [
    {
     "name": "stdout",
     "output_type": "stream",
     "text": [
      "bueno!: command not found\n"
     ]
    },
    {
     "ename": "",
     "evalue": "127",
     "output_type": "error",
     "traceback": []
    }
   ],
   "source": [
    "bueno!"
   ]
  },
  {
   "cell_type": "markdown",
   "metadata": {},
   "source": [
    "# Objectives for the next 2 days\n",
    "\n",
    " 1. Setting-up your Virtual Machine\n",
    " 2. The Linux Operating System - basic basics\n",
    " 3. GitHub - getting this course!\n"
   ]
  },
  {
   "cell_type": "markdown",
   "metadata": {},
   "source": [
    "# Your Virtual Machine\n",
    "\n",
    "    $ lsb_release -a\n",
    "    No LSB modules are available.\n",
    "    Distributor ID:\tLinuxMint\n",
    "    Description:\tLinux Mint 18.3 Sylvia\n",
    "    Release:\t18.3\n",
    "    Codename:\tsylvia\n",
    "\n",
    "### Main components\n",
    "\n",
    "Linux Mint 18 features Cinnamon 3.0, MDM 2.0, a Linux kernel 4.4 and an *Ubuntu 16.04* package base.\n",
    "    \n",
    "\n",
    "### General Description\n",
    "\n",
    "(adapted from Rajesh Namase, https://www.techlila.com/introduction-linux-operating-system/ and The Linux Foundation \n",
    "https://www.edx.org/course/introduction-linux-linuxfoundationx-lfs101x-1)\n",
    "\n",
    "Linus Torvalds was a Helsinki university student who liked playing around with software and computers.  In 1991 he announced the creation of a new core operating system that he had named Linux. Linux powers 94% of the world’s supercomputers, most of the servers powering the Internet, and a billion+ Android devices. 97% of managers reported that they will prioritize hiring employees competent in Linux relative to other skills areas.  Linux is particularly suitable for businesses with small IT budgets (like scientific laboratories!!!!). Linux is free to use and install, and is extremely stable and reliable (no blue screen of death!).\n",
    "\n",
    "### Linux Mint 18\n",
    "\n",
    "Unlike Windows, there are MAAAAAAAANY different interfaces (\"shells\"), distributions, and \"flavours\" of Linux.  Obvoiusly, the shell that is on your Android phone is very different from the shell you are using now (Mint 18).  Note that there are also many different shells for your phone!  Linux will also be embedded in devices like Raspberry PI, your wifi router, your Smart TV, entertainment systems in your car, and spacecraft.  Linux can be very very small - there are distributions of Linux that will run in as little as 3MB of RAM!\n",
    "\n",
    "Mint 18 is a very rich desktop interface.  It works like Mac/Windows - drag/drop, left/right click - menu bar (at the bottom of the screen).  The main menu is at the bottom left.  Applications are sorted based on their general type.  Mint comes with Libre Office (like MS Office, but free!), Firefox web browser, and a wide range of basic utilities like PDF file readers, etc.  I have installed Komodo Edit (an editor for writing software) - the icon for this is on your desktop.\n",
    "\n",
    "One of the main applications you will need to know for the first few days is the Terminal.  The icon is in the icon bar of the bottom right - a black box icon.  Open that now.  You will notice that the terminal window is slightly transparent - I like it that way, but you can change this if you don't.  \n",
    "\n",
    "The \"command prompt\" is the \"stuff\" before the flashing white box.  By default, Mint 18 tells you:\n",
    "    \n",
    "    Your username\n",
    "    Your current \"location\" in the filesystem\n",
    "    The command prompt ('$')\n",
    "    \n",
    "    e.g. osboxes@osboxes ~ $\n",
    "    \n",
    "Type:  \"cd Course\" and press Enter.  Your command prompt now changes to:\n",
    "\n",
    "    osboxes@osboxes ~/Course $\n",
    "\n",
    "Autocomplete is a common feature in most Linux distributions, and is activated by pressing the 'Tab' key.  Autocomplete is \"smart\" in that it will select either an app (in the context where you need an app) or a file-name (in the context where you need a filename).  Try this:\n",
    "\n",
    "    osboxes@osboxes ~/Course $ fire                 (now press Tab)\n",
    "    \n",
    "    osboxes@osboxes ~/Course $ firefox              (now press Tab again)\n",
    "    \n",
    "    osboxes@osboxes ~/Course $ firefox Accelerated_Intro_to_CompBio_Part_1/\n",
    "    \n",
    "Remember this!   It's a very cool trick that will speed-up your typing!!!\n",
    "\n",
    "To go \"up\" one level of directory, type 'cd ..'   (two dots)\n",
    "\n",
    "To go back to your \"home\" directory, from anywhere, type 'cd ~'\n",
    "\n",
    "    osboxes@osboxes ~/Course $ cd ~\n",
    "\n",
    "To repeat a previous command, press the UP ARROW until you see that command at the prompt (DOWN ARROW takes you through the command history in the other direction)\n",
    "\n",
    "\n"
   ]
  },
  {
   "cell_type": "markdown",
   "metadata": {},
   "source": [
    "# Switching between the VM and your native Operating System\n",
    "\n",
    "You will notice that you cannot click on your Windows/Mac desktop after you have cicked on the VM.  This is because all Mouse commands are now being sent to the VM.  To move \"focus\" back to your native Operating System, click \"<CTRL><ALT>\".  To move focus back to the VM, just click anywhere in the VM window.  I DON'T KNOW HOW TO DO THIS ON A MAC.  PLEASE TELL ME IF YOU KNOW.\n",
    "    \n",
    "\n",
    "# Useful Applications\n",
    "The most used applications are immediately available in the menu bar.\n",
    "   * hide all open windows (show the desktop.  DOES NOT close the apps)\n",
    "   * Firefox web browser\n",
    "   * Command Prompt\n",
    "   * File manager\n",
    "   \n",
    "\n",
    "\n",
    "# Shutting down Linux\n",
    "\n",
    "1) The main menu has a \"power\" symbol that leads to a menu for logout, shut-down, or hibernate.  \n",
    "2) At the command-line, \"shutdown\" will cause the system to close all applications and shut down\n",
    " \n",
    "<pre>\n",
    "\n",
    "\n",
    "\n",
    "\n",
    "\n",
    "\n",
    "\n",
    "</pre>\n",
    "   \n",
    "    "
   ]
  },
  {
   "cell_type": "markdown",
   "metadata": {},
   "source": [
    "#  PROVE THAT YOU UNDERSTAND\n",
    "\n",
    "   * close your terminal window\n",
    "   * open a new terminal window\n",
    "   * move into the folder \"Desktop\"\n",
    "   * go up one level of directory\n",
    "   * move into the folder \"Course/Accelerated_Intro_to_CompBio_Part_1/\"\n",
    "   * go directly back to your home directory\n",
    "   * Open the file browser\n",
    "   * browse to the \"Course/Accelerated_Intro_to_CompBio_Part_1/\" folder\n",
    "   * close the file browser app\n",
    "   * shut down Mint (whatever way you want)\n",
    "   * restart Mint\n",
    "   * open a Terminal window\n",
    "   * cd to the \"Course/Accelerated_Intro_to_CompBio_Part_1/\" folder\n",
    "   * type:  **jupyter notebook** at the command prompt to start this tutorial\n",
    "   \n",
    "Note that you can always start the Jupyter notebook with that command, and then browse to whatever lecture you are interested in.\n",
    "\n",
    "\n",
    "<pre>\n",
    "\n",
    "\n",
    "\n",
    "\n",
    "\n",
    "\n",
    "</pre>\n",
    "\n",
    "\n",
    "   "
   ]
  },
  {
   "cell_type": "markdown",
   "metadata": {},
   "source": [
    "# Introduction to Unix/Linux Commands\n",
    "\n",
    "Unlike in Windows or Mac, it is much more common in Linux to do things at the command line.  There are apps for almost everything, but you will find that it is a lot faster to type a command compared to finding an app, double-clicking it to start, blah blah blah blah blah.  MORE IMPORTANTLY, **many Linux installations will not have a graphical interface!!  ONLY the command-line is available!**  So in this introduction we will only study how to do things at the command line.\n",
    "\n",
    "All command-line functions have full instructions that can be accessed at the command-line using the command \"man\" (for 'manual').  For example:\n"
   ]
  },
  {
   "cell_type": "code",
   "execution_count": 13,
   "metadata": {},
   "outputs": [
    {
     "name": "stdout",
     "output_type": "stream",
     "text": [
      "LS(1)                            User Commands                           LS(1)\n",
      "\n",
      "NAME\n",
      "       ls - list directory contents\n",
      "\n",
      "SYNOPSIS\n",
      "       ls [OPTION]... [FILE]...\n",
      "\n",
      "DESCRIPTION\n",
      "       List  information  about  the FILEs (the current directory by default).\n",
      "       Sort entries alphabetically if none of -cftuvSUX nor --sort  is  speci‐\n",
      "       fied.\n",
      "\n",
      "       Mandatory  arguments  to  long  options are mandatory for short options\n",
      "       too.\n",
      "\n",
      "       -a, --all\n",
      "              do not ignore entries starting with .\n",
      "\n",
      "       -A, --almost-all\n",
      "              do not list implied . and ..\n",
      "\n",
      "       --author\n",
      "              with -l, print the author of each file\n",
      "\n",
      "       -b, --escape\n",
      "              print C-style escapes for nongraphic characters\n",
      "\n",
      "       --block-size=SIZE\n",
      "              scale sizes by SIZE before printing them; e.g., '--block-size=M'\n",
      "              prints sizes in units of 1,048,576 bytes; see SIZE format below\n",
      "\n",
      "       -B, --ignore-backups\n",
      "              do not list implied entries ending with ~\n",
      "\n",
      "       -c     with -lt: sort by, and show, ctime (time of last modification of\n",
      "              file status information); with -l: show ctime and sort by  name;\n",
      "              otherwise: sort by ctime, newest first\n",
      "\n",
      "       -C     list entries by columns\n",
      "\n",
      "       --color[=WHEN]\n",
      "              colorize  the output; WHEN can be 'always' (default if omitted),\n",
      "              'auto', or 'never'; more info below\n",
      "\n",
      "       -d, --directory\n",
      "              list directories themselves, not their contents\n",
      "\n",
      "       -D, --dired\n",
      "              generate output designed for Emacs' dired mode\n",
      "\n",
      "       -f     do not sort, enable -aU, disable -ls --color\n",
      "\n",
      "       -F, --classify\n",
      "              append indicator (one of */=>@|) to entries\n",
      "\n",
      "       --file-type\n",
      "              likewise, except do not append '*'\n",
      "\n",
      "       --format=WORD\n",
      "              across -x, commas -m, horizontal -x, long -l, single-column  -1,\n",
      "              verbose -l, vertical -C\n",
      "\n",
      "       --full-time\n",
      "              like -l --time-style=full-iso\n",
      "\n",
      "       -g     like -l, but do not list owner\n",
      "\n",
      "       --group-directories-first\n",
      "              group directories before files;\n",
      "\n",
      "              can   be  augmented  with  a  --sort  option,  but  any  use  of\n",
      "              --sort=none (-U) disables grouping\n",
      "\n",
      "       -G, --no-group\n",
      "              in a long listing, don't print group names\n",
      "\n",
      "       -h, --human-readable\n",
      "              with -l and/or -s, print human readable sizes (e.g., 1K 234M 2G)\n",
      "\n",
      "       --si   likewise, but use powers of 1000 not 1024\n",
      "\n",
      "       -H, --dereference-command-line\n",
      "              follow symbolic links listed on the command line\n",
      "\n",
      "       --dereference-command-line-symlink-to-dir\n",
      "              follow each command line symbolic link\n",
      "\n",
      "              that points to a directory\n",
      "\n",
      "       --hide=PATTERN\n",
      "              do not list implied entries matching shell  PATTERN  (overridden\n",
      "              by -a or -A)\n",
      "\n",
      "       --indicator-style=WORD\n",
      "              append indicator with style WORD to entry names: none (default),\n",
      "              slash (-p), file-type (--file-type), classify (-F)\n",
      "\n",
      "       -i, --inode\n",
      "              print the index number of each file\n",
      "\n",
      "       -I, --ignore=PATTERN\n",
      "              do not list implied entries matching shell PATTERN\n",
      "\n",
      "       -k, --kibibytes\n",
      "              default to 1024-byte blocks for disk usage\n",
      "\n",
      "       -l     use a long listing format\n",
      "\n",
      "       -L, --dereference\n",
      "              when showing file information for a symbolic link, show informa‐\n",
      "              tion  for  the file the link references rather than for the link\n",
      "              itself\n",
      "\n",
      "       -m     fill width with a comma separated list of entries\n",
      "\n",
      "       -n, --numeric-uid-gid\n",
      "              like -l, but list numeric user and group IDs\n",
      "\n",
      "       -N, --literal\n",
      "              print raw entry names (don't treat e.g. control characters  spe‐\n",
      "              cially)\n",
      "\n",
      "       -o     like -l, but do not list group information\n",
      "\n",
      "       -p, --indicator-style=slash\n",
      "              append / indicator to directories\n",
      "\n",
      "       -q, --hide-control-chars\n",
      "              print ? instead of nongraphic characters\n",
      "\n",
      "       --show-control-chars\n",
      "              show nongraphic characters as-is (the default, unless program is\n",
      "              'ls' and output is a terminal)\n",
      "\n",
      "       -Q, --quote-name\n",
      "              enclose entry names in double quotes\n",
      "\n",
      "       --quoting-style=WORD\n",
      "              use quoting style WORD for entry names: literal, locale,  shell,\n",
      "              shell-always, shell-escape, shell-escape-always, c, escape\n",
      "\n",
      "       -r, --reverse\n",
      "              reverse order while sorting\n",
      "\n",
      "       -R, --recursive\n",
      "              list subdirectories recursively\n",
      "\n",
      "       -s, --size\n",
      "              print the allocated size of each file, in blocks\n",
      "\n",
      "       -S     sort by file size, largest first\n",
      "\n",
      "       --sort=WORD\n",
      "              sort  by  WORD instead of name: none (-U), size (-S), time (-t),\n",
      "              version (-v), extension (-X)\n",
      "\n",
      "       --time=WORD\n",
      "              with -l, show time as WORD instead of default modification time:\n",
      "              atime  or  access  or  use  (-u); ctime or status (-c); also use\n",
      "              specified time as sort key if --sort=time (newest first)\n",
      "\n",
      "       --time-style=STYLE\n",
      "              with -l, show times using style STYLE: full-iso, long-iso,  iso,\n",
      "              locale,  or  +FORMAT;  FORMAT  is interpreted like in 'date'; if\n",
      "              FORMAT  is  FORMAT1<newline>FORMAT2,  then  FORMAT1  applies  to\n",
      "              non-recent  files  and FORMAT2 to recent files; if STYLE is pre‐\n",
      "              fixed with 'posix-', STYLE takes effect only outside  the  POSIX\n",
      "              locale\n",
      "\n",
      "       -t     sort by modification time, newest first\n",
      "\n",
      "       -T, --tabsize=COLS\n",
      "              assume tab stops at each COLS instead of 8\n",
      "\n",
      "       -u     with  -lt:  sort by, and show, access time; with -l: show access\n",
      "              time and sort by name; otherwise: sort by  access  time,  newest\n",
      "              first\n",
      "\n",
      "       -U     do not sort; list entries in directory order\n",
      "\n",
      "       -v     natural sort of (version) numbers within text\n",
      "\n",
      "       -w, --width=COLS\n",
      "              set output width to COLS.  0 means no limit\n",
      "\n",
      "       -x     list entries by lines instead of by columns\n",
      "\n",
      "       -X     sort alphabetically by entry extension\n",
      "\n",
      "       -Z, --context\n",
      "              print any security context of each file\n",
      "\n",
      "       -1     list one file per line.  Avoid '\\n' with -q or -b\n",
      "\n",
      "       --help display this help and exit\n",
      "\n",
      "       --version\n",
      "              output version information and exit\n",
      "\n",
      "       The  SIZE  argument  is  an  integer and optional unit (example: 10K is\n",
      "       10*1024).  Units are K,M,G,T,P,E,Z,Y  (powers  of  1024)  or  KB,MB,...\n",
      "       (powers of 1000).\n",
      "\n",
      "       Using  color  to distinguish file types is disabled both by default and\n",
      "       with --color=never.  With --color=auto, ls emits color codes only  when\n",
      "       standard  output is connected to a terminal.  The LS_COLORS environment\n",
      "       variable can change the settings.  Use the dircolors command to set it.\n",
      "\n",
      "   Exit status:\n",
      "       0      if OK,\n",
      "\n",
      "       1      if minor problems (e.g., cannot access subdirectory),\n",
      "\n",
      "       2      if serious trouble (e.g., cannot access command-line argument).\n",
      "\n",
      "AUTHOR\n",
      "       Written by Richard M. Stallman and David MacKenzie.\n",
      "\n",
      "REPORTING BUGS\n",
      "       GNU coreutils online help: <http://www.gnu.org/software/coreutils/>\n",
      "       Report ls translation bugs to <http://translationproject.org/team/>\n",
      "\n",
      "COPYRIGHT\n",
      "       Copyright © 2016 Free Software Foundation, Inc.   License  GPLv3+:  GNU\n",
      "       GPL version 3 or later <http://gnu.org/licenses/gpl.html>.\n",
      "       This  is  free  software:  you  are free to change and redistribute it.\n",
      "       There is NO WARRANTY, to the extent permitted by law.\n",
      "\n",
      "SEE ALSO\n",
      "       Full documentation at: <http://www.gnu.org/software/coreutils/ls>\n",
      "       or available locally via: info '(coreutils) ls invocation'\n",
      "\n",
      "GNU coreutils 8.25               February 2017                           LS(1)\n"
     ]
    }
   ],
   "source": [
    "man ls"
   ]
  },
  {
   "cell_type": "markdown",
   "metadata": {},
   "source": [
    "## File/Folder Browsing and manipulation commands\n",
    "\n",
    "You have already used the *cd* (Change Directory) command.  We will now go through several more common commands\n",
    "\n",
    "   * ls\n",
    "   * dir\n",
    "   * touch\n",
    "   * rm\n",
    "   * mkdir\n",
    "   * mv\n",
    "   * cp\n",
    "   * cat\n",
    "   * head\n",
    "   * tail\n",
    "   \n"
   ]
  },
  {
   "cell_type": "markdown",
   "metadata": {},
   "source": [
    "## ls and dir\n",
    "*ls* and *dir* are almost identical, just with slightly different defaults.  Use whichever one you prefer."
   ]
  },
  {
   "cell_type": "code",
   "execution_count": 25,
   "metadata": {},
   "outputs": [
    {
     "name": "stdout",
     "output_type": "stream",
     "text": [
      "License-CC-BY-4.0  README.md  Welcome!.ipynb\n",
      "            now do -l (+list-style)\n",
      "total 44\n",
      "-rw-rw-r-- 1 osboxes osboxes 14198 Jul  5 04:53 License-CC-BY-4.0\n",
      "-rw-rw-r-- 1 osboxes osboxes  1502 Jul  5 07:59 README.md\n",
      "-rw-rw-r-- 1 osboxes osboxes 22327 Jul  6 03:11 Welcome!.ipynb\n",
      "            now do -lth (+list +time +human-readable-size)\n",
      "total 44K\n",
      "-rw-rw-r-- 1 osboxes osboxes  22K Jul  6 03:11 Welcome!.ipynb\n",
      "-rw-rw-r-- 1 osboxes osboxes 1.5K Jul  5 07:59 README.md\n",
      "-rw-rw-r-- 1 osboxes osboxes  14K Jul  5 04:53 License-CC-BY-4.0\n",
      "            now do -fl (+full +list)\n",
      "total 64\n",
      "drwxrwxr-x 3 osboxes osboxes  4096 Jul  5 04:53 ..\n",
      "-rw-rw-r-- 1 osboxes osboxes 22327 Jul  6 03:11 Welcome!.ipynb\n",
      "-rw-rw-r-- 1 osboxes osboxes 14198 Jul  5 04:53 License-CC-BY-4.0\n",
      "drwxrwxr-x 4 osboxes osboxes  4096 Jul  6 03:11 .\n",
      "drwxrwxr-x 8 osboxes osboxes  4096 Jul  5 08:00 .git\n",
      "-rw-rw-r-- 1 osboxes osboxes    19 Jul  5 07:59 .gitignore\n",
      "-rw-rw-r-- 1 osboxes osboxes  1502 Jul  5 07:59 README.md\n",
      "drwxrwxr-x 2 osboxes osboxes  4096 Jul  5 05:07 .ipynb_checkpoints\n",
      "            now do -flsS  (+full +list +size +sort by size)\n",
      "total 64\n",
      "24 -rw-rw-r-- 1 osboxes osboxes 22327 Jul  6 03:11 Welcome!.ipynb\n",
      "16 -rw-rw-r-- 1 osboxes osboxes 14198 Jul  5 04:53 License-CC-BY-4.0\n",
      " 4 drwxrwxr-x 4 osboxes osboxes  4096 Jul  6 03:11 .\n",
      " 4 drwxrwxr-x 3 osboxes osboxes  4096 Jul  5 04:53 ..\n",
      " 4 drwxrwxr-x 8 osboxes osboxes  4096 Jul  5 08:00 .git\n",
      " 4 drwxrwxr-x 2 osboxes osboxes  4096 Jul  5 05:07 .ipynb_checkpoints\n",
      " 4 -rw-rw-r-- 1 osboxes osboxes  1502 Jul  5 07:59 README.md\n",
      " 4 -rw-rw-r-- 1 osboxes osboxes    19 Jul  5 07:59 .gitignore\n",
      "            now do -lsSA  ( +list +size +sort +Almost-all)\n",
      "total 56K\n",
      " 24K -rw-rw-r-- 1 osboxes osboxes  22K Jul  6 03:11 Welcome!.ipynb\n",
      " 16K -rw-rw-r-- 1 osboxes osboxes  14K Jul  5 04:53 License-CC-BY-4.0\n",
      "4.0K drwxrwxr-x 8 osboxes osboxes 4.0K Jul  5 08:00 \u001b[0m\u001b[01;34m.git\u001b[0m\n",
      "4.0K drwxrwxr-x 2 osboxes osboxes 4.0K Jul  5 05:07 \u001b[01;34m.ipynb_checkpoints\u001b[0m\n",
      "4.0K -rw-rw-r-- 1 osboxes osboxes 1.5K Jul  5 07:59 README.md\n",
      "4.0K -rw-rw-r-- 1 osboxes osboxes   19 Jul  5 07:59 .gitignore\n"
     ]
    }
   ],
   "source": [
    "ls\n",
    "echo \"            now do -l (+list-style)\"\n",
    "ls -l\n",
    "echo \"            now do -lth (+list +time +human-readable-size)\"\n",
    "ls -lth\n",
    "echo \"            now do -fl (+full +list)\"\n",
    "ls -fl\n",
    "echo \"            now do -flsS  (+full +list +size +sort by size)\"\n",
    "ls -flsS\n",
    "echo \"            now do -lsSA  ( +list +size +sort +Almost-all)\"\n",
    "ls -lsSA"
   ]
  },
  {
   "cell_type": "code",
   "execution_count": 28,
   "metadata": {},
   "outputs": [
    {
     "name": "stdout",
     "output_type": "stream",
     "text": [
      "License-CC-BY-4.0  README.md  Welcome!.ipynb\n",
      "total 44\n",
      "-rw-rw-r-- 1 osboxes osboxes 14198 Jul  5 04:53 License-CC-BY-4.0\n",
      "-rw-rw-r-- 1 osboxes osboxes  1502 Jul  5 07:59 README.md\n",
      "-rw-rw-r-- 1 osboxes osboxes 23080 Jul  6 03:17 Welcome!.ipynb\n"
     ]
    }
   ],
   "source": [
    "dir\n",
    "dir -l\n"
   ]
  },
  {
   "cell_type": "markdown",
   "metadata": {},
   "source": [
    "## PROVE YOU UNDERSTAND\n",
    "\n",
    "Create an *ls* or *dir* command that lists the content of the current folder, sorted by time, using human-readable size"
   ]
  },
  {
   "cell_type": "code",
   "execution_count": null,
   "metadata": {},
   "outputs": [],
   "source": []
  },
  {
   "cell_type": "markdown",
   "metadata": {},
   "source": [
    "<pre>\n",
    "\n",
    "\n",
    "\n",
    "\n",
    "</pre>\n",
    "## touch\n",
    "*touch* is used to create an empty file.  You specify the filename however you wish.\n"
   ]
  },
  {
   "cell_type": "code",
   "execution_count": 36,
   "metadata": {},
   "outputs": [
    {
     "name": "stdout",
     "output_type": "stream",
     "text": [
      "total 48\n",
      "-rw-rw-r-- 1 osboxes osboxes 14198 Jul  5 04:53 License-CC-BY-4.0\n",
      "-rw-rw-r-- 1 osboxes osboxes     0 Jul  6 03:25 myfile.txt\n",
      "-rw-rw-r-- 1 osboxes osboxes  1502 Jul  5 07:59 README.md\n",
      "-rw-rw-r-- 1 osboxes osboxes 24963 Jul  6 03:25 Welcome!.ipynb\n"
     ]
    }
   ],
   "source": [
    "touch myfile.txt\n",
    "ls -l\n"
   ]
  },
  {
   "cell_type": "markdown",
   "metadata": {},
   "source": [
    "## rm\n",
    "*rm* (\"remove\") is used to delete files\n"
   ]
  },
  {
   "cell_type": "code",
   "execution_count": 37,
   "metadata": {},
   "outputs": [
    {
     "name": "stdout",
     "output_type": "stream",
     "text": [
      "total 48\n",
      "-rw-rw-r-- 1 osboxes osboxes 14198 Jul  5 04:53 License-CC-BY-4.0\n",
      "-rw-rw-r-- 1 osboxes osboxes     0 Jul  6 03:25 myfile.txt\n",
      "-rw-rw-r-- 1 osboxes osboxes  1502 Jul  5 07:59 README.md\n",
      "-rw-rw-r-- 1 osboxes osboxes 24963 Jul  6 03:25 Welcome!.ipynb\n",
      "total 48\n",
      "-rw-rw-r-- 1 osboxes osboxes 14198 Jul  5 04:53 License-CC-BY-4.0\n",
      "-rw-rw-r-- 1 osboxes osboxes  1502 Jul  5 07:59 README.md\n",
      "-rw-rw-r-- 1 osboxes osboxes 24963 Jul  6 03:25 Welcome!.ipynb\n"
     ]
    }
   ],
   "source": [
    "ls -l\n",
    "rm myfile.txt\n",
    "ls -l"
   ]
  },
  {
   "cell_type": "markdown",
   "metadata": {},
   "source": [
    "<pre>\n",
    "\n",
    "\n",
    "\n",
    "\n",
    "</pre>\n",
    "## mkdir\n",
    "*mkdir* (\"make directory\") is used to create folders \n"
   ]
  },
  {
   "cell_type": "code",
   "execution_count": 39,
   "metadata": {},
   "outputs": [
    {
     "name": "stdout",
     "output_type": "stream",
     "text": [
      "total 52\n",
      "-rw-rw-r-- 1 osboxes osboxes 14198 Jul  5 04:53 License-CC-BY-4.0\n",
      "-rw-rw-r-- 1 osboxes osboxes  1502 Jul  5 07:59 README.md\n",
      "drwxrwxr-x 2 osboxes osboxes  4096 Jul  6 03:28 \u001b[0m\u001b[01;34mSomeFolder\u001b[0m\n",
      "-rw-rw-r-- 1 osboxes osboxes 26082 Jul  6 03:27 Welcome!.ipynb\n",
      "total 48\n",
      "-rw-rw-r-- 1 osboxes osboxes 14198 Jul  5 04:53 License-CC-BY-4.0\n",
      "-rw-rw-r-- 1 osboxes osboxes  1502 Jul  5 07:59 README.md\n",
      "-rw-rw-r-- 1 osboxes osboxes 26082 Jul  6 03:27 Welcome!.ipynb\n"
     ]
    }
   ],
   "source": [
    "mkdir SomeFolder\n",
    "ls -l\n",
    "rm -r SomeFolder   # \"-r\" tells rm that you do want to remove directories AND CONTENT... normally directories are ignored\n",
    "ls -l"
   ]
  },
  {
   "cell_type": "markdown",
   "metadata": {},
   "source": [
    "## mv\n",
    "*mv* (\"move\") is used to move a file or a folder from one place to another\n"
   ]
  },
  {
   "cell_type": "code",
   "execution_count": 47,
   "metadata": {},
   "outputs": [
    {
     "name": "stdout",
     "output_type": "stream",
     "text": [
      "          List current folder - this is our starting point\n",
      "total 48\n",
      "-rw-rw-r-- 1 osboxes osboxes 14198 Jul  5 04:53 License-CC-BY-4.0\n",
      "-rw-rw-r-- 1 osboxes osboxes  1502 Jul  5 07:59 README.md\n",
      "-rw-rw-r-- 1 osboxes osboxes 28595 Jul  6 03:33 Welcome!.ipynb\n",
      "          List current folder after creating myfile.txt and SomeFolder\n",
      "total 52\n",
      "-rw-rw-r-- 1 osboxes osboxes 14198 Jul  5 04:53 License-CC-BY-4.0\n",
      "-rw-rw-r-- 1 osboxes osboxes     0 Jul  6 03:34 myfile.txt\n",
      "-rw-rw-r-- 1 osboxes osboxes  1502 Jul  5 07:59 README.md\n",
      "drwxrwxr-x 3 osboxes osboxes  4096 Jul  6 03:34 \u001b[0m\u001b[01;34mSomeFolder\u001b[0m\n",
      "-rw-rw-r-- 1 osboxes osboxes 28595 Jul  6 03:33 Welcome!.ipynb\n",
      "          now moving myfile.txt into the SubFolder\n",
      "total 52\n",
      "-rw-rw-r-- 1 osboxes osboxes 14198 Jul  5 04:53 License-CC-BY-4.0\n",
      "-rw-rw-r-- 1 osboxes osboxes  1502 Jul  5 07:59 README.md\n",
      "drwxrwxr-x 3 osboxes osboxes  4096 Jul  6 03:34 \u001b[0m\u001b[01;34mSomeFolder\u001b[0m\n",
      "-rw-rw-r-- 1 osboxes osboxes 28595 Jul  6 03:33 Welcome!.ipynb\n",
      "          List SomeFolder\n",
      "total 4\n",
      "drwxrwxr-x 2 osboxes osboxes 4096 Jul  6 03:34 \u001b[0m\u001b[01;34mSubFolder\u001b[0m\n",
      "          List SomeFolder/SubFolder\n",
      "total 0\n",
      "-rw-rw-r-- 1 osboxes osboxes 0 Jul  6 03:34 myfile.txt\n",
      "bash: !: event not found\n",
      "          List current folder to show that everything is gone\n",
      "total 48\n",
      "-rw-rw-r-- 1 osboxes osboxes 14198 Jul  5 04:53 License-CC-BY-4.0\n",
      "-rw-rw-r-- 1 osboxes osboxes  1502 Jul  5 07:59 README.md\n",
      "-rw-rw-r-- 1 osboxes osboxes 28595 Jul  6 03:33 Welcome!.ipynb\n"
     ]
    }
   ],
   "source": [
    "echo \"          List current folder - this is our starting point\"\n",
    "ls -l\n",
    "touch myfile.txt\n",
    "mkdir SomeFolder\n",
    "mkdir SomeFolder/SubFolder\n",
    "echo \"          List current folder after creating myfile.txt and SomeFolder\"\n",
    "ls -l\n",
    "echo \"          now MOVING myfile.txt into the SubFolder\"\n",
    "mv myfile.txt SomeFolder/SubFolder\n",
    "ls -l\n",
    "echo \"          List SomeFolder\"\n",
    "ls -l SomeFolder\n",
    "echo \"          List SomeFolder/SubFolder\"\n",
    "ls -l SomeFolder/SubFolder\n",
    "echo \"          Remove SomeFolder (notice what it outputs!)\"\n",
    "rm -r SomeFolder   # NOTE HOW DANGEROUS THIS CAN BE!!\n",
    "echo \"          List current folder to show that everything is gone\"\n",
    "ls -l\n"
   ]
  },
  {
   "cell_type": "markdown",
   "metadata": {},
   "source": [
    "## cp\n",
    "*cp* (\"copy\") is used to copy a file or a folder (and its content) into a second location"
   ]
  },
  {
   "cell_type": "code",
   "execution_count": 51,
   "metadata": {},
   "outputs": [
    {
     "name": "stdout",
     "output_type": "stream",
     "text": [
      "          List current folder - this is our starting point\n",
      "total 52\n",
      "-rw-rw-r-- 1 osboxes osboxes 14198 Jul  5 04:53 License-CC-BY-4.0\n",
      "-rw-rw-r-- 1 osboxes osboxes     0 Jul  6 03:40 myfile.txt\n",
      "-rw-rw-r-- 1 osboxes osboxes  1502 Jul  5 07:59 README.md\n",
      "-rw-rw-r-- 1 osboxes osboxes 30748 Jul  6 03:39 Welcome!.ipynb\n",
      "          List current folder after creating myfile.txt and SomeFolder\n",
      "total 56\n",
      "-rw-rw-r-- 1 osboxes osboxes 14198 Jul  5 04:53 License-CC-BY-4.0\n",
      "-rw-rw-r-- 1 osboxes osboxes     0 Jul  6 03:41 myfile.txt\n",
      "-rw-rw-r-- 1 osboxes osboxes  1502 Jul  5 07:59 README.md\n",
      "drwxrwxr-x 2 osboxes osboxes  4096 Jul  6 03:41 \u001b[0m\u001b[01;34mSomeFolder\u001b[0m\n",
      "-rw-rw-r-- 1 osboxes osboxes 30748 Jul  6 03:39 Welcome!.ipynb\n",
      "          Making a backup of myfile.txt using the 'cp' command\n",
      "          List SomeFolder after the copy command\n",
      "total 56\n",
      "-rw-rw-r-- 1 osboxes osboxes 14198 Jul  5 04:53 License-CC-BY-4.0\n",
      "-rw-rw-r-- 1 osboxes osboxes     0 Jul  6 03:41 myfile.txt\n",
      "-rw-rw-r-- 1 osboxes osboxes     0 Jul  6 03:41 myfile.txt.BACKUP\n",
      "-rw-rw-r-- 1 osboxes osboxes  1502 Jul  5 07:59 README.md\n",
      "drwxrwxr-x 2 osboxes osboxes  4096 Jul  6 03:41 \u001b[0m\u001b[01;34mSomeFolder\u001b[0m\n",
      "-rw-rw-r-- 1 osboxes osboxes 30748 Jul  6 03:39 Welcome!.ipynb\n",
      "          Remove our backup\n",
      "          Create a copy of myfile.txt in SomeFolder\n",
      "          List SomeFolder after the copy command\n",
      "total 0\n",
      "-rw-rw-r-- 1 osboxes osboxes 0 Jul  6 03:41 myfile.txt\n"
     ]
    }
   ],
   "source": [
    "echo \"          List current folder - this is our starting point\"\n",
    "ls -l\n",
    "touch myfile.txt\n",
    "mkdir SomeFolder\n",
    "echo \"          List current folder after creating myfile.txt and SomeFolder\"\n",
    "ls -l\n",
    "echo \"          Making a backup of myfile.txt using the 'cp' command\"\n",
    "cp  myfile.txt  myfile.txt.BACKUP\n",
    "echo \"          List SomeFolder after the copy command\"\n",
    "ls -l\n",
    "echo \"          Remove our backup\"\n",
    "rm myfile.txt.BACKUP\n",
    "echo \"          Create a copy of myfile.txt in SomeFolder\"\n",
    "cp myfile.txt SomeFolder\n",
    "echo \"          List SomeFolder after the copy command\"\n",
    "ls -l SomeFolder\n",
    "rm -r SomeFolder   # limpiar!\n"
   ]
  },
  {
   "cell_type": "markdown",
   "metadata": {},
   "source": [
    "## cat  and  head  and tail\n",
    "*cat* is used to display the entire content of a file.\n",
    "\n",
    "*head* is used to display the first XXX lines of a file.\n",
    "\n",
    "*tail* is used to display the last XXX lines of a file."
   ]
  },
  {
   "cell_type": "code",
   "execution_count": 66,
   "metadata": {},
   "outputs": [
    {
     "name": "stdout",
     "output_type": "stream",
     "text": [
      "                head alone (file has 20 lines)\n",
      "Line 1\n",
      "Line 2\n",
      "Line 3\n",
      "Line 4\n",
      "Line 5\n",
      "Line 6\n",
      "Line 7\n",
      "Line 8\n",
      "Line 9\n",
      "Line 10\n",
      "                head -2 (two lines)\n",
      "Line 1\n",
      "Line 2\n",
      "                cat (entire file)\n",
      "Line 1\n",
      "Line 2\n",
      "Line 3\n",
      "Line 4\n",
      "Line 5\n",
      "Line 6\n",
      "Line 7\n",
      "Line 8\n",
      "Line 9\n",
      "Line 10\n",
      "Line 11\n",
      "Line 12\n",
      "Line 13\n",
      "Line 14\n",
      "Line 15\n",
      "Line 16\n",
      "Line 17\n",
      "Line 18\n",
      "Line 19\n",
      "Line 20\n",
      "                tail -2 (two lines)\n",
      "Line 19\n",
      "Line 20\n"
     ]
    }
   ],
   "source": [
    "echo \"                head alone (file has 20 lines)\"\n",
    "head samplefile.txt\n",
    "echo \"                head -2 (two lines)\"\n",
    "head -2 samplefile.txt\n",
    "echo \"                cat (entire file)\"\n",
    "cat samplefile.txt\n",
    "echo \"                tail -2 (two lines)\"\n",
    "tail -2 samplefile.txt\n"
   ]
  },
  {
   "cell_type": "markdown",
   "metadata": {},
   "source": [
    "<pre>\n",
    "\n",
    "\n",
    "\n",
    "</pre>\n",
    "\n",
    "## Prove that you understand\n",
    "\n",
    "   * make a **backup copy** of the License for these course notes **in a new folder**\n",
    "   * **print the first 3 lines** of the license to the screen\n",
    "   * **print the last 3 lines** of the licsense to the screen\n",
    "   * **Delete the License** and **replace it with your backup copy**\n",
    "   * **Demove the backup folder**\n",
    "   * do a **directory listing** that shows the license as **the first thing in the list** (think!!!)\n",
    "   "
   ]
  },
  {
   "cell_type": "code",
   "execution_count": null,
   "metadata": {},
   "outputs": [],
   "source": []
  },
  {
   "cell_type": "markdown",
   "metadata": {},
   "source": [
    "<pre>\n",
    "\n",
    "\n",
    "\n",
    "\n",
    "\n",
    "\n",
    "\n",
    "</pre>\n",
    "# Manipulating and exploring file content\n",
    "\n",
    "So far, you have created empty files and moved them, but an empty file isn't very useful.\n",
    "\n",
    "You can open the empty file in your File Explorer app, double-click it, and edit it in the editor app... but that's not how we do things!  We can also edit files directly at the command line using a non-windowed text-editing app.  I will show you \"pico\" now, but **don't use pico inside of Jupyter** (it will BLOCK all of your other code windows!!).\n",
    "\n",
    "There are other ways to manipulate content in Linux.  These involve \"pipes\" and \"content redirection\".\n",
    "\n",
    "## Linux \"pipes\"  (  |  )\n",
    "\n",
    "A \"pipe\" means to send the output from one command into the input of another command (more formally, it sends the stdandard output stream of one command into the standard input stream of another command - we will look at these streams a bit later...).  Multiple pipes can be used in the same line.  Here's a few examples:"
   ]
  },
  {
   "cell_type": "code",
   "execution_count": 17,
   "metadata": {},
   "outputs": [
    {
     "name": "stdout",
     "output_type": "stream",
     "text": [
      "Line 8\n",
      "Line 9\n",
      "Line 10\n",
      "  another example - what is the most recent file edited?\n",
      "-rw-rw-r-- 1 osboxes osboxes  39K Jul  6 07:15 Welcome!.ipynb\n"
     ]
    }
   ],
   "source": [
    "cat samplefile.txt  |  head -10  | tail -3 \n",
    "echo \"  another example - what is the most recent file edited?\"\n",
    "ls -lth | head -2  | tail -1  \n"
   ]
  },
  {
   "cell_type": "markdown",
   "metadata": {},
   "source": [
    "# Linux output directs ( >   and  >>  )\n",
    "\n",
    "You can also direct the output from a command to a file, either overwriting what is there, or appending to the end of that file.  Here are some examples:\n"
   ]
  },
  {
   "cell_type": "code",
   "execution_count": 20,
   "metadata": {},
   "outputs": [
    {
     "name": "stdout",
     "output_type": "stream",
     "text": [
      "hey I'm in a file\n",
      "hey I'm in a file\n"
     ]
    }
   ],
   "source": [
    "echo \"hey I'm in a file\" > myfile.txt  # I'm sending content of \"echo\" to the file\n",
    "cat myfile.txt\n",
    "head myfile.txt\n",
    "rm myfile.txt\n"
   ]
  },
  {
   "cell_type": "code",
   "execution_count": 23,
   "metadata": {},
   "outputs": [
    {
     "name": "stdout",
     "output_type": "stream",
     "text": [
      "total 64K\n",
      "-rw-rw-r-- 1 osboxes osboxes    0 Jul  6 07:28 allfiles.txt\n",
      "-rw-rw-r-- 1 osboxes osboxes  39K Jul  6 07:27 Welcome!.ipynb\n",
      "-rw-rw-r-- 1 osboxes osboxes  14K Jul  6 06:55 License-CC-BY-4.0\n",
      "-rw-rw-r-- 1 osboxes osboxes  151 Jul  6 03:50 samplefile.txt\n",
      "-rw-rw-r-- 1 osboxes osboxes 1.5K Jul  5 07:59 README.md\n"
     ]
    }
   ],
   "source": [
    "ls -lth > allfiles.txt  # send the output of ls to the file\n",
    "cat allfiles.txt\n",
    "rm allfiles.txt"
   ]
  },
  {
   "cell_type": "code",
   "execution_count": 90,
   "metadata": {},
   "outputs": [
    {
     "name": "stdout",
     "output_type": "stream",
     "text": [
      "-rw-rw-r-- 1 osboxes osboxes 1.5K Jul  5 07:59 README.md\n"
     ]
    }
   ],
   "source": [
    "ls -lth | tail -1 > oldest_file.txt  # combine a pipe with an output redirect\n",
    "cat oldest_file.txt\n",
    "rm oldest_file.txt"
   ]
  },
  {
   "cell_type": "code",
   "execution_count": 29,
   "metadata": {},
   "outputs": [
    {
     "name": "stdout",
     "output_type": "stream",
     "text": [
      "total 72K\n",
      "-rw-rw-r-- 1 osboxes osboxes    0 Jul  6 07:32 doublelist.txt\n",
      "-rw-rw-r-- 1 osboxes osboxes  41K Jul  6 07:31 Welcome!.ipynb\n",
      "-rw-rw-r-- 1 osboxes osboxes   57 Jul  6 07:30 oldest_file.txt\n",
      "-rw-rw-r-- 1 osboxes osboxes  14K Jul  6 06:55 License-CC-BY-4.0\n",
      "-rw-rw-r-- 1 osboxes osboxes  151 Jul  6 03:50 samplefile.txt\n",
      "-rw-rw-r-- 1 osboxes osboxes 1.5K Jul  5 07:59 README.md\n",
      "total 76K\n",
      "-rw-rw-r-- 1 osboxes osboxes  381 Jul  6 07:32 doublelist.txt\n",
      "-rw-rw-r-- 1 osboxes osboxes  41K Jul  6 07:31 Welcome!.ipynb\n",
      "-rw-rw-r-- 1 osboxes osboxes   57 Jul  6 07:30 oldest_file.txt\n",
      "-rw-rw-r-- 1 osboxes osboxes  14K Jul  6 06:55 License-CC-BY-4.0\n",
      "-rw-rw-r-- 1 osboxes osboxes  151 Jul  6 03:50 samplefile.txt\n",
      "-rw-rw-r-- 1 osboxes osboxes 1.5K Jul  5 07:59 README.md\n"
     ]
    }
   ],
   "source": [
    "ls -lth > doublelist.txt\n",
    "ls -lth >> doublelist.txt  # >> is the \"add to the end of\" (\"append\") operator\n",
    "cat doublelist.txt\n",
    "rm doublelist.txt\n"
   ]
  },
  {
   "cell_type": "markdown",
   "metadata": {},
   "source": [
    "# grep - query the content of a file\n",
    "\n",
    "*grep* is a way to ask a file if it contains a certain set of characters.\n",
    "\n",
    "The simplest example:\n"
   ]
  },
  {
   "cell_type": "code",
   "execution_count": 35,
   "metadata": {},
   "outputs": [
    {
     "name": "stdout",
     "output_type": "stream",
     "text": [
      "    Adapted Material means material \u001b[01;31m\u001b[Ksubject\u001b[m\u001b[K to Copyright and Similar Rights that is derived from or based upon the Licensed Material and in which the Licensed Material is translated, altered, arranged, transformed, or otherwise modified in a manner requiring permission under the Copyright and Similar Rights held by the Licensor. For purposes of this Public License, where the Licensed Material is a musical work, performance, or sound recording, Adapted Material is always produced where the Licensed Material is synched in timed relation with a moving image.\n",
      "    Licensed Rights means the rights granted to You \u001b[01;31m\u001b[Ksubject\u001b[m\u001b[K to the terms and conditions of this Public License, which are limited to all Copyright and Similar Rights that apply to Your use of the Licensed Material and that the Licensor has authority to license.\n",
      "Your exercise of the Licensed Rights is expressly made \u001b[01;31m\u001b[Ksubject\u001b[m\u001b[K to the following conditions.\n"
     ]
    }
   ],
   "source": [
    "grep \"subject\" License-CC-BY-4.0   # note that grep is case-sensitive!\n"
   ]
  },
  {
   "cell_type": "code",
   "execution_count": 34,
   "metadata": {},
   "outputs": [
    {
     "ename": "",
     "evalue": "1",
     "output_type": "error",
     "traceback": []
    }
   ],
   "source": [
    "grep \"SUBJECT\" License-CC-BY-4.0  # no output, because it is case-sensitive"
   ]
  },
  {
   "cell_type": "code",
   "execution_count": 38,
   "metadata": {},
   "outputs": [
    {
     "name": "stdout",
     "output_type": "stream",
     "text": [
      "    Adapted Material means material \u001b[01;31m\u001b[Ksubject\u001b[m\u001b[K to Copyright and Similar Rights that is derived from or based upon the Licensed Material and in which the Licensed Material is translated, altered, arranged, transformed, or otherwise modified in a manner requiring permission under the Copyright and Similar Rights held by the Licensor. For purposes of this Public License, where the Licensed Material is a musical work, performance, or sound recording, Adapted Material is always produced where the Licensed Material is synched in timed relation with a moving image.\n",
      "    Licensed Rights means the rights granted to You \u001b[01;31m\u001b[Ksubject\u001b[m\u001b[K to the terms and conditions of this Public License, which are limited to all Copyright and Similar Rights that apply to Your use of the Licensed Material and that the Licensor has authority to license.\n",
      "        \u001b[01;31m\u001b[KSubject\u001b[m\u001b[K to the terms and conditions of this Public License, the Licensor hereby grants You a worldwide, royalty-free, non-sublicensable, non-exclusive, irrevocable license to exercise the Licensed Rights in the Licensed Material to:\n",
      "Your exercise of the Licensed Rights is expressly made \u001b[01;31m\u001b[Ksubject\u001b[m\u001b[K to the following conditions.\n"
     ]
    }
   ],
   "source": [
    "grep -i \"subject\" License-CC-BY-4.0  # -i means \"insensitive to case\""
   ]
  },
  {
   "cell_type": "code",
   "execution_count": 39,
   "metadata": {},
   "outputs": [
    {
     "name": "stdout",
     "output_type": "stream",
     "text": [
      "\u001b[32m\u001b[K9\u001b[m\u001b[K\u001b[36m\u001b[K:\u001b[m\u001b[K    Adapted Material means material \u001b[01;31m\u001b[Ksubject\u001b[m\u001b[K to Copyright and Similar Rights that is derived from or based upon the Licensed Material and in which the Licensed Material is translated, altered, arranged, transformed, or otherwise modified in a manner requiring permission under the Copyright and Similar Rights held by the Licensor. For purposes of this Public License, where the Licensed Material is a musical work, performance, or sound recording, Adapted Material is always produced where the Licensed Material is synched in timed relation with a moving image.\n",
      "\u001b[32m\u001b[K15\u001b[m\u001b[K\u001b[36m\u001b[K:\u001b[m\u001b[K    Licensed Rights means the rights granted to You \u001b[01;31m\u001b[Ksubject\u001b[m\u001b[K to the terms and conditions of this Public License, which are limited to all Copyright and Similar Rights that apply to Your use of the Licensed Material and that the Licensor has authority to license.\n",
      "\u001b[32m\u001b[K24\u001b[m\u001b[K\u001b[36m\u001b[K:\u001b[m\u001b[K        \u001b[01;31m\u001b[KSubject\u001b[m\u001b[K to the terms and conditions of this Public License, the Licensor hereby grants You a worldwide, royalty-free, non-sublicensable, non-exclusive, irrevocable license to exercise the Licensed Rights in the Licensed Material to:\n",
      "\u001b[32m\u001b[K42\u001b[m\u001b[K\u001b[36m\u001b[K:\u001b[m\u001b[KYour exercise of the Licensed Rights is expressly made \u001b[01;31m\u001b[Ksubject\u001b[m\u001b[K to the following conditions.\n"
     ]
    }
   ],
   "source": [
    "grep -in \"subject\" License-CC-BY-4.0   # -n asks for the line number where the match is found"
   ]
  },
  {
   "cell_type": "code",
   "execution_count": 40,
   "metadata": {},
   "outputs": [
    {
     "name": "stdout",
     "output_type": "stream",
     "text": [
      "\u001b[32m\u001b[K1\u001b[m\u001b[K\u001b[36m\u001b[K:\u001b[m\u001b[Khttps://creativecommons.org/licenses/by/4.0/\n",
      "\u001b[32m\u001b[K2\u001b[m\u001b[K\u001b[36m\u001b[K:\u001b[m\u001b[K\n",
      "\u001b[32m\u001b[K3\u001b[m\u001b[K\u001b[36m\u001b[K:\u001b[m\u001b[KCreative Commons Attribution 4.0 International Public License\n",
      "\u001b[32m\u001b[K4\u001b[m\u001b[K\u001b[36m\u001b[K:\u001b[m\u001b[K\n",
      "\u001b[32m\u001b[K5\u001b[m\u001b[K\u001b[36m\u001b[K:\u001b[m\u001b[KBy exercising the Licensed Rights (defined below), You accept and agree to be bound by the terms and conditions of this Creative Commons Attribution 4.0 International Public License (\"Public License\"). To the extent this Public License may be interpreted as a contract, You are granted the Licensed Rights in consideration of Your acceptance of these terms and conditions, and the Licensor grants You such rights in consideration of benefits the Licensor receives from making the Licensed Material available under these terms and conditions.\n",
      "\u001b[32m\u001b[K6\u001b[m\u001b[K\u001b[36m\u001b[K:\u001b[m\u001b[K\n",
      "\u001b[32m\u001b[K7\u001b[m\u001b[K\u001b[36m\u001b[K:\u001b[m\u001b[KSection 1 – Definitions.\n",
      "\u001b[32m\u001b[K8\u001b[m\u001b[K\u001b[36m\u001b[K:\u001b[m\u001b[K\n",
      "\u001b[32m\u001b[K10\u001b[m\u001b[K\u001b[36m\u001b[K:\u001b[m\u001b[K    Adapter's License means the license You apply to Your Copyright and Similar Rights in Your contributions to Adapted Material in accordance with the terms and conditions of this Public License.\n",
      "\u001b[32m\u001b[K11\u001b[m\u001b[K\u001b[36m\u001b[K:\u001b[m\u001b[K    Copyright and Similar Rights means copyright and/or similar rights closely related to copyright including, without limitation, performance, broadcast, sound recording, and Sui Generis Database Rights, without regard to how the rights are labeled or categorized. For purposes of this Public License, the rights specified in Section 2(b)(1)-(2) are not Copyright and Similar Rights.\n",
      "\u001b[32m\u001b[K12\u001b[m\u001b[K\u001b[36m\u001b[K:\u001b[m\u001b[K    Effective Technological Measures means those measures that, in the absence of proper authority, may not be circumvented under laws fulfilling obligations under Article 11 of the WIPO Copyright Treaty adopted on December 20, 1996, and/or similar international agreements.\n",
      "\u001b[32m\u001b[K13\u001b[m\u001b[K\u001b[36m\u001b[K:\u001b[m\u001b[K    Exceptions and Limitations means fair use, fair dealing, and/or any other exception or limitation to Copyright and Similar Rights that applies to Your use of the Licensed Material.\n",
      "\u001b[32m\u001b[K14\u001b[m\u001b[K\u001b[36m\u001b[K:\u001b[m\u001b[K    Licensed Material means the artistic or literary work, database, or other material to which the Licensor applied this Public License.\n",
      "\u001b[32m\u001b[K16\u001b[m\u001b[K\u001b[36m\u001b[K:\u001b[m\u001b[K    Licensor means the individual(s) or entity(ies) granting rights under this Public License.\n",
      "\u001b[32m\u001b[K17\u001b[m\u001b[K\u001b[36m\u001b[K:\u001b[m\u001b[K    Share means to provide material to the public by any means or process that requires permission under the Licensed Rights, such as reproduction, public display, public performance, distribution, dissemination, communication, or importation, and to make material available to the public including in ways that members of the public may access the material from a place and at a time individually chosen by them.\n",
      "\u001b[32m\u001b[K18\u001b[m\u001b[K\u001b[36m\u001b[K:\u001b[m\u001b[K    Sui Generis Database Rights means rights other than copyright resulting from Directive 96/9/EC of the European Parliament and of the Council of 11 March 1996 on the legal protection of databases, as amended and/or succeeded, as well as other essentially equivalent rights anywhere in the world.\n",
      "\u001b[32m\u001b[K19\u001b[m\u001b[K\u001b[36m\u001b[K:\u001b[m\u001b[K    You means the individual or entity exercising the Licensed Rights under this Public License. Your has a corresponding meaning.\n",
      "\u001b[32m\u001b[K20\u001b[m\u001b[K\u001b[36m\u001b[K:\u001b[m\u001b[K\n",
      "\u001b[32m\u001b[K21\u001b[m\u001b[K\u001b[36m\u001b[K:\u001b[m\u001b[KSection 2 – Scope.\n",
      "\u001b[32m\u001b[K22\u001b[m\u001b[K\u001b[36m\u001b[K:\u001b[m\u001b[K\n",
      "\u001b[32m\u001b[K23\u001b[m\u001b[K\u001b[36m\u001b[K:\u001b[m\u001b[K    License grant.\n",
      "\u001b[32m\u001b[K25\u001b[m\u001b[K\u001b[36m\u001b[K:\u001b[m\u001b[K            reproduce and Share the Licensed Material, in whole or in part; and\n",
      "\u001b[32m\u001b[K26\u001b[m\u001b[K\u001b[36m\u001b[K:\u001b[m\u001b[K            produce, reproduce, and Share Adapted Material.\n",
      "\u001b[32m\u001b[K27\u001b[m\u001b[K\u001b[36m\u001b[K:\u001b[m\u001b[K        Exceptions and Limitations. For the avoidance of doubt, where Exceptions and Limitations apply to Your use, this Public License does not apply, and You do not need to comply with its terms and conditions.\n",
      "\u001b[32m\u001b[K28\u001b[m\u001b[K\u001b[36m\u001b[K:\u001b[m\u001b[K        Term. The term of this Public License is specified in Section 6(a).\n",
      "\u001b[32m\u001b[K29\u001b[m\u001b[K\u001b[36m\u001b[K:\u001b[m\u001b[K        Media and formats; technical modifications allowed. The Licensor authorizes You to exercise the Licensed Rights in all media and formats whether now known or hereafter created, and to make technical modifications necessary to do so. The Licensor waives and/or agrees not to assert any right or authority to forbid You from making technical modifications necessary to exercise the Licensed Rights, including technical modifications necessary to circumvent Effective Technological Measures. For purposes of this Public License, simply making modifications authorized by this Section 2(a)(4) never produces Adapted Material.\n",
      "\u001b[32m\u001b[K30\u001b[m\u001b[K\u001b[36m\u001b[K:\u001b[m\u001b[K        Downstream recipients.\n",
      "\u001b[32m\u001b[K31\u001b[m\u001b[K\u001b[36m\u001b[K:\u001b[m\u001b[K            Offer from the Licensor – Licensed Material. Every recipient of the Licensed Material automatically receives an offer from the Licensor to exercise the Licensed Rights under the terms and conditions of this Public License.\n",
      "\u001b[32m\u001b[K32\u001b[m\u001b[K\u001b[36m\u001b[K:\u001b[m\u001b[K            No downstream restrictions. You may not offer or impose any additional or different terms or conditions on, or apply any Effective Technological Measures to, the Licensed Material if doing so restricts exercise of the Licensed Rights by any recipient of the Licensed Material.\n",
      "\u001b[32m\u001b[K33\u001b[m\u001b[K\u001b[36m\u001b[K:\u001b[m\u001b[K        No endorsement. Nothing in this Public License constitutes or may be construed as permission to assert or imply that You are, or that Your use of the Licensed Material is, connected with, or sponsored, endorsed, or granted official status by, the Licensor or others designated to receive attribution as provided in Section 3(a)(1)(A)(i).\n",
      "\u001b[32m\u001b[K34\u001b[m\u001b[K\u001b[36m\u001b[K:\u001b[m\u001b[K\n",
      "\u001b[32m\u001b[K35\u001b[m\u001b[K\u001b[36m\u001b[K:\u001b[m\u001b[K    Other rights.\n",
      "\u001b[32m\u001b[K36\u001b[m\u001b[K\u001b[36m\u001b[K:\u001b[m\u001b[K        Moral rights, such as the right of integrity, are not licensed under this Public License, nor are publicity, privacy, and/or other similar personality rights; however, to the extent possible, the Licensor waives and/or agrees not to assert any such rights held by the Licensor to the limited extent necessary to allow You to exercise the Licensed Rights, but not otherwise.\n",
      "\u001b[32m\u001b[K37\u001b[m\u001b[K\u001b[36m\u001b[K:\u001b[m\u001b[K        Patent and trademark rights are not licensed under this Public License.\n",
      "\u001b[32m\u001b[K38\u001b[m\u001b[K\u001b[36m\u001b[K:\u001b[m\u001b[K        To the extent possible, the Licensor waives any right to collect royalties from You for the exercise of the Licensed Rights, whether directly or through a collecting society under any voluntary or waivable statutory or compulsory licensing scheme. In all other cases the Licensor expressly reserves any right to collect such royalties.\n",
      "\u001b[32m\u001b[K39\u001b[m\u001b[K\u001b[36m\u001b[K:\u001b[m\u001b[K\n",
      "\u001b[32m\u001b[K40\u001b[m\u001b[K\u001b[36m\u001b[K:\u001b[m\u001b[KSection 3 – License Conditions.\n",
      "\u001b[32m\u001b[K41\u001b[m\u001b[K\u001b[36m\u001b[K:\u001b[m\u001b[K\n",
      "\u001b[32m\u001b[K43\u001b[m\u001b[K\u001b[36m\u001b[K:\u001b[m\u001b[K\n",
      "\u001b[32m\u001b[K44\u001b[m\u001b[K\u001b[36m\u001b[K:\u001b[m\u001b[K    Attribution.\n",
      "\u001b[32m\u001b[K45\u001b[m\u001b[K\u001b[36m\u001b[K:\u001b[m\u001b[K\n",
      "\u001b[32m\u001b[K46\u001b[m\u001b[K\u001b[36m\u001b[K:\u001b[m\u001b[K        If You Share the Licensed Material (including in modified form), You must:\n",
      "\u001b[32m\u001b[K47\u001b[m\u001b[K\u001b[36m\u001b[K:\u001b[m\u001b[K            retain the following if it is supplied by the Licensor with the Licensed Material:\n",
      "\u001b[32m\u001b[K48\u001b[m\u001b[K\u001b[36m\u001b[K:\u001b[m\u001b[K                identification of the creator(s) of the Licensed Material and any others designated to receive attribution, in any reasonable manner requested by the Licensor (including by pseudonym if designated);\n",
      "\u001b[32m\u001b[K49\u001b[m\u001b[K\u001b[36m\u001b[K:\u001b[m\u001b[K                a copyright notice;\n",
      "\u001b[32m\u001b[K50\u001b[m\u001b[K\u001b[36m\u001b[K:\u001b[m\u001b[K                a notice that refers to this Public License;\n",
      "\u001b[32m\u001b[K51\u001b[m\u001b[K\u001b[36m\u001b[K:\u001b[m\u001b[K                a notice that refers to the disclaimer of warranties;\n",
      "\u001b[32m\u001b[K52\u001b[m\u001b[K\u001b[36m\u001b[K:\u001b[m\u001b[K                a URI or hyperlink to the Licensed Material to the extent reasonably practicable;\n",
      "\u001b[32m\u001b[K53\u001b[m\u001b[K\u001b[36m\u001b[K:\u001b[m\u001b[K            indicate if You modified the Licensed Material and retain an indication of any previous modifications; and\n",
      "\u001b[32m\u001b[K54\u001b[m\u001b[K\u001b[36m\u001b[K:\u001b[m\u001b[K            indicate the Licensed Material is licensed under this Public License, and include the text of, or the URI or hyperlink to, this Public License.\n",
      "\u001b[32m\u001b[K55\u001b[m\u001b[K\u001b[36m\u001b[K:\u001b[m\u001b[K        You may satisfy the conditions in Section 3(a)(1) in any reasonable manner based on the medium, means, and context in which You Share the Licensed Material. For example, it may be reasonable to satisfy the conditions by providing a URI or hyperlink to a resource that includes the required information.\n"
     ]
    },
    {
     "name": "stdout",
     "output_type": "stream",
     "text": [
      "\u001b[32m\u001b[K56\u001b[m\u001b[K\u001b[36m\u001b[K:\u001b[m\u001b[K        If requested by the Licensor, You must remove any of the information required by Section 3(a)(1)(A) to the extent reasonably practicable.\n",
      "\u001b[32m\u001b[K57\u001b[m\u001b[K\u001b[36m\u001b[K:\u001b[m\u001b[K        If You Share Adapted Material You produce, the Adapter's License You apply must not prevent recipients of the Adapted Material from complying with this Public License.\n",
      "\u001b[32m\u001b[K58\u001b[m\u001b[K\u001b[36m\u001b[K:\u001b[m\u001b[K\n",
      "\u001b[32m\u001b[K59\u001b[m\u001b[K\u001b[36m\u001b[K:\u001b[m\u001b[KSection 4 – Sui Generis Database Rights.\n",
      "\u001b[32m\u001b[K60\u001b[m\u001b[K\u001b[36m\u001b[K:\u001b[m\u001b[K\n",
      "\u001b[32m\u001b[K61\u001b[m\u001b[K\u001b[36m\u001b[K:\u001b[m\u001b[KWhere the Licensed Rights include Sui Generis Database Rights that apply to Your use of the Licensed Material:\n",
      "\u001b[32m\u001b[K62\u001b[m\u001b[K\u001b[36m\u001b[K:\u001b[m\u001b[K\n",
      "\u001b[32m\u001b[K63\u001b[m\u001b[K\u001b[36m\u001b[K:\u001b[m\u001b[K    for the avoidance of doubt, Section 2(a)(1) grants You the right to extract, reuse, reproduce, and Share all or a substantial portion of the contents of the database;\n",
      "\u001b[32m\u001b[K64\u001b[m\u001b[K\u001b[36m\u001b[K:\u001b[m\u001b[K    if You include all or a substantial portion of the database contents in a database in which You have Sui Generis Database Rights, then the database in which You have Sui Generis Database Rights (but not its individual contents) is Adapted Material; and\n",
      "\u001b[32m\u001b[K65\u001b[m\u001b[K\u001b[36m\u001b[K:\u001b[m\u001b[K    You must comply with the conditions in Section 3(a) if You Share all or a substantial portion of the contents of the database.\n",
      "\u001b[32m\u001b[K66\u001b[m\u001b[K\u001b[36m\u001b[K:\u001b[m\u001b[K\n",
      "\u001b[32m\u001b[K67\u001b[m\u001b[K\u001b[36m\u001b[K:\u001b[m\u001b[KFor the avoidance of doubt, this Section 4 supplements and does not replace Your obligations under this Public License where the Licensed Rights include other Copyright and Similar Rights.\n",
      "\u001b[32m\u001b[K68\u001b[m\u001b[K\u001b[36m\u001b[K:\u001b[m\u001b[K\n",
      "\u001b[32m\u001b[K69\u001b[m\u001b[K\u001b[36m\u001b[K:\u001b[m\u001b[KSection 5 – Disclaimer of Warranties and Limitation of Liability.\n",
      "\u001b[32m\u001b[K70\u001b[m\u001b[K\u001b[36m\u001b[K:\u001b[m\u001b[K\n",
      "\u001b[32m\u001b[K71\u001b[m\u001b[K\u001b[36m\u001b[K:\u001b[m\u001b[K    Unless otherwise separately undertaken by the Licensor, to the extent possible, the Licensor offers the Licensed Material as-is and as-available, and makes no representations or warranties of any kind concerning the Licensed Material, whether express, implied, statutory, or other. This includes, without limitation, warranties of title, merchantability, fitness for a particular purpose, non-infringement, absence of latent or other defects, accuracy, or the presence or absence of errors, whether or not known or discoverable. Where disclaimers of warranties are not allowed in full or in part, this disclaimer may not apply to You.\n",
      "\u001b[32m\u001b[K72\u001b[m\u001b[K\u001b[36m\u001b[K:\u001b[m\u001b[K    To the extent possible, in no event will the Licensor be liable to You on any legal theory (including, without limitation, negligence) or otherwise for any direct, special, indirect, incidental, consequential, punitive, exemplary, or other losses, costs, expenses, or damages arising out of this Public License or use of the Licensed Material, even if the Licensor has been advised of the possibility of such losses, costs, expenses, or damages. Where a limitation of liability is not allowed in full or in part, this limitation may not apply to You.\n",
      "\u001b[32m\u001b[K73\u001b[m\u001b[K\u001b[36m\u001b[K:\u001b[m\u001b[K\n",
      "\u001b[32m\u001b[K74\u001b[m\u001b[K\u001b[36m\u001b[K:\u001b[m\u001b[K    The disclaimer of warranties and limitation of liability provided above shall be interpreted in a manner that, to the extent possible, most closely approximates an absolute disclaimer and waiver of all liability.\n",
      "\u001b[32m\u001b[K75\u001b[m\u001b[K\u001b[36m\u001b[K:\u001b[m\u001b[K\n",
      "\u001b[32m\u001b[K76\u001b[m\u001b[K\u001b[36m\u001b[K:\u001b[m\u001b[KSection 6 – Term and Termination.\n",
      "\u001b[32m\u001b[K77\u001b[m\u001b[K\u001b[36m\u001b[K:\u001b[m\u001b[K\n",
      "\u001b[32m\u001b[K78\u001b[m\u001b[K\u001b[36m\u001b[K:\u001b[m\u001b[K    This Public License applies for the term of the Copyright and Similar Rights licensed here. However, if You fail to comply with this Public License, then Your rights under this Public License terminate automatically.\n",
      "\u001b[32m\u001b[K79\u001b[m\u001b[K\u001b[36m\u001b[K:\u001b[m\u001b[K\n",
      "\u001b[32m\u001b[K80\u001b[m\u001b[K\u001b[36m\u001b[K:\u001b[m\u001b[K    Where Your right to use the Licensed Material has terminated under Section 6(a), it reinstates:\n",
      "\u001b[32m\u001b[K81\u001b[m\u001b[K\u001b[36m\u001b[K:\u001b[m\u001b[K        automatically as of the date the violation is cured, provided it is cured within 30 days of Your discovery of the violation; or\n",
      "\u001b[32m\u001b[K82\u001b[m\u001b[K\u001b[36m\u001b[K:\u001b[m\u001b[K        upon express reinstatement by the Licensor.\n",
      "\u001b[32m\u001b[K83\u001b[m\u001b[K\u001b[36m\u001b[K:\u001b[m\u001b[K    For the avoidance of doubt, this Section 6(b) does not affect any right the Licensor may have to seek remedies for Your violations of this Public License.\n",
      "\u001b[32m\u001b[K84\u001b[m\u001b[K\u001b[36m\u001b[K:\u001b[m\u001b[K    For the avoidance of doubt, the Licensor may also offer the Licensed Material under separate terms or conditions or stop distributing the Licensed Material at any time; however, doing so will not terminate this Public License.\n",
      "\u001b[32m\u001b[K85\u001b[m\u001b[K\u001b[36m\u001b[K:\u001b[m\u001b[K    Sections 1, 5, 6, 7, and 8 survive termination of this Public License.\n",
      "\u001b[32m\u001b[K86\u001b[m\u001b[K\u001b[36m\u001b[K:\u001b[m\u001b[K\n",
      "\u001b[32m\u001b[K87\u001b[m\u001b[K\u001b[36m\u001b[K:\u001b[m\u001b[KSection 7 – Other Terms and Conditions.\n",
      "\u001b[32m\u001b[K88\u001b[m\u001b[K\u001b[36m\u001b[K:\u001b[m\u001b[K\n",
      "\u001b[32m\u001b[K89\u001b[m\u001b[K\u001b[36m\u001b[K:\u001b[m\u001b[K    The Licensor shall not be bound by any additional or different terms or conditions communicated by You unless expressly agreed.\n",
      "\u001b[32m\u001b[K90\u001b[m\u001b[K\u001b[36m\u001b[K:\u001b[m\u001b[K    Any arrangements, understandings, or agreements regarding the Licensed Material not stated herein are separate from and independent of the terms and conditions of this Public License.\n",
      "\u001b[32m\u001b[K91\u001b[m\u001b[K\u001b[36m\u001b[K:\u001b[m\u001b[K\n",
      "\u001b[32m\u001b[K92\u001b[m\u001b[K\u001b[36m\u001b[K:\u001b[m\u001b[KSection 8 – Interpretation.\n",
      "\u001b[32m\u001b[K93\u001b[m\u001b[K\u001b[36m\u001b[K:\u001b[m\u001b[K\n",
      "\u001b[32m\u001b[K94\u001b[m\u001b[K\u001b[36m\u001b[K:\u001b[m\u001b[K    For the avoidance of doubt, this Public License does not, and shall not be interpreted to, reduce, limit, restrict, or impose conditions on any use of the Licensed Material that could lawfully be made without permission under this Public License.\n",
      "\u001b[32m\u001b[K95\u001b[m\u001b[K\u001b[36m\u001b[K:\u001b[m\u001b[K    To the extent possible, if any provision of this Public License is deemed unenforceable, it shall be automatically reformed to the minimum extent necessary to make it enforceable. If the provision cannot be reformed, it shall be severed from this Public License without affecting the enforceability of the remaining terms and conditions.\n",
      "\u001b[32m\u001b[K96\u001b[m\u001b[K\u001b[36m\u001b[K:\u001b[m\u001b[K    No term or condition of this Public License will be waived and no failure to comply consented to unless expressly agreed to by the Licensor.\n",
      "\u001b[32m\u001b[K97\u001b[m\u001b[K\u001b[36m\u001b[K:\u001b[m\u001b[K    Nothing in this Public License constitutes or may be interpreted as a limitation upon, or waiver of, any privileges and immunities that apply to the Licensor or You, including from the legal processes of any jurisdiction or authority.\n",
      "\u001b[32m\u001b[K98\u001b[m\u001b[K\u001b[36m\u001b[K:\u001b[m\u001b[K\n",
      "\u001b[32m\u001b[K99\u001b[m\u001b[K\u001b[36m\u001b[K:\u001b[m\u001b[KCreative Commons is not a party to its public licenses. Notwithstanding, Creative Commons may elect to apply one of its public licenses to material it publishes and in those instances will be considered the “Licensor.” The text of the Creative Commons public licenses is dedicated to the public domain under the CC0 Public Domain Dedication. Except for the limited purpose of indicating that material is shared under a Creative Commons public license or as otherwise permitted by the Creative Commons policies published at creativecommons.org/policies, Creative Commons does not authorize the use of the trademark “Creative Commons” or any other trademark or logo of Creative Commons without its prior written consent including, without limitation, in connection with any unauthorized modifications to any of its public licenses or any other arrangements, understandings, or agreements concerning use of licensed material. For the avoidance of doubt, this paragraph does not form part of the public licenses.\n"
     ]
    }
   ],
   "source": [
    "grep -vin \"subject\" License-CC-BY-4.0   # -v means \"any line that DOES NOT match\""
   ]
  },
  {
   "cell_type": "code",
   "execution_count": 41,
   "metadata": {},
   "outputs": [
    {
     "name": "stdout",
     "output_type": "stream",
     "text": [
      "\u001b[35m\u001b[KLicense-CC-BY-4.0\u001b[m\u001b[K\u001b[36m\u001b[K:\u001b[m\u001b[K\u001b[32m\u001b[K9\u001b[m\u001b[K\u001b[36m\u001b[K:\u001b[m\u001b[K    Adapted Material means material \u001b[01;31m\u001b[Ksubject\u001b[m\u001b[K to Copyright and Similar Rights that is derived from or based upon the Licensed Material and in which the Licensed Material is translated, altered, arranged, transformed, or otherwise modified in a manner requiring permission under the Copyright and Similar Rights held by the Licensor. For purposes of this Public License, where the Licensed Material is a musical work, performance, or sound recording, Adapted Material is always produced where the Licensed Material is synched in timed relation with a moving image.\n",
      "\u001b[35m\u001b[KLicense-CC-BY-4.0\u001b[m\u001b[K\u001b[36m\u001b[K:\u001b[m\u001b[K\u001b[32m\u001b[K15\u001b[m\u001b[K\u001b[36m\u001b[K:\u001b[m\u001b[K    Licensed Rights means the rights granted to You \u001b[01;31m\u001b[Ksubject\u001b[m\u001b[K to the terms and conditions of this Public License, which are limited to all Copyright and Similar Rights that apply to Your use of the Licensed Material and that the Licensor has authority to license.\n",
      "\u001b[35m\u001b[KLicense-CC-BY-4.0\u001b[m\u001b[K\u001b[36m\u001b[K:\u001b[m\u001b[K\u001b[32m\u001b[K24\u001b[m\u001b[K\u001b[36m\u001b[K:\u001b[m\u001b[K        \u001b[01;31m\u001b[KSubject\u001b[m\u001b[K to the terms and conditions of this Public License, the Licensor hereby grants You a worldwide, royalty-free, non-sublicensable, non-exclusive, irrevocable license to exercise the Licensed Rights in the Licensed Material to:\n",
      "\u001b[35m\u001b[KLicense-CC-BY-4.0\u001b[m\u001b[K\u001b[36m\u001b[K:\u001b[m\u001b[K\u001b[32m\u001b[K42\u001b[m\u001b[K\u001b[36m\u001b[K:\u001b[m\u001b[KYour exercise of the Licensed Rights is expressly made \u001b[01;31m\u001b[Ksubject\u001b[m\u001b[K to the following conditions.\n",
      "\u001b[35m\u001b[KWelcome!.ipynb\u001b[m\u001b[K\u001b[36m\u001b[K:\u001b[m\u001b[K\u001b[32m\u001b[K1137\u001b[m\u001b[K\u001b[36m\u001b[K:\u001b[m\u001b[K      \"    Adapted Material means material \\u001b[01;31m\\u001b[K\u001b[01;31m\u001b[Ksubject\u001b[m\u001b[K\\u001b[m\\u001b[K to Copyright and Similar Rights that is derived from or based upon the Licensed Material and in which the Licensed Material is translated, altered, arranged, transformed, or otherwise modified in a manner requiring permission under the Copyright and Similar Rights held by the Licensor. For purposes of this Public License, where the Licensed Material is a musical work, performance, or sound recording, Adapted Material is always produced where the Licensed Material is synched in timed relation with a moving image.\\n\",\n",
      "\u001b[35m\u001b[KWelcome!.ipynb\u001b[m\u001b[K\u001b[36m\u001b[K:\u001b[m\u001b[K\u001b[32m\u001b[K1138\u001b[m\u001b[K\u001b[36m\u001b[K:\u001b[m\u001b[K      \"    Licensed Rights means the rights granted to You \\u001b[01;31m\\u001b[K\u001b[01;31m\u001b[Ksubject\u001b[m\u001b[K\\u001b[m\\u001b[K to the terms and conditions of this Public License, which are limited to all Copyright and Similar Rights that apply to Your use of the Licensed Material and that the Licensor has authority to license.\\n\",\n",
      "\u001b[35m\u001b[KWelcome!.ipynb\u001b[m\u001b[K\u001b[36m\u001b[K:\u001b[m\u001b[K\u001b[32m\u001b[K1139\u001b[m\u001b[K\u001b[36m\u001b[K:\u001b[m\u001b[K      \"Your exercise of the Licensed Rights is expressly made \\u001b[01;31m\\u001b[K\u001b[01;31m\u001b[Ksubject\u001b[m\u001b[K\\u001b[m\\u001b[K to the following conditions.\\n\"\n",
      "\u001b[35m\u001b[KWelcome!.ipynb\u001b[m\u001b[K\u001b[36m\u001b[K:\u001b[m\u001b[K\u001b[32m\u001b[K1144\u001b[m\u001b[K\u001b[36m\u001b[K:\u001b[m\u001b[K    \"grep \\\"\u001b[01;31m\u001b[Ksubject\u001b[m\u001b[K\\\" License-CC-BY-4.0   # note that grep is case-sensitive!\\n\"\n",
      "\u001b[35m\u001b[KWelcome!.ipynb\u001b[m\u001b[K\u001b[36m\u001b[K:\u001b[m\u001b[K\u001b[32m\u001b[K1160\u001b[m\u001b[K\u001b[36m\u001b[K:\u001b[m\u001b[K    \"grep \\\"\u001b[01;31m\u001b[KSUBJECT\u001b[m\u001b[K\\\" License-CC-BY-4.0  # no output, because it is case-sensitive\"\n",
      "\u001b[35m\u001b[KWelcome!.ipynb\u001b[m\u001b[K\u001b[36m\u001b[K:\u001b[m\u001b[K\u001b[32m\u001b[K1172\u001b[m\u001b[K\u001b[36m\u001b[K:\u001b[m\u001b[K      \"    Adapted Material means material \\u001b[01;31m\\u001b[K\u001b[01;31m\u001b[Ksubject\u001b[m\u001b[K\\u001b[m\\u001b[K to Copyright and Similar Rights that is derived from or based upon the Licensed Material and in which the Licensed Material is translated, altered, arranged, transformed, or otherwise modified in a manner requiring permission under the Copyright and Similar Rights held by the Licensor. For purposes of this Public License, where the Licensed Material is a musical work, performance, or sound recording, Adapted Material is always produced where the Licensed Material is synched in timed relation with a moving image.\\n\",\n",
      "\u001b[35m\u001b[KWelcome!.ipynb\u001b[m\u001b[K\u001b[36m\u001b[K:\u001b[m\u001b[K\u001b[32m\u001b[K1173\u001b[m\u001b[K\u001b[36m\u001b[K:\u001b[m\u001b[K      \"    Licensed Rights means the rights granted to You \\u001b[01;31m\\u001b[K\u001b[01;31m\u001b[Ksubject\u001b[m\u001b[K\\u001b[m\\u001b[K to the terms and conditions of this Public License, which are limited to all Copyright and Similar Rights that apply to Your use of the Licensed Material and that the Licensor has authority to license.\\n\",\n",
      "\u001b[35m\u001b[KWelcome!.ipynb\u001b[m\u001b[K\u001b[36m\u001b[K:\u001b[m\u001b[K\u001b[32m\u001b[K1174\u001b[m\u001b[K\u001b[36m\u001b[K:\u001b[m\u001b[K      \"        \\u001b[01;31m\\u001b[K\u001b[01;31m\u001b[KSubject\u001b[m\u001b[K\\u001b[m\\u001b[K to the terms and conditions of this Public License, the Licensor hereby grants You a worldwide, royalty-free, non-sublicensable, non-exclusive, irrevocable license to exercise the Licensed Rights in the Licensed Material to:\\n\",\n",
      "\u001b[35m\u001b[KWelcome!.ipynb\u001b[m\u001b[K\u001b[36m\u001b[K:\u001b[m\u001b[K\u001b[32m\u001b[K1175\u001b[m\u001b[K\u001b[36m\u001b[K:\u001b[m\u001b[K      \"Your exercise of the Licensed Rights is expressly made \\u001b[01;31m\\u001b[K\u001b[01;31m\u001b[Ksubject\u001b[m\u001b[K\\u001b[m\\u001b[K to the following conditions.\\n\"\n",
      "\u001b[35m\u001b[KWelcome!.ipynb\u001b[m\u001b[K\u001b[36m\u001b[K:\u001b[m\u001b[K\u001b[32m\u001b[K1180\u001b[m\u001b[K\u001b[36m\u001b[K:\u001b[m\u001b[K    \"grep -i \\\"\u001b[01;31m\u001b[Ksubject\u001b[m\u001b[K\\\" License-CC-BY-4.0  # -i means \\\"insensitive to case\\\"\"\n",
      "\u001b[35m\u001b[KWelcome!.ipynb\u001b[m\u001b[K\u001b[36m\u001b[K:\u001b[m\u001b[K\u001b[32m\u001b[K1192\u001b[m\u001b[K\u001b[36m\u001b[K:\u001b[m\u001b[K      \"\\u001b[32m\\u001b[K9\\u001b[m\\u001b[K\\u001b[36m\\u001b[K:\\u001b[m\\u001b[K    Adapted Material means material \\u001b[01;31m\\u001b[K\u001b[01;31m\u001b[Ksubject\u001b[m\u001b[K\\u001b[m\\u001b[K to Copyright and Similar Rights that is derived from or based upon the Licensed Material and in which the Licensed Material is translated, altered, arranged, transformed, or otherwise modified in a manner requiring permission under the Copyright and Similar Rights held by the Licensor. For purposes of this Public License, where the Licensed Material is a musical work, performance, or sound recording, Adapted Material is always produced where the Licensed Material is synched in timed relation with a moving image.\\n\",\n",
      "\u001b[35m\u001b[KWelcome!.ipynb\u001b[m\u001b[K\u001b[36m\u001b[K:\u001b[m\u001b[K\u001b[32m\u001b[K1193\u001b[m\u001b[K\u001b[36m\u001b[K:\u001b[m\u001b[K      \"\\u001b[32m\\u001b[K15\\u001b[m\\u001b[K\\u001b[36m\\u001b[K:\\u001b[m\\u001b[K    Licensed Rights means the rights granted to You \\u001b[01;31m\\u001b[K\u001b[01;31m\u001b[Ksubject\u001b[m\u001b[K\\u001b[m\\u001b[K to the terms and conditions of this Public License, which are limited to all Copyright and Similar Rights that apply to Your use of the Licensed Material and that the Licensor has authority to license.\\n\",\n",
      "\u001b[35m\u001b[KWelcome!.ipynb\u001b[m\u001b[K\u001b[36m\u001b[K:\u001b[m\u001b[K\u001b[32m\u001b[K1194\u001b[m\u001b[K\u001b[36m\u001b[K:\u001b[m\u001b[K      \"\\u001b[32m\\u001b[K24\\u001b[m\\u001b[K\\u001b[36m\\u001b[K:\\u001b[m\\u001b[K        \\u001b[01;31m\\u001b[K\u001b[01;31m\u001b[KSubject\u001b[m\u001b[K\\u001b[m\\u001b[K to the terms and conditions of this Public License, the Licensor hereby grants You a worldwide, royalty-free, non-sublicensable, non-exclusive, irrevocable license to exercise the Licensed Rights in the Licensed Material to:\\n\",\n",
      "\u001b[35m\u001b[KWelcome!.ipynb\u001b[m\u001b[K\u001b[36m\u001b[K:\u001b[m\u001b[K\u001b[32m\u001b[K1195\u001b[m\u001b[K\u001b[36m\u001b[K:\u001b[m\u001b[K      \"\\u001b[32m\\u001b[K42\\u001b[m\\u001b[K\\u001b[36m\\u001b[K:\\u001b[m\\u001b[KYour exercise of the Licensed Rights is expressly made \\u001b[01;31m\\u001b[K\u001b[01;31m\u001b[Ksubject\u001b[m\u001b[K\\u001b[m\\u001b[K to the following conditions.\\n\"\n",
      "\u001b[35m\u001b[KWelcome!.ipynb\u001b[m\u001b[K\u001b[36m\u001b[K:\u001b[m\u001b[K\u001b[32m\u001b[K1200\u001b[m\u001b[K\u001b[36m\u001b[K:\u001b[m\u001b[K    \"grep -in \\\"\u001b[01;31m\u001b[Ksubject\u001b[m\u001b[K\\\" License-CC-BY-4.0   # -n asks for the line number where the match is found\"\n",
      "\u001b[35m\u001b[KWelcome!.ipynb\u001b[m\u001b[K\u001b[36m\u001b[K:\u001b[m\u001b[K\u001b[32m\u001b[K1317\u001b[m\u001b[K\u001b[36m\u001b[K:\u001b[m\u001b[K    \"grep -vin \\\"\u001b[01;31m\u001b[Ksubject\u001b[m\u001b[K\\\" License-CC-BY-4.0   # -v means \\\"any line that DOES NOT match\\\"\"\n"
     ]
    }
   ],
   "source": [
    "grep -in \"subject\" *   # you can query ALL of the files in a folder!"
   ]
  },
  {
   "cell_type": "code",
   "execution_count": 59,
   "metadata": {},
   "outputs": [
    {
     "name": "stdout",
     "output_type": "stream",
     "text": [
      "\u001b[35m\u001b[KLicense-CC-BY-4.0\u001b[m\u001b[K\n",
      "\u001b[35m\u001b[KWelcome!.ipynb\u001b[m\u001b[K\n"
     ]
    }
   ],
   "source": [
    "grep  -lin \"subject\" *   # -l means \"just the filename\""
   ]
  },
  {
   "cell_type": "markdown",
   "metadata": {},
   "source": [
    "# Regular Expressions (RegEx/RegExp)\n",
    "\n",
    "Regular expressions are ways to match text in a flexible way.  Effectively, \"it should look something like this pattern\". \n",
    "\n",
    "The patterns available are:\n",
    "\n",
    "   * \\w    a \"word character\" (a-z, A-Z, 0-9, _)\n",
    "   * \\W    the opposite of \\w\n",
    "   * [0-9]  any number\n",
    "   * \\s    a space (space, tab, or newline)\n",
    "   * \\S    the opposite of \\s\n",
    "   * ^     must be at the beginning of a line\n",
    "   * $     must be at the end of a line\n",
    "   \n",
    "   EXTENDED REGULAR EXPRESSIONS  (requires -E command line argument)\n",
    "   \n",
    "   * ?     optional\n",
    "   * .     match ANYTHING\n",
    "   * '+'     one or more times\n",
    "   * {number}   match exactly 'number' times\n",
    "  \n",
    "We will do more regular expressions when we start learning Python, but here are some examples that can be used with grep\n"
   ]
  },
  {
   "cell_type": "code",
   "execution_count": 45,
   "metadata": {},
   "outputs": [
    {
     "name": "stdout",
     "output_type": "stream",
     "text": [
      "\u001b[32m\u001b[K5\u001b[m\u001b[K\u001b[36m\u001b[K:\u001b[m\u001b[KBy exercising the Licen\u001b[01;31m\u001b[Ksed \u001b[m\u001b[KRights (defined below), You accept and agree to be bound by the terms and conditions of this Creative Commons Attribution 4.0 International Public License (\"Public License\"). To the extent this Public License may be interpreted as a contract, You are granted the Licen\u001b[01;31m\u001b[Ksed \u001b[m\u001b[KRights in consideration of Your acceptance of these terms and conditions, and the Licen\u001b[01;31m\u001b[Ksor \u001b[m\u001b[Kgrants You such rights in consideration of benefits the Licen\u001b[01;31m\u001b[Ksor \u001b[m\u001b[Kreceives from making the Licen\u001b[01;31m\u001b[Ksed \u001b[m\u001b[KMaterial available under these terms and conditions.\n",
      "\u001b[32m\u001b[K9\u001b[m\u001b[K\u001b[36m\u001b[K:\u001b[m\u001b[K    Adapted Material means material subject to Copyright and Similar Rights that is derived from or ba\u001b[01;31m\u001b[Ksed \u001b[m\u001b[Kupon the Licen\u001b[01;31m\u001b[Ksed \u001b[m\u001b[KMaterial and in which the Licen\u001b[01;31m\u001b[Ksed \u001b[m\u001b[KMaterial is translated, altered, arranged, transformed, or otherwise modified in a manner requiring permission under the Copyright and Similar Rights held by the Licensor. For purpo\u001b[01;31m\u001b[Kses \u001b[m\u001b[Kof this Public License, where the Licen\u001b[01;31m\u001b[Ksed \u001b[m\u001b[KMaterial is a musical work, performance, or sound recording, Adapted Material is always produced where the Licen\u001b[01;31m\u001b[Ksed \u001b[m\u001b[KMaterial is synched in timed relation with a moving image.\n",
      "\u001b[32m\u001b[K11\u001b[m\u001b[K\u001b[36m\u001b[K:\u001b[m\u001b[K    Copyright and Similar Rights means copyright and/or similar rights closely related to copyright including, without limitation, performance, broadcast, sound recording, and \u001b[01;31m\u001b[KSui \u001b[m\u001b[KGeneris Database Rights, without regard to how the rights are labeled or categorized. For purpo\u001b[01;31m\u001b[Kses \u001b[m\u001b[Kof this Public License, the rights specified in Section 2(b)(1)-(2) are not Copyright and Similar Rights.\n",
      "\u001b[32m\u001b[K13\u001b[m\u001b[K\u001b[36m\u001b[K:\u001b[m\u001b[K    Exceptions and Limitations means fair use, fair dealing, and/or any other exception or limitation to Copyright and Similar Rights that applies to Your use of the Licen\u001b[01;31m\u001b[Ksed \u001b[m\u001b[KMaterial.\n",
      "\u001b[32m\u001b[K14\u001b[m\u001b[K\u001b[36m\u001b[K:\u001b[m\u001b[K    Licen\u001b[01;31m\u001b[Ksed \u001b[m\u001b[KMaterial means the artistic or literary work, database, or other material to which the Licen\u001b[01;31m\u001b[Ksor \u001b[m\u001b[Kapplied this Public License.\n",
      "\u001b[32m\u001b[K15\u001b[m\u001b[K\u001b[36m\u001b[K:\u001b[m\u001b[K    Licen\u001b[01;31m\u001b[Ksed \u001b[m\u001b[KRights means the rights granted to You subject to the terms and conditions of this Public License, which are limited to all Copyright and Similar Rights that apply to Your use of the Licen\u001b[01;31m\u001b[Ksed \u001b[m\u001b[KMaterial and that the Licen\u001b[01;31m\u001b[Ksor \u001b[m\u001b[Khas authority to license.\n",
      "\u001b[32m\u001b[K16\u001b[m\u001b[K\u001b[36m\u001b[K:\u001b[m\u001b[K    Licen\u001b[01;31m\u001b[Ksor \u001b[m\u001b[Kmeans the individual(s) or entity(ies) granting rights under this Public License.\n",
      "\u001b[32m\u001b[K17\u001b[m\u001b[K\u001b[36m\u001b[K:\u001b[m\u001b[K    Share means to provide material to the public by any means or process that requires permission under the Licen\u001b[01;31m\u001b[Ksed \u001b[m\u001b[KRights, such as reproduction, public display, public performance, distribution, dissemination, communication, or importation, and to make material available to the public including in ways that members of the public may access the material from a place and at a time individually cho\u001b[01;31m\u001b[Ksen \u001b[m\u001b[Kby them.\n",
      "\u001b[32m\u001b[K18\u001b[m\u001b[K\u001b[36m\u001b[K:\u001b[m\u001b[K    \u001b[01;31m\u001b[KSui \u001b[m\u001b[KGeneris Database Rights means rights other than copyright resulting from Directive 96/9/EC of the European Parliament and of the Council of 11 March 1996 on the legal protection of databases, as amended and/or succeeded, as well as other essentially equivalent rights anywhere in the world.\n",
      "\u001b[32m\u001b[K19\u001b[m\u001b[K\u001b[36m\u001b[K:\u001b[m\u001b[K    You means the individual or entity exercising the Licen\u001b[01;31m\u001b[Ksed \u001b[m\u001b[KRights under this Public License. Your has a corresponding meaning.\n",
      "\u001b[32m\u001b[K24\u001b[m\u001b[K\u001b[36m\u001b[K:\u001b[m\u001b[K        Subject to the terms and conditions of this Public License, the Licen\u001b[01;31m\u001b[Ksor \u001b[m\u001b[Khereby grants You a worldwide, royalty-free, non-sublicensable, non-exclusive, irrevocable license to exercise the Licen\u001b[01;31m\u001b[Ksed \u001b[m\u001b[KRights in the Licen\u001b[01;31m\u001b[Ksed \u001b[m\u001b[KMaterial to:\n",
      "\u001b[32m\u001b[K25\u001b[m\u001b[K\u001b[36m\u001b[K:\u001b[m\u001b[K            reproduce and Share the Licen\u001b[01;31m\u001b[Ksed \u001b[m\u001b[KMaterial, in whole or in part; and\n",
      "\u001b[32m\u001b[K29\u001b[m\u001b[K\u001b[36m\u001b[K:\u001b[m\u001b[K        Media and formats; technical modifications allowed. The Licen\u001b[01;31m\u001b[Ksor \u001b[m\u001b[Kauthorizes You to exercise the Licen\u001b[01;31m\u001b[Ksed \u001b[m\u001b[KRights in all media and formats whether now known or hereafter created, and to make technical modifications necessary to do so. The Licen\u001b[01;31m\u001b[Ksor \u001b[m\u001b[Kwaives and/or agrees not to assert any right or authority to forbid You from making technical modifications necessary to exercise the Licen\u001b[01;31m\u001b[Ksed \u001b[m\u001b[KRights, including technical modifications necessary to circumvent Effective Technological Measures. For purpo\u001b[01;31m\u001b[Kses \u001b[m\u001b[Kof this Public License, simply making modifications authorized by this Section 2(a)(4) never produces Adapted Material.\n",
      "\u001b[32m\u001b[K31\u001b[m\u001b[K\u001b[36m\u001b[K:\u001b[m\u001b[K            Offer from the Licen\u001b[01;31m\u001b[Ksor \u001b[m\u001b[K– Licen\u001b[01;31m\u001b[Ksed \u001b[m\u001b[KMaterial. Every recipient of the Licen\u001b[01;31m\u001b[Ksed \u001b[m\u001b[KMaterial automatically receives an offer from the Licen\u001b[01;31m\u001b[Ksor \u001b[m\u001b[Kto exercise the Licen\u001b[01;31m\u001b[Ksed \u001b[m\u001b[KRights under the terms and conditions of this Public License.\n",
      "\u001b[32m\u001b[K32\u001b[m\u001b[K\u001b[36m\u001b[K:\u001b[m\u001b[K            No downstream restrictions. You may not offer or impose any additional or different terms or conditions on, or apply any Effective Technological Measures to, the Licen\u001b[01;31m\u001b[Ksed \u001b[m\u001b[KMaterial if doing so restricts exercise of the Licen\u001b[01;31m\u001b[Ksed \u001b[m\u001b[KRights by any recipient of the Licen\u001b[01;31m\u001b[Ksed \u001b[m\u001b[KMaterial.\n",
      "\u001b[32m\u001b[K33\u001b[m\u001b[K\u001b[36m\u001b[K:\u001b[m\u001b[K        No endorsement. Nothing in this Public License constitutes or may be construed as permission to assert or imply that You are, or that Your use of the Licen\u001b[01;31m\u001b[Ksed \u001b[m\u001b[KMaterial is, connected with, or sponsored, endorsed, or granted official status by, the Licen\u001b[01;31m\u001b[Ksor \u001b[m\u001b[Kor others designated to receive attribution as provided in Section 3(a)(1)(A)(i).\n",
      "\u001b[32m\u001b[K36\u001b[m\u001b[K\u001b[36m\u001b[K:\u001b[m\u001b[K        Moral rights, such as the right of integrity, are not licen\u001b[01;31m\u001b[Ksed \u001b[m\u001b[Kunder this Public License, nor are publicity, privacy, and/or other similar personality rights; however, to the extent possible, the Licen\u001b[01;31m\u001b[Ksor \u001b[m\u001b[Kwaives and/or agrees not to assert any such rights held by the Licen\u001b[01;31m\u001b[Ksor \u001b[m\u001b[Kto the limited extent necessary to allow You to exercise the Licen\u001b[01;31m\u001b[Ksed \u001b[m\u001b[KRights, but not otherwise.\n",
      "\u001b[32m\u001b[K37\u001b[m\u001b[K\u001b[36m\u001b[K:\u001b[m\u001b[K        Patent and trademark rights are not licen\u001b[01;31m\u001b[Ksed \u001b[m\u001b[Kunder this Public License.\n",
      "\u001b[32m\u001b[K38\u001b[m\u001b[K\u001b[36m\u001b[K:\u001b[m\u001b[K        To the extent possible, the Licen\u001b[01;31m\u001b[Ksor \u001b[m\u001b[Kwaives any right to collect royalties from You for the exercise of the Licen\u001b[01;31m\u001b[Ksed \u001b[m\u001b[KRights, whether directly or through a collecting society under any voluntary or waivable statutory or compulsory licensing scheme. In all other ca\u001b[01;31m\u001b[Kses \u001b[m\u001b[Kthe Licen\u001b[01;31m\u001b[Ksor \u001b[m\u001b[Kexpres\u001b[01;31m\u001b[Ksly \u001b[m\u001b[Kreserves any right to collect such royalties.\n",
      "\u001b[32m\u001b[K42\u001b[m\u001b[K\u001b[36m\u001b[K:\u001b[m\u001b[KYour exercise of the Licen\u001b[01;31m\u001b[Ksed \u001b[m\u001b[KRights is expres\u001b[01;31m\u001b[Ksly \u001b[m\u001b[Kmade subject to the following conditions.\n",
      "\u001b[32m\u001b[K46\u001b[m\u001b[K\u001b[36m\u001b[K:\u001b[m\u001b[K        If You Share the Licen\u001b[01;31m\u001b[Ksed \u001b[m\u001b[KMaterial (including in modified form), You must:\n",
      "\u001b[32m\u001b[K47\u001b[m\u001b[K\u001b[36m\u001b[K:\u001b[m\u001b[K            retain the following if it is supplied by the Licen\u001b[01;31m\u001b[Ksor \u001b[m\u001b[Kwith the Licen\u001b[01;31m\u001b[Ksed \u001b[m\u001b[KMaterial:\n",
      "\u001b[32m\u001b[K48\u001b[m\u001b[K\u001b[36m\u001b[K:\u001b[m\u001b[K                identification of the creator(s) of the Licen\u001b[01;31m\u001b[Ksed \u001b[m\u001b[KMaterial and any others designated to receive attribution, in any reasonable manner requested by the Licen\u001b[01;31m\u001b[Ksor \u001b[m\u001b[K(including by pseudonym if designated);\n",
      "\u001b[32m\u001b[K52\u001b[m\u001b[K\u001b[36m\u001b[K:\u001b[m\u001b[K                a URI or hyperlink to the Licen\u001b[01;31m\u001b[Ksed \u001b[m\u001b[KMaterial to the extent reasonably practicable;\n",
      "\u001b[32m\u001b[K53\u001b[m\u001b[K\u001b[36m\u001b[K:\u001b[m\u001b[K            indicate if You modified the Licen\u001b[01;31m\u001b[Ksed \u001b[m\u001b[KMaterial and retain an indication of any previous modifications; and\n",
      "\u001b[32m\u001b[K54\u001b[m\u001b[K\u001b[36m\u001b[K:\u001b[m\u001b[K            indicate the Licen\u001b[01;31m\u001b[Ksed \u001b[m\u001b[KMaterial is licen\u001b[01;31m\u001b[Ksed \u001b[m\u001b[Kunder this Public License, and include the text of, or the URI or hyperlink to, this Public License.\n"
     ]
    },
    {
     "name": "stdout",
     "output_type": "stream",
     "text": [
      "\u001b[32m\u001b[K55\u001b[m\u001b[K\u001b[36m\u001b[K:\u001b[m\u001b[K        You may sati\u001b[01;31m\u001b[Ksfy \u001b[m\u001b[Kthe conditions in Section 3(a)(1) in any reasonable manner ba\u001b[01;31m\u001b[Ksed \u001b[m\u001b[Kon the medium, means, and context in which You Share the Licen\u001b[01;31m\u001b[Ksed \u001b[m\u001b[KMaterial. For example, it may be reasonable to sati\u001b[01;31m\u001b[Ksfy \u001b[m\u001b[Kthe conditions by providing a URI or hyperlink to a resource that includes the required information.\n",
      "\u001b[32m\u001b[K59\u001b[m\u001b[K\u001b[36m\u001b[K:\u001b[m\u001b[KSection 4 – \u001b[01;31m\u001b[KSui \u001b[m\u001b[KGeneris Database Rights.\n",
      "\u001b[32m\u001b[K61\u001b[m\u001b[K\u001b[36m\u001b[K:\u001b[m\u001b[KWhere the Licen\u001b[01;31m\u001b[Ksed \u001b[m\u001b[KRights include \u001b[01;31m\u001b[KSui \u001b[m\u001b[KGeneris Database Rights that apply to Your use of the Licen\u001b[01;31m\u001b[Ksed \u001b[m\u001b[KMaterial:\n",
      "\u001b[32m\u001b[K64\u001b[m\u001b[K\u001b[36m\u001b[K:\u001b[m\u001b[K    if You include all or a substantial portion of the database contents in a database in which You have \u001b[01;31m\u001b[KSui \u001b[m\u001b[KGeneris Database Rights, then the database in which You have \u001b[01;31m\u001b[KSui \u001b[m\u001b[KGeneris Database Rights (but not its individual contents) is Adapted Material; and\n",
      "\u001b[32m\u001b[K67\u001b[m\u001b[K\u001b[36m\u001b[K:\u001b[m\u001b[KFor the avoidance of doubt, this Section 4 supplements and does not replace Your obligations under this Public License where the Licen\u001b[01;31m\u001b[Ksed \u001b[m\u001b[KRights include other Copyright and Similar Rights.\n",
      "\u001b[32m\u001b[K71\u001b[m\u001b[K\u001b[36m\u001b[K:\u001b[m\u001b[K    Unless otherwise separately undertaken by the Licensor, to the extent possible, the Licen\u001b[01;31m\u001b[Ksor \u001b[m\u001b[Koffers the Licen\u001b[01;31m\u001b[Ksed \u001b[m\u001b[KMaterial as-is and as-available, and makes no representations or warranties of any kind concerning the Licen\u001b[01;31m\u001b[Ksed \u001b[m\u001b[KMaterial, whether express, implied, statutory, or other. This includes, without limitation, warranties of title, merchantability, fitness for a particular purpose, non-infringement, absence of latent or other defects, accuracy, or the presence or absence of errors, whether or not known or discoverable. Where disclaimers of warranties are not allowed in full or in part, this disclaimer may not apply to You.\n",
      "\u001b[32m\u001b[K72\u001b[m\u001b[K\u001b[36m\u001b[K:\u001b[m\u001b[K    To the extent possible, in no event will the Licen\u001b[01;31m\u001b[Ksor \u001b[m\u001b[Kbe liable to You on any legal theory (including, without limitation, negligence) or otherwise for any direct, special, indirect, incidental, consequential, punitive, exemplary, or other losses, costs, expenses, or damages arising out of this Public License or use of the Licen\u001b[01;31m\u001b[Ksed \u001b[m\u001b[KMaterial, even if the Licen\u001b[01;31m\u001b[Ksor \u001b[m\u001b[Khas been advi\u001b[01;31m\u001b[Ksed \u001b[m\u001b[Kof the possibility of such losses, costs, expenses, or damages. Where a limitation of liability is not allowed in full or in part, this limitation may not apply to You.\n",
      "\u001b[32m\u001b[K78\u001b[m\u001b[K\u001b[36m\u001b[K:\u001b[m\u001b[K    This Public License applies for the term of the Copyright and Similar Rights licen\u001b[01;31m\u001b[Ksed \u001b[m\u001b[Khere. However, if You fail to comply with this Public License, then Your rights under this Public License terminate automatically.\n",
      "\u001b[32m\u001b[K80\u001b[m\u001b[K\u001b[36m\u001b[K:\u001b[m\u001b[K    Where Your right to use the Licen\u001b[01;31m\u001b[Ksed \u001b[m\u001b[KMaterial has terminated under Section 6(a), it reinstates:\n",
      "\u001b[32m\u001b[K83\u001b[m\u001b[K\u001b[36m\u001b[K:\u001b[m\u001b[K    For the avoidance of doubt, this Section 6(b) does not affect any right the Licen\u001b[01;31m\u001b[Ksor \u001b[m\u001b[Kmay have to seek remedies for Your violations of this Public License.\n",
      "\u001b[32m\u001b[K84\u001b[m\u001b[K\u001b[36m\u001b[K:\u001b[m\u001b[K    For the avoidance of doubt, the Licen\u001b[01;31m\u001b[Ksor \u001b[m\u001b[Kmay also offer the Licen\u001b[01;31m\u001b[Ksed \u001b[m\u001b[KMaterial under separate terms or conditions or stop distributing the Licen\u001b[01;31m\u001b[Ksed \u001b[m\u001b[KMaterial at any time; however, doing so will not terminate this Public License.\n",
      "\u001b[32m\u001b[K89\u001b[m\u001b[K\u001b[36m\u001b[K:\u001b[m\u001b[K    The Licen\u001b[01;31m\u001b[Ksor \u001b[m\u001b[Kshall not be bound by any additional or different terms or conditions communicated by You unless expres\u001b[01;31m\u001b[Ksly \u001b[m\u001b[Kagreed.\n",
      "\u001b[32m\u001b[K90\u001b[m\u001b[K\u001b[36m\u001b[K:\u001b[m\u001b[K    Any arrangements, understandings, or agreements regarding the Licen\u001b[01;31m\u001b[Ksed \u001b[m\u001b[KMaterial not stated herein are separate from and independent of the terms and conditions of this Public License.\n",
      "\u001b[32m\u001b[K94\u001b[m\u001b[K\u001b[36m\u001b[K:\u001b[m\u001b[K    For the avoidance of doubt, this Public License does not, and shall not be interpreted to, reduce, limit, restrict, or impose conditions on any use of the Licen\u001b[01;31m\u001b[Ksed \u001b[m\u001b[KMaterial that could lawfully be made without permission under this Public License.\n",
      "\u001b[32m\u001b[K96\u001b[m\u001b[K\u001b[36m\u001b[K:\u001b[m\u001b[K    No term or condition of this Public License will be waived and no failure to comply consented to unless expres\u001b[01;31m\u001b[Ksly \u001b[m\u001b[Kagreed to by the Licensor.\n",
      "\u001b[32m\u001b[K97\u001b[m\u001b[K\u001b[36m\u001b[K:\u001b[m\u001b[K    Nothing in this Public License constitutes or may be interpreted as a limitation upon, or waiver of, any privileges and immunities that apply to the Licen\u001b[01;31m\u001b[Ksor \u001b[m\u001b[Kor You, including from the legal proces\u001b[01;31m\u001b[Kses \u001b[m\u001b[Kof any jurisdiction or authority.\n",
      "\u001b[32m\u001b[K99\u001b[m\u001b[K\u001b[36m\u001b[K:\u001b[m\u001b[KCreative Commons is not a party to its public licenses. Notwithstanding, Creative Commons may elect to apply one of its public licen\u001b[01;31m\u001b[Kses \u001b[m\u001b[Kto material it publishes and in those instances will be considered the “Licensor.” The text of the Creative Commons public licen\u001b[01;31m\u001b[Kses \u001b[m\u001b[Kis dedicated to the public domain under the CC0 Public Domain Dedication. Except for the limited purpose of indicating that material is shared under a Creative Commons public license or as otherwise permitted by the Creative Commons policies published at creativecommons.org/policies, Creative Commons does not authorize the use of the trademark “Creative Commons” or any other trademark or logo of Creative Commons without its prior written consent including, without limitation, in connection with any unauthorized modifications to any of its public licen\u001b[01;31m\u001b[Kses \u001b[m\u001b[Kor any other arrangements, understandings, or agreements concerning use of licen\u001b[01;31m\u001b[Ksed \u001b[m\u001b[Kmaterial. For the avoidance of doubt, this paragraph does not form part of the public licenses.\n"
     ]
    }
   ],
   "source": [
    "grep -in \"S\\w\\w\\s\" License-CC-BY-4.0   #  an \"s\" or \"S\" character, followed by two characters, followed by a space\n"
   ]
  },
  {
   "cell_type": "code",
   "execution_count": 58,
   "metadata": {},
   "outputs": [
    {
     "name": "stdout",
     "output_type": "stream",
     "text": [
      "\u001b[32m\u001b[K9\u001b[m\u001b[K\u001b[36m\u001b[K:\u001b[m\u001b[K    Adapted Material means material subject to Copyright and Similar Rights that is derived from or based upon the Licensed Material and in which the Licensed Material is translated, altered, arranged, transformed, or otherwise modified in a manner requiring permi\u001b[01;31m\u001b[Kssion \u001b[m\u001b[Kunder the Copyright and Similar Rights held by the Licensor. For purposes of this Public License, where the Licensed Material is a mu\u001b[01;31m\u001b[Ksical \u001b[m\u001b[Kwork, performance, or \u001b[01;31m\u001b[Ksound \u001b[m\u001b[Krecording, Adapted Material is always produced where the Licensed Material is synched in timed relation with a moving image.\n",
      "\u001b[32m\u001b[K11\u001b[m\u001b[K\u001b[36m\u001b[K:\u001b[m\u001b[K    Copyright and Similar Rights means copyright and/or similar rights closely related to copyright including, without limitation, performance, broadcast, \u001b[01;31m\u001b[Ksound \u001b[m\u001b[Krecording, and Sui Generis Database Rights, without regard to how the rights are labeled or categorized. For purposes of this Public License, the rights specified in Section 2(b)(1)-(2) are not Copyright and Similar Rights.\n",
      "\u001b[32m\u001b[K12\u001b[m\u001b[K\u001b[36m\u001b[K:\u001b[m\u001b[K    Effective Technological Mea\u001b[01;31m\u001b[Ksures \u001b[m\u001b[Kmeans those mea\u001b[01;31m\u001b[Ksures \u001b[m\u001b[Kthat, in the ab\u001b[01;31m\u001b[Ksence \u001b[m\u001b[Kof proper authority, may not be circumvented under laws fulfilling obligations under Article 11 of the WIPO Copyright Treaty adopted on December 20, 1996, and/or similar international agreements.\n",
      "\u001b[32m\u001b[K17\u001b[m\u001b[K\u001b[36m\u001b[K:\u001b[m\u001b[K    \u001b[01;31m\u001b[KShare \u001b[m\u001b[Kmeans to provide material to the public by any means or process that requires permi\u001b[01;31m\u001b[Kssion \u001b[m\u001b[Kunder the Licensed Rights, such as reproduction, public display, public performance, distribution, dissemination, communication, or importation, and to make material available to the public including in ways that members of the public may access the material from a place and at a time individually chosen by them.\n",
      "\u001b[32m\u001b[K25\u001b[m\u001b[K\u001b[36m\u001b[K:\u001b[m\u001b[K            reproduce and \u001b[01;31m\u001b[KShare \u001b[m\u001b[Kthe Licensed Material, in whole or in part; and\n",
      "\u001b[32m\u001b[K26\u001b[m\u001b[K\u001b[36m\u001b[K:\u001b[m\u001b[K            produce, reproduce, and \u001b[01;31m\u001b[KShare \u001b[m\u001b[KAdapted Material.\n",
      "\u001b[32m\u001b[K29\u001b[m\u001b[K\u001b[36m\u001b[K:\u001b[m\u001b[K        Media and formats; technical modifications allowed. The Licensor authorizes You to exercise the Licensed Rights in all media and formats whether now known or hereafter created, and to make technical modifications nece\u001b[01;31m\u001b[Kssary \u001b[m\u001b[Kto do so. The Licensor waives and/or agrees not to a\u001b[01;31m\u001b[Kssert \u001b[m\u001b[Kany right or authority to forbid You from making technical modifications nece\u001b[01;31m\u001b[Kssary \u001b[m\u001b[Kto exercise the Licensed Rights, including technical modifications nece\u001b[01;31m\u001b[Kssary \u001b[m\u001b[Kto circumvent Effective Technological Measures. For purposes of this Public License, simply making modifications authorized by this Section 2(a)(4) never produces Adapted Material.\n",
      "\u001b[32m\u001b[K32\u001b[m\u001b[K\u001b[36m\u001b[K:\u001b[m\u001b[K            No downstream restrictions. You may not offer or impose any additional or different terms or conditions on, or apply any Effective Technological Mea\u001b[01;31m\u001b[Ksures \u001b[m\u001b[Kto, the Licensed Material if doing so restricts exercise of the Licensed Rights by any recipient of the Licensed Material.\n",
      "\u001b[32m\u001b[K33\u001b[m\u001b[K\u001b[36m\u001b[K:\u001b[m\u001b[K        No endorsement. Nothing in this Public License constitutes or may be construed as permi\u001b[01;31m\u001b[Kssion \u001b[m\u001b[Kto a\u001b[01;31m\u001b[Kssert \u001b[m\u001b[Kor imply that You are, or that Your use of the Licensed Material is, connected with, or sponsored, endorsed, or granted official status by, the Licensor or others designated to receive attribution as provided in Section 3(a)(1)(A)(i).\n",
      "\u001b[32m\u001b[K36\u001b[m\u001b[K\u001b[36m\u001b[K:\u001b[m\u001b[K        Moral rights, such as the right of integrity, are not licensed under this Public License, nor are publicity, privacy, and/or other similar personality rights; however, to the extent possible, the Licensor waives and/or agrees not to a\u001b[01;31m\u001b[Kssert \u001b[m\u001b[Kany such rights held by the Licensor to the limited extent nece\u001b[01;31m\u001b[Kssary \u001b[m\u001b[Kto allow You to exercise the Licensed Rights, but not otherwise.\n",
      "\u001b[32m\u001b[K46\u001b[m\u001b[K\u001b[36m\u001b[K:\u001b[m\u001b[K        If You \u001b[01;31m\u001b[KShare \u001b[m\u001b[Kthe Licensed Material (including in modified form), You must:\n",
      "\u001b[32m\u001b[K55\u001b[m\u001b[K\u001b[36m\u001b[K:\u001b[m\u001b[K        You may satisfy the conditions in Section 3(a)(1) in any reasonable manner based on the medium, means, and context in which You \u001b[01;31m\u001b[KShare \u001b[m\u001b[Kthe Licensed Material. For example, it may be reasonable to satisfy the conditions by providing a URI or hyperlink to a resource that includes the required information.\n",
      "\u001b[32m\u001b[K57\u001b[m\u001b[K\u001b[36m\u001b[K:\u001b[m\u001b[K        If You \u001b[01;31m\u001b[KShare \u001b[m\u001b[KAdapted Material You produce, the Adapter's License You apply must not prevent recipients of the Adapted Material from complying with this Public License.\n",
      "\u001b[32m\u001b[K63\u001b[m\u001b[K\u001b[36m\u001b[K:\u001b[m\u001b[K    for the avoidance of doubt, Section 2(a)(1) grants You the right to extract, reuse, reproduce, and \u001b[01;31m\u001b[KShare \u001b[m\u001b[Kall or a substantial portion of the contents of the database;\n",
      "\u001b[32m\u001b[K65\u001b[m\u001b[K\u001b[36m\u001b[K:\u001b[m\u001b[K    You must comply with the conditions in Section 3(a) if You \u001b[01;31m\u001b[KShare \u001b[m\u001b[Kall or a substantial portion of the contents of the database.\n",
      "\u001b[32m\u001b[K71\u001b[m\u001b[K\u001b[36m\u001b[K:\u001b[m\u001b[K    Unless otherwise separately undertaken by the Licensor, to the extent possible, the Licensor offers the Licensed Material as-is and as-available, and makes no representations or warranties of any kind concerning the Licensed Material, whether express, implied, statutory, or other. This includes, without limitation, warranties of title, merchantability, fitness for a particular purpose, non-infringement, ab\u001b[01;31m\u001b[Ksence \u001b[m\u001b[Kof latent or other defects, accuracy, or the pre\u001b[01;31m\u001b[Ksence \u001b[m\u001b[Kor ab\u001b[01;31m\u001b[Ksence \u001b[m\u001b[Kof errors, whether or not known or discoverable. Where disclaimers of warranties are not allowed in full or in part, this disclaimer may not apply to You.\n",
      "\u001b[32m\u001b[K74\u001b[m\u001b[K\u001b[36m\u001b[K:\u001b[m\u001b[K    The disclaimer of warranties and limitation of liability provided above \u001b[01;31m\u001b[Kshall \u001b[m\u001b[Kbe interpreted in a manner that, to the extent possible, most closely approximates an absolute disclaimer and waiver of all liability.\n",
      "\u001b[32m\u001b[K89\u001b[m\u001b[K\u001b[36m\u001b[K:\u001b[m\u001b[K    The Licensor \u001b[01;31m\u001b[Kshall \u001b[m\u001b[Knot be bound by any additional or different terms or conditions communicated by You unless expressly agreed.\n",
      "\u001b[32m\u001b[K94\u001b[m\u001b[K\u001b[36m\u001b[K:\u001b[m\u001b[K    For the avoidance of doubt, this Public License does not, and \u001b[01;31m\u001b[Kshall \u001b[m\u001b[Knot be interpreted to, reduce, limit, restrict, or impose conditions on any use of the Licensed Material that could lawfully be made without permi\u001b[01;31m\u001b[Kssion \u001b[m\u001b[Kunder this Public License.\n",
      "\u001b[32m\u001b[K95\u001b[m\u001b[K\u001b[36m\u001b[K:\u001b[m\u001b[K    To the extent possible, if any provision of this Public License is deemed unenforceable, it \u001b[01;31m\u001b[Kshall \u001b[m\u001b[Kbe automatically reformed to the minimum extent nece\u001b[01;31m\u001b[Kssary \u001b[m\u001b[Kto make it enforceable. If the provision cannot be reformed, it \u001b[01;31m\u001b[Kshall \u001b[m\u001b[Kbe severed from this Public License without affecting the enforceability of the remaining terms and conditions.\n"
     ]
    }
   ],
   "source": [
    "grep -E -in 'S\\w{4}\\s' License-CC-BY-4.0  # s followed by exactly 4 characters"
   ]
  },
  {
   "cell_type": "code",
   "execution_count": 72,
   "metadata": {},
   "outputs": [
    {
     "name": "stdout",
     "output_type": "stream",
     "text": [
      "\u001b[32m\u001b[K5\u001b[m\u001b[K\u001b[36m\u001b[K:\u001b[m\u001b[KBy exerci\u001b[01;31m\u001b[Ksing \u001b[m\u001b[Kthe Licen\u001b[01;31m\u001b[Ksed \u001b[m\u001b[KRights (defined below), You accept and agree to be bound by the terms and conditions of this Creative Commons Attribution 4.0 International Public Licen\u001b[01;31m\u001b[Kse \u001b[m\u001b[K(\"Public License\"). To the extent this Public Licen\u001b[01;31m\u001b[Kse \u001b[m\u001b[Kmay be interpreted as a contract, You are granted the Licen\u001b[01;31m\u001b[Ksed \u001b[m\u001b[KRights in consideration of Your acceptance of the\u001b[01;31m\u001b[Kse \u001b[m\u001b[Kterms and conditions, and the Licen\u001b[01;31m\u001b[Ksor \u001b[m\u001b[Kgrants You \u001b[01;31m\u001b[Ksuch \u001b[m\u001b[Krights in consideration of benefits the Licen\u001b[01;31m\u001b[Ksor \u001b[m\u001b[Kreceives from making the Licen\u001b[01;31m\u001b[Ksed \u001b[m\u001b[KMaterial available under the\u001b[01;31m\u001b[Kse \u001b[m\u001b[Kterms and conditions.\n",
      "\u001b[32m\u001b[K9\u001b[m\u001b[K\u001b[36m\u001b[K:\u001b[m\u001b[K    Adapted Material means material subject to Copyright and Similar Rights that is derived from or ba\u001b[01;31m\u001b[Ksed \u001b[m\u001b[Kupon the Licen\u001b[01;31m\u001b[Ksed \u001b[m\u001b[KMaterial and in which the Licen\u001b[01;31m\u001b[Ksed \u001b[m\u001b[KMaterial is translated, altered, arranged, transformed, or otherwi\u001b[01;31m\u001b[Kse \u001b[m\u001b[Kmodified in a manner requiring permis\u001b[01;31m\u001b[Ksion \u001b[m\u001b[Kunder the Copyright and Similar Rights held by the Licensor. For purpo\u001b[01;31m\u001b[Kses \u001b[m\u001b[Kof this Public License, where the Licen\u001b[01;31m\u001b[Ksed \u001b[m\u001b[KMaterial is a musical work, performance, or sound recording, Adapted Material is always produced where the Licen\u001b[01;31m\u001b[Ksed \u001b[m\u001b[KMaterial is synched in timed relation with a moving image.\n",
      "\u001b[32m\u001b[K10\u001b[m\u001b[K\u001b[36m\u001b[K:\u001b[m\u001b[K    Adapter's Licen\u001b[01;31m\u001b[Kse \u001b[m\u001b[Kmeans the licen\u001b[01;31m\u001b[Kse \u001b[m\u001b[KYou apply to Your Copyright and Similar Rights in Your contributions to Adapted Material in accordance with the terms and conditions of this Public License.\n",
      "\u001b[32m\u001b[K11\u001b[m\u001b[K\u001b[36m\u001b[K:\u001b[m\u001b[K    Copyright and Similar Rights means copyright and/or similar rights clo\u001b[01;31m\u001b[Ksely \u001b[m\u001b[Krelated to copyright including, without limitation, performance, broadcast, sound recording, and \u001b[01;31m\u001b[KSui \u001b[m\u001b[KGeneris Databa\u001b[01;31m\u001b[Kse \u001b[m\u001b[KRights, without regard to how the rights are labeled or categorized. For purpo\u001b[01;31m\u001b[Kses \u001b[m\u001b[Kof this Public License, the rights specified in Section 2(b)(1)-(2) are not Copyright and Similar Rights.\n",
      "\u001b[32m\u001b[K12\u001b[m\u001b[K\u001b[36m\u001b[K:\u001b[m\u001b[K    Effective Technological Measures means tho\u001b[01;31m\u001b[Kse \u001b[m\u001b[Kmeasures that, in the absence of proper authority, may not be circumvented under laws fulfilling obligations under Article 11 of the WIPO Copyright Treaty adopted on December 20, 1996, and/or similar international agreements.\n",
      "\u001b[32m\u001b[K13\u001b[m\u001b[K\u001b[36m\u001b[K:\u001b[m\u001b[K    Exceptions and Limitations means fair use, fair dealing, and/or any other exception or limitation to Copyright and Similar Rights that applies to Your u\u001b[01;31m\u001b[Kse \u001b[m\u001b[Kof the Licen\u001b[01;31m\u001b[Ksed \u001b[m\u001b[KMaterial.\n",
      "\u001b[32m\u001b[K14\u001b[m\u001b[K\u001b[36m\u001b[K:\u001b[m\u001b[K    Licen\u001b[01;31m\u001b[Ksed \u001b[m\u001b[KMaterial means the arti\u001b[01;31m\u001b[Kstic \u001b[m\u001b[Kor literary work, database, or other material to which the Licen\u001b[01;31m\u001b[Ksor \u001b[m\u001b[Kapplied this Public License.\n",
      "\u001b[32m\u001b[K15\u001b[m\u001b[K\u001b[36m\u001b[K:\u001b[m\u001b[K    Licen\u001b[01;31m\u001b[Ksed \u001b[m\u001b[KRights means the rights granted to You subject to the terms and conditions of this Public License, which are limited to all Copyright and Similar Rights that apply to Your u\u001b[01;31m\u001b[Kse \u001b[m\u001b[Kof the Licen\u001b[01;31m\u001b[Ksed \u001b[m\u001b[KMaterial and that the Licen\u001b[01;31m\u001b[Ksor \u001b[m\u001b[Khas authority to license.\n",
      "\u001b[32m\u001b[K16\u001b[m\u001b[K\u001b[36m\u001b[K:\u001b[m\u001b[K    Licen\u001b[01;31m\u001b[Ksor \u001b[m\u001b[Kmeans the individual(s) or entity(ies) granting rights under this Public License.\n",
      "\u001b[32m\u001b[K17\u001b[m\u001b[K\u001b[36m\u001b[K:\u001b[m\u001b[K    Share means to provide material to the public by any means or proce\u001b[01;31m\u001b[Kss \u001b[m\u001b[Kthat requires permis\u001b[01;31m\u001b[Ksion \u001b[m\u001b[Kunder the Licen\u001b[01;31m\u001b[Ksed \u001b[m\u001b[KRights, \u001b[01;31m\u001b[Ksuch \u001b[m\u001b[Kas reproduction, public display, public performance, distribution, dissemination, communication, or importation, and to make material available to the public including in ways that members of the public may acce\u001b[01;31m\u001b[Kss \u001b[m\u001b[Kthe material from a place and at a time individually cho\u001b[01;31m\u001b[Ksen \u001b[m\u001b[Kby them.\n",
      "\u001b[32m\u001b[K18\u001b[m\u001b[K\u001b[36m\u001b[K:\u001b[m\u001b[K    \u001b[01;31m\u001b[KSui \u001b[m\u001b[KGeneris Databa\u001b[01;31m\u001b[Kse \u001b[m\u001b[KRights means rights other than copyright resulting from Directive 96/9/EC of the European Parliament and of the Council of 11 March 1996 on the legal protection of databases, as amended and/or succeeded, as well as other essentially equivalent rights anywhere in the world.\n",
      "\u001b[32m\u001b[K19\u001b[m\u001b[K\u001b[36m\u001b[K:\u001b[m\u001b[K    You means the individual or entity exerci\u001b[01;31m\u001b[Ksing \u001b[m\u001b[Kthe Licen\u001b[01;31m\u001b[Ksed \u001b[m\u001b[KRights under this Public License. Your has a corresponding meaning.\n",
      "\u001b[32m\u001b[K23\u001b[m\u001b[K\u001b[36m\u001b[K:\u001b[m\u001b[K    Licen\u001b[01;31m\u001b[Kse \u001b[m\u001b[Kgrant.\n",
      "\u001b[32m\u001b[K24\u001b[m\u001b[K\u001b[36m\u001b[K:\u001b[m\u001b[K        Subject to the terms and conditions of this Public License, the Licen\u001b[01;31m\u001b[Ksor \u001b[m\u001b[Khereby grants You a worldwide, royalty-free, non-sublicensable, non-exclusive, irrevocable licen\u001b[01;31m\u001b[Kse \u001b[m\u001b[Kto exerci\u001b[01;31m\u001b[Kse \u001b[m\u001b[Kthe Licen\u001b[01;31m\u001b[Ksed \u001b[m\u001b[KRights in the Licen\u001b[01;31m\u001b[Ksed \u001b[m\u001b[KMaterial to:\n",
      "\u001b[32m\u001b[K25\u001b[m\u001b[K\u001b[36m\u001b[K:\u001b[m\u001b[K            reproduce and Share the Licen\u001b[01;31m\u001b[Ksed \u001b[m\u001b[KMaterial, in whole or in part; and\n",
      "\u001b[32m\u001b[K27\u001b[m\u001b[K\u001b[36m\u001b[K:\u001b[m\u001b[K        Exceptions and Limitations. For the avoidance of doubt, where Exceptions and Limitations apply to Your use, this Public Licen\u001b[01;31m\u001b[Kse \u001b[m\u001b[Kdoes not apply, and You do not need to comply with its terms and conditions.\n",
      "\u001b[32m\u001b[K28\u001b[m\u001b[K\u001b[36m\u001b[K:\u001b[m\u001b[K        Term. The term of this Public Licen\u001b[01;31m\u001b[Kse \u001b[m\u001b[Kis specified in Section 6(a).\n",
      "\u001b[32m\u001b[K29\u001b[m\u001b[K\u001b[36m\u001b[K:\u001b[m\u001b[K        Media and formats; technical modifications allowed. The Licen\u001b[01;31m\u001b[Ksor \u001b[m\u001b[Kauthorizes You to exerci\u001b[01;31m\u001b[Kse \u001b[m\u001b[Kthe Licen\u001b[01;31m\u001b[Ksed \u001b[m\u001b[KRights in all media and formats whether now known or hereafter created, and to make technical modifications neces\u001b[01;31m\u001b[Ksary \u001b[m\u001b[Kto do so. The Licen\u001b[01;31m\u001b[Ksor \u001b[m\u001b[Kwaives and/or agrees not to as\u001b[01;31m\u001b[Ksert \u001b[m\u001b[Kany right or authority to forbid You from making technical modifications neces\u001b[01;31m\u001b[Ksary \u001b[m\u001b[Kto exerci\u001b[01;31m\u001b[Kse \u001b[m\u001b[Kthe Licen\u001b[01;31m\u001b[Ksed \u001b[m\u001b[KRights, including technical modifications neces\u001b[01;31m\u001b[Ksary \u001b[m\u001b[Kto circumvent Effective Technological Measures. For purpo\u001b[01;31m\u001b[Kses \u001b[m\u001b[Kof this Public License, simply making modifications authorized by this Section 2(a)(4) never produces Adapted Material.\n",
      "\u001b[32m\u001b[K31\u001b[m\u001b[K\u001b[36m\u001b[K:\u001b[m\u001b[K            Offer from the Licen\u001b[01;31m\u001b[Ksor \u001b[m\u001b[K– Licen\u001b[01;31m\u001b[Ksed \u001b[m\u001b[KMaterial. Every recipient of the Licen\u001b[01;31m\u001b[Ksed \u001b[m\u001b[KMaterial automatically receives an offer from the Licen\u001b[01;31m\u001b[Ksor \u001b[m\u001b[Kto exerci\u001b[01;31m\u001b[Kse \u001b[m\u001b[Kthe Licen\u001b[01;31m\u001b[Ksed \u001b[m\u001b[KRights under the terms and conditions of this Public License.\n",
      "\u001b[32m\u001b[K32\u001b[m\u001b[K\u001b[36m\u001b[K:\u001b[m\u001b[K            No downstream restrictions. You may not offer or impo\u001b[01;31m\u001b[Kse \u001b[m\u001b[Kany additional or different terms or conditions on, or apply any Effective Technological Measures to, the Licen\u001b[01;31m\u001b[Ksed \u001b[m\u001b[KMaterial if doing \u001b[01;31m\u001b[Kso \u001b[m\u001b[Krestricts exerci\u001b[01;31m\u001b[Kse \u001b[m\u001b[Kof the Licen\u001b[01;31m\u001b[Ksed \u001b[m\u001b[KRights by any recipient of the Licen\u001b[01;31m\u001b[Ksed \u001b[m\u001b[KMaterial.\n",
      "\u001b[32m\u001b[K33\u001b[m\u001b[K\u001b[36m\u001b[K:\u001b[m\u001b[K        No endorsement. Nothing in this Public Licen\u001b[01;31m\u001b[Kse \u001b[m\u001b[Kconstitutes or may be construed as permis\u001b[01;31m\u001b[Ksion \u001b[m\u001b[Kto as\u001b[01;31m\u001b[Ksert \u001b[m\u001b[Kor imply that You are, or that Your u\u001b[01;31m\u001b[Kse \u001b[m\u001b[Kof the Licen\u001b[01;31m\u001b[Ksed \u001b[m\u001b[KMaterial is, connected with, or sponsored, endorsed, or granted official status by, the Licen\u001b[01;31m\u001b[Ksor \u001b[m\u001b[Kor others designated to receive attribution as provided in Section 3(a)(1)(A)(i).\n",
      "\u001b[32m\u001b[K36\u001b[m\u001b[K\u001b[36m\u001b[K:\u001b[m\u001b[K        Moral rights, \u001b[01;31m\u001b[Ksuch \u001b[m\u001b[Kas the right of integrity, are not licen\u001b[01;31m\u001b[Ksed \u001b[m\u001b[Kunder this Public License, nor are publicity, privacy, and/or other similar personality rights; however, to the extent possible, the Licen\u001b[01;31m\u001b[Ksor \u001b[m\u001b[Kwaives and/or agrees not to as\u001b[01;31m\u001b[Ksert \u001b[m\u001b[Kany \u001b[01;31m\u001b[Ksuch \u001b[m\u001b[Krights held by the Licen\u001b[01;31m\u001b[Ksor \u001b[m\u001b[Kto the limited extent neces\u001b[01;31m\u001b[Ksary \u001b[m\u001b[Kto allow You to exerci\u001b[01;31m\u001b[Kse \u001b[m\u001b[Kthe Licen\u001b[01;31m\u001b[Ksed \u001b[m\u001b[KRights, but not otherwise.\n"
     ]
    },
    {
     "name": "stdout",
     "output_type": "stream",
     "text": [
      "\u001b[32m\u001b[K37\u001b[m\u001b[K\u001b[36m\u001b[K:\u001b[m\u001b[K        Patent and trademark rights are not licen\u001b[01;31m\u001b[Ksed \u001b[m\u001b[Kunder this Public License.\n",
      "\u001b[32m\u001b[K38\u001b[m\u001b[K\u001b[36m\u001b[K:\u001b[m\u001b[K        To the extent possible, the Licen\u001b[01;31m\u001b[Ksor \u001b[m\u001b[Kwaives any right to collect royalties from You for the exerci\u001b[01;31m\u001b[Kse \u001b[m\u001b[Kof the Licen\u001b[01;31m\u001b[Ksed \u001b[m\u001b[KRights, whether directly or through a collecting society under any voluntary or waivable statutory or compul\u001b[01;31m\u001b[Ksory \u001b[m\u001b[Klicen\u001b[01;31m\u001b[Ksing \u001b[m\u001b[Kscheme. In all other ca\u001b[01;31m\u001b[Kses \u001b[m\u001b[Kthe Licen\u001b[01;31m\u001b[Ksor \u001b[m\u001b[Kexpre\u001b[01;31m\u001b[Kssly \u001b[m\u001b[Kreserves any right to collect \u001b[01;31m\u001b[Ksuch \u001b[m\u001b[Kroyalties.\n",
      "\u001b[32m\u001b[K40\u001b[m\u001b[K\u001b[36m\u001b[K:\u001b[m\u001b[KSection 3 – Licen\u001b[01;31m\u001b[Kse \u001b[m\u001b[KConditions.\n",
      "\u001b[32m\u001b[K42\u001b[m\u001b[K\u001b[36m\u001b[K:\u001b[m\u001b[KYour exerci\u001b[01;31m\u001b[Kse \u001b[m\u001b[Kof the Licen\u001b[01;31m\u001b[Ksed \u001b[m\u001b[KRights is expre\u001b[01;31m\u001b[Kssly \u001b[m\u001b[Kmade subject to the following conditions.\n",
      "\u001b[32m\u001b[K46\u001b[m\u001b[K\u001b[36m\u001b[K:\u001b[m\u001b[K        If You Share the Licen\u001b[01;31m\u001b[Ksed \u001b[m\u001b[KMaterial (including in modified form), You must:\n",
      "\u001b[32m\u001b[K47\u001b[m\u001b[K\u001b[36m\u001b[K:\u001b[m\u001b[K            retain the following if it is supplied by the Licen\u001b[01;31m\u001b[Ksor \u001b[m\u001b[Kwith the Licen\u001b[01;31m\u001b[Ksed \u001b[m\u001b[KMaterial:\n",
      "\u001b[32m\u001b[K48\u001b[m\u001b[K\u001b[36m\u001b[K:\u001b[m\u001b[K                identification of the creator(s) of the Licen\u001b[01;31m\u001b[Ksed \u001b[m\u001b[KMaterial and any others designated to receive attribution, in any reasonable manner reque\u001b[01;31m\u001b[Ksted \u001b[m\u001b[Kby the Licen\u001b[01;31m\u001b[Ksor \u001b[m\u001b[K(including by pseudonym if designated);\n",
      "\u001b[32m\u001b[K52\u001b[m\u001b[K\u001b[36m\u001b[K:\u001b[m\u001b[K                a URI or hyperlink to the Licen\u001b[01;31m\u001b[Ksed \u001b[m\u001b[KMaterial to the extent reasonably practicable;\n",
      "\u001b[32m\u001b[K53\u001b[m\u001b[K\u001b[36m\u001b[K:\u001b[m\u001b[K            indicate if You modified the Licen\u001b[01;31m\u001b[Ksed \u001b[m\u001b[KMaterial and retain an indication of any previous modifications; and\n",
      "\u001b[32m\u001b[K54\u001b[m\u001b[K\u001b[36m\u001b[K:\u001b[m\u001b[K            indicate the Licen\u001b[01;31m\u001b[Ksed \u001b[m\u001b[KMaterial is licen\u001b[01;31m\u001b[Ksed \u001b[m\u001b[Kunder this Public License, and include the text of, or the URI or hyperlink to, this Public License.\n",
      "\u001b[32m\u001b[K55\u001b[m\u001b[K\u001b[36m\u001b[K:\u001b[m\u001b[K        You may sati\u001b[01;31m\u001b[Ksfy \u001b[m\u001b[Kthe conditions in Section 3(a)(1) in any reasonable manner ba\u001b[01;31m\u001b[Ksed \u001b[m\u001b[Kon the medium, means, and context in which You Share the Licen\u001b[01;31m\u001b[Ksed \u001b[m\u001b[KMaterial. For example, it may be reasonable to sati\u001b[01;31m\u001b[Ksfy \u001b[m\u001b[Kthe conditions by providing a URI or hyperlink to a resource that includes the required information.\n",
      "\u001b[32m\u001b[K56\u001b[m\u001b[K\u001b[36m\u001b[K:\u001b[m\u001b[K        If reque\u001b[01;31m\u001b[Ksted \u001b[m\u001b[Kby the Licensor, You mu\u001b[01;31m\u001b[Kst \u001b[m\u001b[Kremove any of the information required by Section 3(a)(1)(A) to the extent reasonably practicable.\n",
      "\u001b[32m\u001b[K57\u001b[m\u001b[K\u001b[36m\u001b[K:\u001b[m\u001b[K        If You Share Adapted Material You produce, the Adapter's Licen\u001b[01;31m\u001b[Kse \u001b[m\u001b[KYou apply mu\u001b[01;31m\u001b[Kst \u001b[m\u001b[Knot prevent recipients of the Adapted Material from complying with this Public License.\n",
      "\u001b[32m\u001b[K59\u001b[m\u001b[K\u001b[36m\u001b[K:\u001b[m\u001b[KSection 4 – \u001b[01;31m\u001b[KSui \u001b[m\u001b[KGeneris Databa\u001b[01;31m\u001b[Kse \u001b[m\u001b[KRights.\n",
      "\u001b[32m\u001b[K61\u001b[m\u001b[K\u001b[36m\u001b[K:\u001b[m\u001b[KWhere the Licen\u001b[01;31m\u001b[Ksed \u001b[m\u001b[KRights include \u001b[01;31m\u001b[KSui \u001b[m\u001b[KGeneris Databa\u001b[01;31m\u001b[Kse \u001b[m\u001b[KRights that apply to Your u\u001b[01;31m\u001b[Kse \u001b[m\u001b[Kof the Licen\u001b[01;31m\u001b[Ksed \u001b[m\u001b[KMaterial:\n",
      "\u001b[32m\u001b[K64\u001b[m\u001b[K\u001b[36m\u001b[K:\u001b[m\u001b[K    if You include all or a substantial portion of the databa\u001b[01;31m\u001b[Kse \u001b[m\u001b[Kcontents in a databa\u001b[01;31m\u001b[Kse \u001b[m\u001b[Kin which You have \u001b[01;31m\u001b[KSui \u001b[m\u001b[KGeneris Databa\u001b[01;31m\u001b[Kse \u001b[m\u001b[KRights, then the databa\u001b[01;31m\u001b[Kse \u001b[m\u001b[Kin which You have \u001b[01;31m\u001b[KSui \u001b[m\u001b[KGeneris Databa\u001b[01;31m\u001b[Kse \u001b[m\u001b[KRights (but not its individual contents) is Adapted Material; and\n",
      "\u001b[32m\u001b[K65\u001b[m\u001b[K\u001b[36m\u001b[K:\u001b[m\u001b[K    You mu\u001b[01;31m\u001b[Kst \u001b[m\u001b[Kcomply with the conditions in Section 3(a) if You Share all or a substantial portion of the contents of the database.\n",
      "\u001b[32m\u001b[K67\u001b[m\u001b[K\u001b[36m\u001b[K:\u001b[m\u001b[KFor the avoidance of doubt, this Section 4 supplements and does not replace Your obligations under this Public Licen\u001b[01;31m\u001b[Kse \u001b[m\u001b[Kwhere the Licen\u001b[01;31m\u001b[Ksed \u001b[m\u001b[KRights include other Copyright and Similar Rights.\n",
      "\u001b[32m\u001b[K71\u001b[m\u001b[K\u001b[36m\u001b[K:\u001b[m\u001b[K    Unle\u001b[01;31m\u001b[Kss \u001b[m\u001b[Kotherwi\u001b[01;31m\u001b[Kse \u001b[m\u001b[Kseparately undertaken by the Licensor, to the extent possible, the Licen\u001b[01;31m\u001b[Ksor \u001b[m\u001b[Koffers the Licen\u001b[01;31m\u001b[Ksed \u001b[m\u001b[KMaterial as-is and as-available, and makes no representations or warranties of any kind concerning the Licen\u001b[01;31m\u001b[Ksed \u001b[m\u001b[KMaterial, whether express, implied, statutory, or other. This includes, without limitation, warranties of title, merchantability, fitne\u001b[01;31m\u001b[Kss \u001b[m\u001b[Kfor a particular purpose, non-infringement, absence of latent or other defects, accuracy, or the presence or absence of errors, whether or not known or discoverable. Where disclaimers of warranties are not allowed in full or in part, this disclaimer may not apply to You.\n",
      "\u001b[32m\u001b[K72\u001b[m\u001b[K\u001b[36m\u001b[K:\u001b[m\u001b[K    To the extent possible, in no event will the Licen\u001b[01;31m\u001b[Ksor \u001b[m\u001b[Kbe liable to You on any legal theory (including, without limitation, negligence) or otherwi\u001b[01;31m\u001b[Kse \u001b[m\u001b[Kfor any direct, special, indirect, incidental, consequential, punitive, exemplary, or other losses, costs, expenses, or damages ari\u001b[01;31m\u001b[Ksing \u001b[m\u001b[Kout of this Public Licen\u001b[01;31m\u001b[Kse \u001b[m\u001b[Kor u\u001b[01;31m\u001b[Kse \u001b[m\u001b[Kof the Licen\u001b[01;31m\u001b[Ksed \u001b[m\u001b[KMaterial, even if the Licen\u001b[01;31m\u001b[Ksor \u001b[m\u001b[Khas been advi\u001b[01;31m\u001b[Ksed \u001b[m\u001b[Kof the possibility of \u001b[01;31m\u001b[Ksuch \u001b[m\u001b[Klosses, costs, expenses, or damages. Where a limitation of liability is not allowed in full or in part, this limitation may not apply to You.\n",
      "\u001b[32m\u001b[K74\u001b[m\u001b[K\u001b[36m\u001b[K:\u001b[m\u001b[K    The disclaimer of warranties and limitation of liability provided above shall be interpreted in a manner that, to the extent possible, mo\u001b[01;31m\u001b[Kst \u001b[m\u001b[Kclo\u001b[01;31m\u001b[Ksely \u001b[m\u001b[Kapproximates an absolute disclaimer and waiver of all liability.\n",
      "\u001b[32m\u001b[K78\u001b[m\u001b[K\u001b[36m\u001b[K:\u001b[m\u001b[K    This Public Licen\u001b[01;31m\u001b[Kse \u001b[m\u001b[Kapplies for the term of the Copyright and Similar Rights licen\u001b[01;31m\u001b[Ksed \u001b[m\u001b[Khere. However, if You fail to comply with this Public License, then Your rights under this Public Licen\u001b[01;31m\u001b[Kse \u001b[m\u001b[Kterminate automatically.\n",
      "\u001b[32m\u001b[K80\u001b[m\u001b[K\u001b[36m\u001b[K:\u001b[m\u001b[K    Where Your right to u\u001b[01;31m\u001b[Kse \u001b[m\u001b[Kthe Licen\u001b[01;31m\u001b[Ksed \u001b[m\u001b[KMaterial has terminated under Section 6(a), it reinstates:\n",
      "\u001b[32m\u001b[K82\u001b[m\u001b[K\u001b[36m\u001b[K:\u001b[m\u001b[K        upon expre\u001b[01;31m\u001b[Kss \u001b[m\u001b[Kreinstatement by the Licensor.\n",
      "\u001b[32m\u001b[K83\u001b[m\u001b[K\u001b[36m\u001b[K:\u001b[m\u001b[K    For the avoidance of doubt, this Section 6(b) does not affect any right the Licen\u001b[01;31m\u001b[Ksor \u001b[m\u001b[Kmay have to \u001b[01;31m\u001b[Kseek \u001b[m\u001b[Kremedies for Your violations of this Public License.\n",
      "\u001b[32m\u001b[K84\u001b[m\u001b[K\u001b[36m\u001b[K:\u001b[m\u001b[K    For the avoidance of doubt, the Licen\u001b[01;31m\u001b[Ksor \u001b[m\u001b[Kmay al\u001b[01;31m\u001b[Kso \u001b[m\u001b[Koffer the Licen\u001b[01;31m\u001b[Ksed \u001b[m\u001b[KMaterial under separate terms or conditions or \u001b[01;31m\u001b[Kstop \u001b[m\u001b[Kdistributing the Licen\u001b[01;31m\u001b[Ksed \u001b[m\u001b[KMaterial at any time; however, doing \u001b[01;31m\u001b[Kso \u001b[m\u001b[Kwill not terminate this Public License.\n",
      "\u001b[32m\u001b[K89\u001b[m\u001b[K\u001b[36m\u001b[K:\u001b[m\u001b[K    The Licen\u001b[01;31m\u001b[Ksor \u001b[m\u001b[Kshall not be bound by any additional or different terms or conditions communicated by You unle\u001b[01;31m\u001b[Kss \u001b[m\u001b[Kexpre\u001b[01;31m\u001b[Kssly \u001b[m\u001b[Kagreed.\n",
      "\u001b[32m\u001b[K90\u001b[m\u001b[K\u001b[36m\u001b[K:\u001b[m\u001b[K    Any arrangements, understandings, or agreements regarding the Licen\u001b[01;31m\u001b[Ksed \u001b[m\u001b[KMaterial not stated herein are separate from and independent of the terms and conditions of this Public License.\n",
      "\u001b[32m\u001b[K94\u001b[m\u001b[K\u001b[36m\u001b[K:\u001b[m\u001b[K    For the avoidance of doubt, this Public Licen\u001b[01;31m\u001b[Kse \u001b[m\u001b[Kdoes not, and shall not be interpreted to, reduce, limit, restrict, or impo\u001b[01;31m\u001b[Kse \u001b[m\u001b[Kconditions on any u\u001b[01;31m\u001b[Kse \u001b[m\u001b[Kof the Licen\u001b[01;31m\u001b[Ksed \u001b[m\u001b[KMaterial that could lawfully be made without permis\u001b[01;31m\u001b[Ksion \u001b[m\u001b[Kunder this Public License.\n",
      "\u001b[32m\u001b[K95\u001b[m\u001b[K\u001b[36m\u001b[K:\u001b[m\u001b[K    To the extent possible, if any provi\u001b[01;31m\u001b[Ksion \u001b[m\u001b[Kof this Public Licen\u001b[01;31m\u001b[Kse \u001b[m\u001b[Kis deemed unenforceable, it shall be automatically reformed to the minimum extent neces\u001b[01;31m\u001b[Ksary \u001b[m\u001b[Kto make it enforceable. If the provi\u001b[01;31m\u001b[Ksion \u001b[m\u001b[Kcannot be reformed, it shall be severed from this Public Licen\u001b[01;31m\u001b[Kse \u001b[m\u001b[Kwithout affecting the enforceability of the remaining terms and conditions.\n"
     ]
    },
    {
     "name": "stdout",
     "output_type": "stream",
     "text": [
      "\u001b[32m\u001b[K96\u001b[m\u001b[K\u001b[36m\u001b[K:\u001b[m\u001b[K    No term or condition of this Public Licen\u001b[01;31m\u001b[Kse \u001b[m\u001b[Kwill be waived and no failure to comply consented to unle\u001b[01;31m\u001b[Kss \u001b[m\u001b[Kexpre\u001b[01;31m\u001b[Kssly \u001b[m\u001b[Kagreed to by the Licensor.\n",
      "\u001b[32m\u001b[K97\u001b[m\u001b[K\u001b[36m\u001b[K:\u001b[m\u001b[K    Nothing in this Public Licen\u001b[01;31m\u001b[Kse \u001b[m\u001b[Kconstitutes or may be interpreted as a limitation upon, or waiver of, any privileges and immunities that apply to the Licen\u001b[01;31m\u001b[Ksor \u001b[m\u001b[Kor You, including from the legal proce\u001b[01;31m\u001b[Ksses \u001b[m\u001b[Kof any jurisdiction or authority.\n",
      "\u001b[32m\u001b[K99\u001b[m\u001b[K\u001b[36m\u001b[K:\u001b[m\u001b[KCreative Commons is not a party to its public licenses. Notwithstanding, Creative Commons may elect to apply one of its public licen\u001b[01;31m\u001b[Kses \u001b[m\u001b[Kto material it publi\u001b[01;31m\u001b[Kshes \u001b[m\u001b[Kand in tho\u001b[01;31m\u001b[Kse \u001b[m\u001b[Kinstances will be considered the “Licensor.” The text of the Creative Commons public licen\u001b[01;31m\u001b[Kses \u001b[m\u001b[Kis dedicated to the public domain under the CC0 Public Domain Dedication. Except for the limited purpo\u001b[01;31m\u001b[Kse \u001b[m\u001b[Kof indicating that material is shared under a Creative Commons public licen\u001b[01;31m\u001b[Kse \u001b[m\u001b[Kor as otherwi\u001b[01;31m\u001b[Kse \u001b[m\u001b[Kpermitted by the Creative Commons policies publi\u001b[01;31m\u001b[Kshed \u001b[m\u001b[Kat creativecommons.org/policies, Creative Commons does not authorize the u\u001b[01;31m\u001b[Kse \u001b[m\u001b[Kof the trademark “Creative Commons” or any other trademark or logo of Creative Commons without its prior written con\u001b[01;31m\u001b[Ksent \u001b[m\u001b[Kincluding, without limitation, in connection with any unauthorized modifications to any of its public licen\u001b[01;31m\u001b[Kses \u001b[m\u001b[Kor any other arrangements, understandings, or agreements concerning u\u001b[01;31m\u001b[Kse \u001b[m\u001b[Kof licen\u001b[01;31m\u001b[Ksed \u001b[m\u001b[Kmaterial. For the avoidance of doubt, this paragraph does not form part of the public licenses.\n"
     ]
    }
   ],
   "source": [
    "grep -E -in 'S\\w{1,3}\\s' License-CC-BY-4.0  # s followed by between 1 and 3 characters"
   ]
  },
  {
   "cell_type": "code",
   "execution_count": 60,
   "metadata": {},
   "outputs": [
    {
     "name": "stdout",
     "output_type": "stream",
     "text": [
      "\u001b[32m\u001b[K5\u001b[m\u001b[K\u001b[36m\u001b[K:\u001b[m\u001b[KBy exerci\u001b[01;31m\u001b[Ksing \u001b[m\u001b[Kthe Licen\u001b[01;31m\u001b[Ksed \u001b[m\u001b[KRights (defined below), You accept and agree to be bound by the terms and conditions of this Creative Commons Attribution 4.0 International Public Licen\u001b[01;31m\u001b[Kse \u001b[m\u001b[K(\"Public License\"). To the extent this Public Licen\u001b[01;31m\u001b[Kse \u001b[m\u001b[Kmay be interpreted as a contract, You are granted the Licen\u001b[01;31m\u001b[Ksed \u001b[m\u001b[KRights in con\u001b[01;31m\u001b[Ksideration \u001b[m\u001b[Kof Your acceptance of the\u001b[01;31m\u001b[Kse \u001b[m\u001b[Kterms and conditions, and the Licen\u001b[01;31m\u001b[Ksor \u001b[m\u001b[Kgrants You \u001b[01;31m\u001b[Ksuch \u001b[m\u001b[Krights in con\u001b[01;31m\u001b[Ksideration \u001b[m\u001b[Kof benefits the Licen\u001b[01;31m\u001b[Ksor \u001b[m\u001b[Kreceives from making the Licen\u001b[01;31m\u001b[Ksed \u001b[m\u001b[KMaterial available under the\u001b[01;31m\u001b[Kse \u001b[m\u001b[Kterms and conditions.\n",
      "\u001b[32m\u001b[K7\u001b[m\u001b[K\u001b[36m\u001b[K:\u001b[m\u001b[K\u001b[01;31m\u001b[KSection \u001b[m\u001b[K1 – Definitions.\n",
      "\u001b[32m\u001b[K9\u001b[m\u001b[K\u001b[36m\u001b[K:\u001b[m\u001b[K    Adapted Material means material \u001b[01;31m\u001b[Ksubject \u001b[m\u001b[Kto Copyright and \u001b[01;31m\u001b[KSimilar \u001b[m\u001b[KRights that is derived from or ba\u001b[01;31m\u001b[Ksed \u001b[m\u001b[Kupon the Licen\u001b[01;31m\u001b[Ksed \u001b[m\u001b[KMaterial and in which the Licen\u001b[01;31m\u001b[Ksed \u001b[m\u001b[KMaterial is translated, altered, arranged, transformed, or otherwi\u001b[01;31m\u001b[Kse \u001b[m\u001b[Kmodified in a manner requiring permi\u001b[01;31m\u001b[Kssion \u001b[m\u001b[Kunder the Copyright and \u001b[01;31m\u001b[KSimilar \u001b[m\u001b[KRights held by the Licensor. For purpo\u001b[01;31m\u001b[Kses \u001b[m\u001b[Kof this Public License, where the Licen\u001b[01;31m\u001b[Ksed \u001b[m\u001b[KMaterial is a mu\u001b[01;31m\u001b[Ksical \u001b[m\u001b[Kwork, performance, or \u001b[01;31m\u001b[Ksound \u001b[m\u001b[Krecording, Adapted Material is always produced where the Licen\u001b[01;31m\u001b[Ksed \u001b[m\u001b[KMaterial is \u001b[01;31m\u001b[Ksynched \u001b[m\u001b[Kin timed relation with a moving image.\n",
      "\u001b[32m\u001b[K10\u001b[m\u001b[K\u001b[36m\u001b[K:\u001b[m\u001b[K    Adapter's Licen\u001b[01;31m\u001b[Kse \u001b[m\u001b[Kmeans the licen\u001b[01;31m\u001b[Kse \u001b[m\u001b[KYou apply to Your Copyright and \u001b[01;31m\u001b[KSimilar \u001b[m\u001b[KRights in Your contributions to Adapted Material in accordance with the terms and conditions of this Public License.\n",
      "\u001b[32m\u001b[K11\u001b[m\u001b[K\u001b[36m\u001b[K:\u001b[m\u001b[K    Copyright and \u001b[01;31m\u001b[KSimilar \u001b[m\u001b[KRights means copyright and/or \u001b[01;31m\u001b[Ksimilar \u001b[m\u001b[Krights clo\u001b[01;31m\u001b[Ksely \u001b[m\u001b[Krelated to copyright including, without limitation, performance, broadcast, \u001b[01;31m\u001b[Ksound \u001b[m\u001b[Krecording, and \u001b[01;31m\u001b[KSui \u001b[m\u001b[KGeneris Databa\u001b[01;31m\u001b[Kse \u001b[m\u001b[KRights, without regard to how the rights are labeled or categorized. For purpo\u001b[01;31m\u001b[Kses \u001b[m\u001b[Kof this Public License, the rights \u001b[01;31m\u001b[Kspecified \u001b[m\u001b[Kin \u001b[01;31m\u001b[KSection \u001b[m\u001b[K2(b)(1)-(2) are not Copyright and \u001b[01;31m\u001b[KSimilar \u001b[m\u001b[KRights.\n",
      "\u001b[32m\u001b[K12\u001b[m\u001b[K\u001b[36m\u001b[K:\u001b[m\u001b[K    Effective Technological Mea\u001b[01;31m\u001b[Ksures \u001b[m\u001b[Kmeans tho\u001b[01;31m\u001b[Kse \u001b[m\u001b[Kmea\u001b[01;31m\u001b[Ksures \u001b[m\u001b[Kthat, in the ab\u001b[01;31m\u001b[Ksence \u001b[m\u001b[Kof proper authority, may not be circumvented under laws fulfilling obligations under Article 11 of the WIPO Copyright Treaty adopted on December 20, 1996, and/or \u001b[01;31m\u001b[Ksimilar \u001b[m\u001b[Kinternational agreements.\n",
      "\u001b[32m\u001b[K13\u001b[m\u001b[K\u001b[36m\u001b[K:\u001b[m\u001b[K    Exceptions and Limitations means fair use, fair dealing, and/or any other exception or limitation to Copyright and \u001b[01;31m\u001b[KSimilar \u001b[m\u001b[KRights that applies to Your u\u001b[01;31m\u001b[Kse \u001b[m\u001b[Kof the Licen\u001b[01;31m\u001b[Ksed \u001b[m\u001b[KMaterial.\n",
      "\u001b[32m\u001b[K14\u001b[m\u001b[K\u001b[36m\u001b[K:\u001b[m\u001b[K    Licen\u001b[01;31m\u001b[Ksed \u001b[m\u001b[KMaterial means the arti\u001b[01;31m\u001b[Kstic \u001b[m\u001b[Kor literary work, database, or other material to which the Licen\u001b[01;31m\u001b[Ksor \u001b[m\u001b[Kapplied this Public License.\n",
      "\u001b[32m\u001b[K15\u001b[m\u001b[K\u001b[36m\u001b[K:\u001b[m\u001b[K    Licen\u001b[01;31m\u001b[Ksed \u001b[m\u001b[KRights means the rights granted to You \u001b[01;31m\u001b[Ksubject \u001b[m\u001b[Kto the terms and conditions of this Public License, which are limited to all Copyright and \u001b[01;31m\u001b[KSimilar \u001b[m\u001b[KRights that apply to Your u\u001b[01;31m\u001b[Kse \u001b[m\u001b[Kof the Licen\u001b[01;31m\u001b[Ksed \u001b[m\u001b[KMaterial and that the Licen\u001b[01;31m\u001b[Ksor \u001b[m\u001b[Khas authority to license.\n",
      "\u001b[32m\u001b[K16\u001b[m\u001b[K\u001b[36m\u001b[K:\u001b[m\u001b[K    Licen\u001b[01;31m\u001b[Ksor \u001b[m\u001b[Kmeans the individual(s) or entity(ies) granting rights under this Public License.\n",
      "\u001b[32m\u001b[K17\u001b[m\u001b[K\u001b[36m\u001b[K:\u001b[m\u001b[K    \u001b[01;31m\u001b[KShare \u001b[m\u001b[Kmeans to provide material to the public by any means or proce\u001b[01;31m\u001b[Kss \u001b[m\u001b[Kthat requires permi\u001b[01;31m\u001b[Kssion \u001b[m\u001b[Kunder the Licen\u001b[01;31m\u001b[Ksed \u001b[m\u001b[KRights, \u001b[01;31m\u001b[Ksuch \u001b[m\u001b[Kas reproduction, public display, public performance, distribution, dissemination, communication, or importation, and to make material available to the public including in ways that members of the public may acce\u001b[01;31m\u001b[Kss \u001b[m\u001b[Kthe material from a place and at a time individually cho\u001b[01;31m\u001b[Ksen \u001b[m\u001b[Kby them.\n",
      "\u001b[32m\u001b[K18\u001b[m\u001b[K\u001b[36m\u001b[K:\u001b[m\u001b[K    \u001b[01;31m\u001b[KSui \u001b[m\u001b[KGeneris Databa\u001b[01;31m\u001b[Kse \u001b[m\u001b[KRights means rights other than copyright re\u001b[01;31m\u001b[Ksulting \u001b[m\u001b[Kfrom Directive 96/9/EC of the European Parliament and of the Council of 11 March 1996 on the legal protection of databases, as amended and/or succeeded, as well as other e\u001b[01;31m\u001b[Kssentially \u001b[m\u001b[Kequivalent rights anywhere in the world.\n",
      "\u001b[32m\u001b[K19\u001b[m\u001b[K\u001b[36m\u001b[K:\u001b[m\u001b[K    You means the individual or entity exerci\u001b[01;31m\u001b[Ksing \u001b[m\u001b[Kthe Licen\u001b[01;31m\u001b[Ksed \u001b[m\u001b[KRights under this Public License. Your has a corre\u001b[01;31m\u001b[Ksponding \u001b[m\u001b[Kmeaning.\n",
      "\u001b[32m\u001b[K21\u001b[m\u001b[K\u001b[36m\u001b[K:\u001b[m\u001b[K\u001b[01;31m\u001b[KSection \u001b[m\u001b[K2 – Scope.\n",
      "\u001b[32m\u001b[K23\u001b[m\u001b[K\u001b[36m\u001b[K:\u001b[m\u001b[K    Licen\u001b[01;31m\u001b[Kse \u001b[m\u001b[Kgrant.\n",
      "\u001b[32m\u001b[K24\u001b[m\u001b[K\u001b[36m\u001b[K:\u001b[m\u001b[K        \u001b[01;31m\u001b[KSubject \u001b[m\u001b[Kto the terms and conditions of this Public License, the Licen\u001b[01;31m\u001b[Ksor \u001b[m\u001b[Khereby grants You a worldwide, royalty-free, non-sublicensable, non-exclusive, irrevocable licen\u001b[01;31m\u001b[Kse \u001b[m\u001b[Kto exerci\u001b[01;31m\u001b[Kse \u001b[m\u001b[Kthe Licen\u001b[01;31m\u001b[Ksed \u001b[m\u001b[KRights in the Licen\u001b[01;31m\u001b[Ksed \u001b[m\u001b[KMaterial to:\n",
      "\u001b[32m\u001b[K25\u001b[m\u001b[K\u001b[36m\u001b[K:\u001b[m\u001b[K            reproduce and \u001b[01;31m\u001b[KShare \u001b[m\u001b[Kthe Licen\u001b[01;31m\u001b[Ksed \u001b[m\u001b[KMaterial, in whole or in part; and\n",
      "\u001b[32m\u001b[K26\u001b[m\u001b[K\u001b[36m\u001b[K:\u001b[m\u001b[K            produce, reproduce, and \u001b[01;31m\u001b[KShare \u001b[m\u001b[KAdapted Material.\n",
      "\u001b[32m\u001b[K27\u001b[m\u001b[K\u001b[36m\u001b[K:\u001b[m\u001b[K        Exceptions and Limitations. For the avoidance of doubt, where Exceptions and Limitations apply to Your use, this Public Licen\u001b[01;31m\u001b[Kse \u001b[m\u001b[Kdoes not apply, and You do not need to comply with its terms and conditions.\n",
      "\u001b[32m\u001b[K28\u001b[m\u001b[K\u001b[36m\u001b[K:\u001b[m\u001b[K        Term. The term of this Public Licen\u001b[01;31m\u001b[Kse \u001b[m\u001b[Kis \u001b[01;31m\u001b[Kspecified \u001b[m\u001b[Kin \u001b[01;31m\u001b[KSection \u001b[m\u001b[K6(a).\n",
      "\u001b[32m\u001b[K29\u001b[m\u001b[K\u001b[36m\u001b[K:\u001b[m\u001b[K        Media and formats; technical modifications allowed. The Licen\u001b[01;31m\u001b[Ksor \u001b[m\u001b[Kauthorizes You to exerci\u001b[01;31m\u001b[Kse \u001b[m\u001b[Kthe Licen\u001b[01;31m\u001b[Ksed \u001b[m\u001b[KRights in all media and formats whether now known or hereafter created, and to make technical modifications nece\u001b[01;31m\u001b[Kssary \u001b[m\u001b[Kto do so. The Licen\u001b[01;31m\u001b[Ksor \u001b[m\u001b[Kwaives and/or agrees not to a\u001b[01;31m\u001b[Kssert \u001b[m\u001b[Kany right or authority to forbid You from making technical modifications nece\u001b[01;31m\u001b[Kssary \u001b[m\u001b[Kto exerci\u001b[01;31m\u001b[Kse \u001b[m\u001b[Kthe Licen\u001b[01;31m\u001b[Ksed \u001b[m\u001b[KRights, including technical modifications nece\u001b[01;31m\u001b[Kssary \u001b[m\u001b[Kto circumvent Effective Technological Measures. For purpo\u001b[01;31m\u001b[Kses \u001b[m\u001b[Kof this Public License, \u001b[01;31m\u001b[Ksimply \u001b[m\u001b[Kmaking modifications authorized by this \u001b[01;31m\u001b[KSection \u001b[m\u001b[K2(a)(4) never produces Adapted Material.\n",
      "\u001b[32m\u001b[K30\u001b[m\u001b[K\u001b[36m\u001b[K:\u001b[m\u001b[K        Down\u001b[01;31m\u001b[Kstream \u001b[m\u001b[Krecipients.\n",
      "\u001b[32m\u001b[K31\u001b[m\u001b[K\u001b[36m\u001b[K:\u001b[m\u001b[K            Offer from the Licen\u001b[01;31m\u001b[Ksor \u001b[m\u001b[K– Licen\u001b[01;31m\u001b[Ksed \u001b[m\u001b[KMaterial. Every recipient of the Licen\u001b[01;31m\u001b[Ksed \u001b[m\u001b[KMaterial automatically receives an offer from the Licen\u001b[01;31m\u001b[Ksor \u001b[m\u001b[Kto exerci\u001b[01;31m\u001b[Kse \u001b[m\u001b[Kthe Licen\u001b[01;31m\u001b[Ksed \u001b[m\u001b[KRights under the terms and conditions of this Public License.\n",
      "\u001b[32m\u001b[K32\u001b[m\u001b[K\u001b[36m\u001b[K:\u001b[m\u001b[K            No down\u001b[01;31m\u001b[Kstream \u001b[m\u001b[Krestrictions. You may not offer or impo\u001b[01;31m\u001b[Kse \u001b[m\u001b[Kany additional or different terms or conditions on, or apply any Effective Technological Mea\u001b[01;31m\u001b[Ksures \u001b[m\u001b[Kto, the Licen\u001b[01;31m\u001b[Ksed \u001b[m\u001b[KMaterial if doing \u001b[01;31m\u001b[Kso \u001b[m\u001b[Kre\u001b[01;31m\u001b[Kstricts \u001b[m\u001b[Kexerci\u001b[01;31m\u001b[Kse \u001b[m\u001b[Kof the Licen\u001b[01;31m\u001b[Ksed \u001b[m\u001b[KRights by any recipient of the Licen\u001b[01;31m\u001b[Ksed \u001b[m\u001b[KMaterial.\n",
      "\u001b[32m\u001b[K33\u001b[m\u001b[K\u001b[36m\u001b[K:\u001b[m\u001b[K        No endorsement. Nothing in this Public Licen\u001b[01;31m\u001b[Kse \u001b[m\u001b[Kcon\u001b[01;31m\u001b[Kstitutes \u001b[m\u001b[Kor may be con\u001b[01;31m\u001b[Kstrued \u001b[m\u001b[Kas permi\u001b[01;31m\u001b[Kssion \u001b[m\u001b[Kto a\u001b[01;31m\u001b[Kssert \u001b[m\u001b[Kor imply that You are, or that Your u\u001b[01;31m\u001b[Kse \u001b[m\u001b[Kof the Licen\u001b[01;31m\u001b[Ksed \u001b[m\u001b[KMaterial is, connected with, or sponsored, endorsed, or granted official \u001b[01;31m\u001b[Kstatus \u001b[m\u001b[Kby, the Licen\u001b[01;31m\u001b[Ksor \u001b[m\u001b[Kor others de\u001b[01;31m\u001b[Ksignated \u001b[m\u001b[Kto receive attribution as provided in \u001b[01;31m\u001b[KSection \u001b[m\u001b[K3(a)(1)(A)(i).\n"
     ]
    },
    {
     "name": "stdout",
     "output_type": "stream",
     "text": [
      "\u001b[32m\u001b[K36\u001b[m\u001b[K\u001b[36m\u001b[K:\u001b[m\u001b[K        Moral rights, \u001b[01;31m\u001b[Ksuch \u001b[m\u001b[Kas the right of integrity, are not licen\u001b[01;31m\u001b[Ksed \u001b[m\u001b[Kunder this Public License, nor are publicity, privacy, and/or other \u001b[01;31m\u001b[Ksimilar \u001b[m\u001b[Kper\u001b[01;31m\u001b[Ksonality \u001b[m\u001b[Krights; however, to the extent possible, the Licen\u001b[01;31m\u001b[Ksor \u001b[m\u001b[Kwaives and/or agrees not to a\u001b[01;31m\u001b[Kssert \u001b[m\u001b[Kany \u001b[01;31m\u001b[Ksuch \u001b[m\u001b[Krights held by the Licen\u001b[01;31m\u001b[Ksor \u001b[m\u001b[Kto the limited extent nece\u001b[01;31m\u001b[Kssary \u001b[m\u001b[Kto allow You to exerci\u001b[01;31m\u001b[Kse \u001b[m\u001b[Kthe Licen\u001b[01;31m\u001b[Ksed \u001b[m\u001b[KRights, but not otherwise.\n",
      "\u001b[32m\u001b[K37\u001b[m\u001b[K\u001b[36m\u001b[K:\u001b[m\u001b[K        Patent and trademark rights are not licen\u001b[01;31m\u001b[Ksed \u001b[m\u001b[Kunder this Public License.\n",
      "\u001b[32m\u001b[K38\u001b[m\u001b[K\u001b[36m\u001b[K:\u001b[m\u001b[K        To the extent possible, the Licen\u001b[01;31m\u001b[Ksor \u001b[m\u001b[Kwaives any right to collect royalties from You for the exerci\u001b[01;31m\u001b[Kse \u001b[m\u001b[Kof the Licen\u001b[01;31m\u001b[Ksed \u001b[m\u001b[KRights, whether directly or through a collecting \u001b[01;31m\u001b[Ksociety \u001b[m\u001b[Kunder any voluntary or waivable \u001b[01;31m\u001b[Kstatutory \u001b[m\u001b[Kor compul\u001b[01;31m\u001b[Ksory \u001b[m\u001b[Klicen\u001b[01;31m\u001b[Ksing \u001b[m\u001b[Kscheme. In all other ca\u001b[01;31m\u001b[Kses \u001b[m\u001b[Kthe Licen\u001b[01;31m\u001b[Ksor \u001b[m\u001b[Kexpre\u001b[01;31m\u001b[Kssly \u001b[m\u001b[Kre\u001b[01;31m\u001b[Kserves \u001b[m\u001b[Kany right to collect \u001b[01;31m\u001b[Ksuch \u001b[m\u001b[Kroyalties.\n",
      "\u001b[32m\u001b[K40\u001b[m\u001b[K\u001b[36m\u001b[K:\u001b[m\u001b[K\u001b[01;31m\u001b[KSection \u001b[m\u001b[K3 – Licen\u001b[01;31m\u001b[Kse \u001b[m\u001b[KConditions.\n",
      "\u001b[32m\u001b[K42\u001b[m\u001b[K\u001b[36m\u001b[K:\u001b[m\u001b[KYour exerci\u001b[01;31m\u001b[Kse \u001b[m\u001b[Kof the Licen\u001b[01;31m\u001b[Ksed \u001b[m\u001b[KRights is expre\u001b[01;31m\u001b[Kssly \u001b[m\u001b[Kmade \u001b[01;31m\u001b[Ksubject \u001b[m\u001b[Kto the following conditions.\n",
      "\u001b[32m\u001b[K46\u001b[m\u001b[K\u001b[36m\u001b[K:\u001b[m\u001b[K        If You \u001b[01;31m\u001b[KShare \u001b[m\u001b[Kthe Licen\u001b[01;31m\u001b[Ksed \u001b[m\u001b[KMaterial (including in modified form), You must:\n",
      "\u001b[32m\u001b[K47\u001b[m\u001b[K\u001b[36m\u001b[K:\u001b[m\u001b[K            retain the following if it is \u001b[01;31m\u001b[Ksupplied \u001b[m\u001b[Kby the Licen\u001b[01;31m\u001b[Ksor \u001b[m\u001b[Kwith the Licen\u001b[01;31m\u001b[Ksed \u001b[m\u001b[KMaterial:\n",
      "\u001b[32m\u001b[K48\u001b[m\u001b[K\u001b[36m\u001b[K:\u001b[m\u001b[K                identification of the creator(s) of the Licen\u001b[01;31m\u001b[Ksed \u001b[m\u001b[KMaterial and any others de\u001b[01;31m\u001b[Ksignated \u001b[m\u001b[Kto receive attribution, in any rea\u001b[01;31m\u001b[Ksonable \u001b[m\u001b[Kmanner reque\u001b[01;31m\u001b[Ksted \u001b[m\u001b[Kby the Licen\u001b[01;31m\u001b[Ksor \u001b[m\u001b[K(including by p\u001b[01;31m\u001b[Kseudonym \u001b[m\u001b[Kif designated);\n",
      "\u001b[32m\u001b[K51\u001b[m\u001b[K\u001b[36m\u001b[K:\u001b[m\u001b[K                a notice that refers to the di\u001b[01;31m\u001b[Ksclaimer \u001b[m\u001b[Kof warranties;\n",
      "\u001b[32m\u001b[K52\u001b[m\u001b[K\u001b[36m\u001b[K:\u001b[m\u001b[K                a URI or hyperlink to the Licen\u001b[01;31m\u001b[Ksed \u001b[m\u001b[KMaterial to the extent rea\u001b[01;31m\u001b[Ksonably \u001b[m\u001b[Kpracticable;\n",
      "\u001b[32m\u001b[K53\u001b[m\u001b[K\u001b[36m\u001b[K:\u001b[m\u001b[K            indicate if You modified the Licen\u001b[01;31m\u001b[Ksed \u001b[m\u001b[KMaterial and retain an indication of any previous modifications; and\n",
      "\u001b[32m\u001b[K54\u001b[m\u001b[K\u001b[36m\u001b[K:\u001b[m\u001b[K            indicate the Licen\u001b[01;31m\u001b[Ksed \u001b[m\u001b[KMaterial is licen\u001b[01;31m\u001b[Ksed \u001b[m\u001b[Kunder this Public License, and include the text of, or the URI or hyperlink to, this Public License.\n",
      "\u001b[32m\u001b[K55\u001b[m\u001b[K\u001b[36m\u001b[K:\u001b[m\u001b[K        You may \u001b[01;31m\u001b[Ksatisfy \u001b[m\u001b[Kthe conditions in \u001b[01;31m\u001b[KSection \u001b[m\u001b[K3(a)(1) in any rea\u001b[01;31m\u001b[Ksonable \u001b[m\u001b[Kmanner ba\u001b[01;31m\u001b[Ksed \u001b[m\u001b[Kon the medium, means, and context in which You \u001b[01;31m\u001b[KShare \u001b[m\u001b[Kthe Licen\u001b[01;31m\u001b[Ksed \u001b[m\u001b[KMaterial. For example, it may be rea\u001b[01;31m\u001b[Ksonable \u001b[m\u001b[Kto \u001b[01;31m\u001b[Ksatisfy \u001b[m\u001b[Kthe conditions by providing a URI or hyperlink to a re\u001b[01;31m\u001b[Ksource \u001b[m\u001b[Kthat includes the required information.\n",
      "\u001b[32m\u001b[K56\u001b[m\u001b[K\u001b[36m\u001b[K:\u001b[m\u001b[K        If reque\u001b[01;31m\u001b[Ksted \u001b[m\u001b[Kby the Licensor, You mu\u001b[01;31m\u001b[Kst \u001b[m\u001b[Kremove any of the information required by \u001b[01;31m\u001b[KSection \u001b[m\u001b[K3(a)(1)(A) to the extent rea\u001b[01;31m\u001b[Ksonably \u001b[m\u001b[Kpracticable.\n",
      "\u001b[32m\u001b[K57\u001b[m\u001b[K\u001b[36m\u001b[K:\u001b[m\u001b[K        If You \u001b[01;31m\u001b[KShare \u001b[m\u001b[KAdapted Material You produce, the Adapter's Licen\u001b[01;31m\u001b[Kse \u001b[m\u001b[KYou apply mu\u001b[01;31m\u001b[Kst \u001b[m\u001b[Knot prevent recipients of the Adapted Material from complying with this Public License.\n",
      "\u001b[32m\u001b[K59\u001b[m\u001b[K\u001b[36m\u001b[K:\u001b[m\u001b[K\u001b[01;31m\u001b[KSection \u001b[m\u001b[K4 – \u001b[01;31m\u001b[KSui \u001b[m\u001b[KGeneris Databa\u001b[01;31m\u001b[Kse \u001b[m\u001b[KRights.\n",
      "\u001b[32m\u001b[K61\u001b[m\u001b[K\u001b[36m\u001b[K:\u001b[m\u001b[KWhere the Licen\u001b[01;31m\u001b[Ksed \u001b[m\u001b[KRights include \u001b[01;31m\u001b[KSui \u001b[m\u001b[KGeneris Databa\u001b[01;31m\u001b[Kse \u001b[m\u001b[KRights that apply to Your u\u001b[01;31m\u001b[Kse \u001b[m\u001b[Kof the Licen\u001b[01;31m\u001b[Ksed \u001b[m\u001b[KMaterial:\n",
      "\u001b[32m\u001b[K63\u001b[m\u001b[K\u001b[36m\u001b[K:\u001b[m\u001b[K    for the avoidance of doubt, \u001b[01;31m\u001b[KSection \u001b[m\u001b[K2(a)(1) grants You the right to extract, reuse, reproduce, and \u001b[01;31m\u001b[KShare \u001b[m\u001b[Kall or a \u001b[01;31m\u001b[Ksubstantial \u001b[m\u001b[Kportion of the contents of the database;\n",
      "\u001b[32m\u001b[K64\u001b[m\u001b[K\u001b[36m\u001b[K:\u001b[m\u001b[K    if You include all or a \u001b[01;31m\u001b[Ksubstantial \u001b[m\u001b[Kportion of the databa\u001b[01;31m\u001b[Kse \u001b[m\u001b[Kcontents in a databa\u001b[01;31m\u001b[Kse \u001b[m\u001b[Kin which You have \u001b[01;31m\u001b[KSui \u001b[m\u001b[KGeneris Databa\u001b[01;31m\u001b[Kse \u001b[m\u001b[KRights, then the databa\u001b[01;31m\u001b[Kse \u001b[m\u001b[Kin which You have \u001b[01;31m\u001b[KSui \u001b[m\u001b[KGeneris Databa\u001b[01;31m\u001b[Kse \u001b[m\u001b[KRights (but not its individual contents) is Adapted Material; and\n",
      "\u001b[32m\u001b[K65\u001b[m\u001b[K\u001b[36m\u001b[K:\u001b[m\u001b[K    You mu\u001b[01;31m\u001b[Kst \u001b[m\u001b[Kcomply with the conditions in \u001b[01;31m\u001b[KSection \u001b[m\u001b[K3(a) if You \u001b[01;31m\u001b[KShare \u001b[m\u001b[Kall or a \u001b[01;31m\u001b[Ksubstantial \u001b[m\u001b[Kportion of the contents of the database.\n",
      "\u001b[32m\u001b[K67\u001b[m\u001b[K\u001b[36m\u001b[K:\u001b[m\u001b[KFor the avoidance of doubt, this \u001b[01;31m\u001b[KSection \u001b[m\u001b[K4 \u001b[01;31m\u001b[Ksupplements \u001b[m\u001b[Kand does not replace Your obligations under this Public Licen\u001b[01;31m\u001b[Kse \u001b[m\u001b[Kwhere the Licen\u001b[01;31m\u001b[Ksed \u001b[m\u001b[KRights include other Copyright and \u001b[01;31m\u001b[KSimilar \u001b[m\u001b[KRights.\n",
      "\u001b[32m\u001b[K69\u001b[m\u001b[K\u001b[36m\u001b[K:\u001b[m\u001b[K\u001b[01;31m\u001b[KSection \u001b[m\u001b[K5 – Di\u001b[01;31m\u001b[Ksclaimer \u001b[m\u001b[Kof Warranties and Limitation of Liability.\n",
      "\u001b[32m\u001b[K71\u001b[m\u001b[K\u001b[36m\u001b[K:\u001b[m\u001b[K    Unle\u001b[01;31m\u001b[Kss \u001b[m\u001b[Kotherwi\u001b[01;31m\u001b[Kse \u001b[m\u001b[K\u001b[01;31m\u001b[Kseparately \u001b[m\u001b[Kundertaken by the Licensor, to the extent possible, the Licen\u001b[01;31m\u001b[Ksor \u001b[m\u001b[Koffers the Licen\u001b[01;31m\u001b[Ksed \u001b[m\u001b[KMaterial as-is and as-available, and makes no repre\u001b[01;31m\u001b[Ksentations \u001b[m\u001b[Kor warranties of any kind concerning the Licen\u001b[01;31m\u001b[Ksed \u001b[m\u001b[KMaterial, whether express, implied, statutory, or other. This includes, without limitation, warranties of title, merchantability, fitne\u001b[01;31m\u001b[Kss \u001b[m\u001b[Kfor a particular purpose, non-infringement, ab\u001b[01;31m\u001b[Ksence \u001b[m\u001b[Kof latent or other defects, accuracy, or the pre\u001b[01;31m\u001b[Ksence \u001b[m\u001b[Kor ab\u001b[01;31m\u001b[Ksence \u001b[m\u001b[Kof errors, whether or not known or discoverable. Where di\u001b[01;31m\u001b[Ksclaimers \u001b[m\u001b[Kof warranties are not allowed in full or in part, this di\u001b[01;31m\u001b[Ksclaimer \u001b[m\u001b[Kmay not apply to You.\n",
      "\u001b[32m\u001b[K72\u001b[m\u001b[K\u001b[36m\u001b[K:\u001b[m\u001b[K    To the extent possible, in no event will the Licen\u001b[01;31m\u001b[Ksor \u001b[m\u001b[Kbe liable to You on any legal theory (including, without limitation, negligence) or otherwi\u001b[01;31m\u001b[Kse \u001b[m\u001b[Kfor any direct, special, indirect, incidental, consequential, punitive, exemplary, or other losses, costs, expenses, or damages ari\u001b[01;31m\u001b[Ksing \u001b[m\u001b[Kout of this Public Licen\u001b[01;31m\u001b[Kse \u001b[m\u001b[Kor u\u001b[01;31m\u001b[Kse \u001b[m\u001b[Kof the Licen\u001b[01;31m\u001b[Ksed \u001b[m\u001b[KMaterial, even if the Licen\u001b[01;31m\u001b[Ksor \u001b[m\u001b[Khas been advi\u001b[01;31m\u001b[Ksed \u001b[m\u001b[Kof the po\u001b[01;31m\u001b[Kssibility \u001b[m\u001b[Kof \u001b[01;31m\u001b[Ksuch \u001b[m\u001b[Klosses, costs, expenses, or damages. Where a limitation of liability is not allowed in full or in part, this limitation may not apply to You.\n",
      "\u001b[32m\u001b[K74\u001b[m\u001b[K\u001b[36m\u001b[K:\u001b[m\u001b[K    The di\u001b[01;31m\u001b[Ksclaimer \u001b[m\u001b[Kof warranties and limitation of liability provided above \u001b[01;31m\u001b[Kshall \u001b[m\u001b[Kbe interpreted in a manner that, to the extent possible, mo\u001b[01;31m\u001b[Kst \u001b[m\u001b[Kclo\u001b[01;31m\u001b[Ksely \u001b[m\u001b[Kapproximates an ab\u001b[01;31m\u001b[Ksolute \u001b[m\u001b[Kdi\u001b[01;31m\u001b[Ksclaimer \u001b[m\u001b[Kand waiver of all liability.\n",
      "\u001b[32m\u001b[K76\u001b[m\u001b[K\u001b[36m\u001b[K:\u001b[m\u001b[K\u001b[01;31m\u001b[KSection \u001b[m\u001b[K6 – Term and Termination.\n",
      "\u001b[32m\u001b[K78\u001b[m\u001b[K\u001b[36m\u001b[K:\u001b[m\u001b[K    This Public Licen\u001b[01;31m\u001b[Kse \u001b[m\u001b[Kapplies for the term of the Copyright and \u001b[01;31m\u001b[KSimilar \u001b[m\u001b[KRights licen\u001b[01;31m\u001b[Ksed \u001b[m\u001b[Khere. However, if You fail to comply with this Public License, then Your rights under this Public Licen\u001b[01;31m\u001b[Kse \u001b[m\u001b[Kterminate automatically.\n",
      "\u001b[32m\u001b[K80\u001b[m\u001b[K\u001b[36m\u001b[K:\u001b[m\u001b[K    Where Your right to u\u001b[01;31m\u001b[Kse \u001b[m\u001b[Kthe Licen\u001b[01;31m\u001b[Ksed \u001b[m\u001b[KMaterial has terminated under \u001b[01;31m\u001b[KSection \u001b[m\u001b[K6(a), it reinstates:\n"
     ]
    },
    {
     "name": "stdout",
     "output_type": "stream",
     "text": [
      "\u001b[32m\u001b[K81\u001b[m\u001b[K\u001b[36m\u001b[K:\u001b[m\u001b[K        automatically as of the date the violation is cured, provided it is cured within 30 days of Your di\u001b[01;31m\u001b[Kscovery \u001b[m\u001b[Kof the violation; or\n",
      "\u001b[32m\u001b[K82\u001b[m\u001b[K\u001b[36m\u001b[K:\u001b[m\u001b[K        upon expre\u001b[01;31m\u001b[Kss \u001b[m\u001b[Krein\u001b[01;31m\u001b[Kstatement \u001b[m\u001b[Kby the Licensor.\n",
      "\u001b[32m\u001b[K83\u001b[m\u001b[K\u001b[36m\u001b[K:\u001b[m\u001b[K    For the avoidance of doubt, this \u001b[01;31m\u001b[KSection \u001b[m\u001b[K6(b) does not affect any right the Licen\u001b[01;31m\u001b[Ksor \u001b[m\u001b[Kmay have to \u001b[01;31m\u001b[Kseek \u001b[m\u001b[Kremedies for Your violations of this Public License.\n",
      "\u001b[32m\u001b[K84\u001b[m\u001b[K\u001b[36m\u001b[K:\u001b[m\u001b[K    For the avoidance of doubt, the Licen\u001b[01;31m\u001b[Ksor \u001b[m\u001b[Kmay al\u001b[01;31m\u001b[Kso \u001b[m\u001b[Koffer the Licen\u001b[01;31m\u001b[Ksed \u001b[m\u001b[KMaterial under \u001b[01;31m\u001b[Kseparate \u001b[m\u001b[Kterms or conditions or \u001b[01;31m\u001b[Kstop \u001b[m\u001b[Kdi\u001b[01;31m\u001b[Kstributing \u001b[m\u001b[Kthe Licen\u001b[01;31m\u001b[Ksed \u001b[m\u001b[KMaterial at any time; however, doing \u001b[01;31m\u001b[Kso \u001b[m\u001b[Kwill not terminate this Public License.\n",
      "\u001b[32m\u001b[K85\u001b[m\u001b[K\u001b[36m\u001b[K:\u001b[m\u001b[K    \u001b[01;31m\u001b[KSections \u001b[m\u001b[K1, 5, 6, 7, and 8 \u001b[01;31m\u001b[Ksurvive \u001b[m\u001b[Ktermination of this Public License.\n",
      "\u001b[32m\u001b[K87\u001b[m\u001b[K\u001b[36m\u001b[K:\u001b[m\u001b[K\u001b[01;31m\u001b[KSection \u001b[m\u001b[K7 – Other Terms and Conditions.\n",
      "\u001b[32m\u001b[K89\u001b[m\u001b[K\u001b[36m\u001b[K:\u001b[m\u001b[K    The Licen\u001b[01;31m\u001b[Ksor \u001b[m\u001b[K\u001b[01;31m\u001b[Kshall \u001b[m\u001b[Knot be bound by any additional or different terms or conditions communicated by You unle\u001b[01;31m\u001b[Kss \u001b[m\u001b[Kexpre\u001b[01;31m\u001b[Kssly \u001b[m\u001b[Kagreed.\n",
      "\u001b[32m\u001b[K90\u001b[m\u001b[K\u001b[36m\u001b[K:\u001b[m\u001b[K    Any arrangements, understandings, or agreements regarding the Licen\u001b[01;31m\u001b[Ksed \u001b[m\u001b[KMaterial not \u001b[01;31m\u001b[Kstated \u001b[m\u001b[Kherein are \u001b[01;31m\u001b[Kseparate \u001b[m\u001b[Kfrom and independent of the terms and conditions of this Public License.\n",
      "\u001b[32m\u001b[K92\u001b[m\u001b[K\u001b[36m\u001b[K:\u001b[m\u001b[K\u001b[01;31m\u001b[KSection \u001b[m\u001b[K8 – Interpretation.\n",
      "\u001b[32m\u001b[K94\u001b[m\u001b[K\u001b[36m\u001b[K:\u001b[m\u001b[K    For the avoidance of doubt, this Public Licen\u001b[01;31m\u001b[Kse \u001b[m\u001b[Kdoes not, and \u001b[01;31m\u001b[Kshall \u001b[m\u001b[Knot be interpreted to, reduce, limit, restrict, or impo\u001b[01;31m\u001b[Kse \u001b[m\u001b[Kconditions on any u\u001b[01;31m\u001b[Kse \u001b[m\u001b[Kof the Licen\u001b[01;31m\u001b[Ksed \u001b[m\u001b[KMaterial that could lawfully be made without permi\u001b[01;31m\u001b[Kssion \u001b[m\u001b[Kunder this Public License.\n",
      "\u001b[32m\u001b[K95\u001b[m\u001b[K\u001b[36m\u001b[K:\u001b[m\u001b[K    To the extent possible, if any provi\u001b[01;31m\u001b[Ksion \u001b[m\u001b[Kof this Public Licen\u001b[01;31m\u001b[Kse \u001b[m\u001b[Kis deemed unenforceable, it \u001b[01;31m\u001b[Kshall \u001b[m\u001b[Kbe automatically reformed to the minimum extent nece\u001b[01;31m\u001b[Kssary \u001b[m\u001b[Kto make it enforceable. If the provi\u001b[01;31m\u001b[Ksion \u001b[m\u001b[Kcannot be reformed, it \u001b[01;31m\u001b[Kshall \u001b[m\u001b[Kbe \u001b[01;31m\u001b[Ksevered \u001b[m\u001b[Kfrom this Public Licen\u001b[01;31m\u001b[Kse \u001b[m\u001b[Kwithout affecting the enforceability of the remaining terms and conditions.\n",
      "\u001b[32m\u001b[K96\u001b[m\u001b[K\u001b[36m\u001b[K:\u001b[m\u001b[K    No term or condition of this Public Licen\u001b[01;31m\u001b[Kse \u001b[m\u001b[Kwill be waived and no failure to comply con\u001b[01;31m\u001b[Ksented \u001b[m\u001b[Kto unle\u001b[01;31m\u001b[Kss \u001b[m\u001b[Kexpre\u001b[01;31m\u001b[Kssly \u001b[m\u001b[Kagreed to by the Licensor.\n",
      "\u001b[32m\u001b[K97\u001b[m\u001b[K\u001b[36m\u001b[K:\u001b[m\u001b[K    Nothing in this Public Licen\u001b[01;31m\u001b[Kse \u001b[m\u001b[Kcon\u001b[01;31m\u001b[Kstitutes \u001b[m\u001b[Kor may be interpreted as a limitation upon, or waiver of, any privileges and immunities that apply to the Licen\u001b[01;31m\u001b[Ksor \u001b[m\u001b[Kor You, including from the legal proce\u001b[01;31m\u001b[Ksses \u001b[m\u001b[Kof any juri\u001b[01;31m\u001b[Ksdiction \u001b[m\u001b[Kor authority.\n",
      "\u001b[32m\u001b[K99\u001b[m\u001b[K\u001b[36m\u001b[K:\u001b[m\u001b[KCreative Commons is not a party to its public licenses. Notwithstanding, Creative Commons may elect to apply one of its public licen\u001b[01;31m\u001b[Kses \u001b[m\u001b[Kto material it publi\u001b[01;31m\u001b[Kshes \u001b[m\u001b[Kand in tho\u001b[01;31m\u001b[Kse \u001b[m\u001b[Kin\u001b[01;31m\u001b[Kstances \u001b[m\u001b[Kwill be con\u001b[01;31m\u001b[Ksidered \u001b[m\u001b[Kthe “Licensor.” The text of the Creative Commons public licen\u001b[01;31m\u001b[Kses \u001b[m\u001b[Kis dedicated to the public domain under the CC0 Public Domain Dedication. Except for the limited purpo\u001b[01;31m\u001b[Kse \u001b[m\u001b[Kof indicating that material is \u001b[01;31m\u001b[Kshared \u001b[m\u001b[Kunder a Creative Commons public licen\u001b[01;31m\u001b[Kse \u001b[m\u001b[Kor as otherwi\u001b[01;31m\u001b[Kse \u001b[m\u001b[Kpermitted by the Creative Commons policies publi\u001b[01;31m\u001b[Kshed \u001b[m\u001b[Kat creativecommons.org/policies, Creative Commons does not authorize the u\u001b[01;31m\u001b[Kse \u001b[m\u001b[Kof the trademark “Creative Commons” or any other trademark or logo of Creative Commons without its prior written con\u001b[01;31m\u001b[Ksent \u001b[m\u001b[Kincluding, without limitation, in connection with any unauthorized modifications to any of its public licen\u001b[01;31m\u001b[Kses \u001b[m\u001b[Kor any other arrangements, understandings, or agreements concerning u\u001b[01;31m\u001b[Kse \u001b[m\u001b[Kof licen\u001b[01;31m\u001b[Ksed \u001b[m\u001b[Kmaterial. For the avoidance of doubt, this paragraph does not form part of the public licenses.\n"
     ]
    }
   ],
   "source": [
    "grep -E -in 'S\\w+\\s' License-CC-BY-4.0  # s followed by ANY number of characters"
   ]
  },
  {
   "cell_type": "code",
   "execution_count": 62,
   "metadata": {},
   "outputs": [
    {
     "name": "stdout",
     "output_type": "stream",
     "text": [
      "\u001b[32m\u001b[K5\u001b[m\u001b[K\u001b[36m\u001b[K:\u001b[m\u001b[KBy exercising the Licensed Rights (defined below), You accept and agree to be bound by the terms and conditions of this Creative Commons Attribution 4.0 International Public License (\"Public License\"). To the extent this Public License may be interpreted as a contract, You are granted the Licensed Rights in consideration of Your acceptance of these terms and conditions, and the Licensor grants You\u001b[01;31m\u001b[K such \u001b[m\u001b[Krights in consideration of benefits the Licensor receives from making the Licensed Material available under these terms and conditions.\n",
      "\u001b[32m\u001b[K9\u001b[m\u001b[K\u001b[36m\u001b[K:\u001b[m\u001b[K    Adapted Material means material\u001b[01;31m\u001b[K subject \u001b[m\u001b[Kto Copyright and\u001b[01;31m\u001b[K Similar \u001b[m\u001b[KRights that is derived from or based upon the Licensed Material and in which the Licensed Material is translated, altered, arranged, transformed, or otherwise modified in a manner requiring permission under the Copyright and\u001b[01;31m\u001b[K Similar \u001b[m\u001b[KRights held by the Licensor. For purposes of this Public License, where the Licensed Material is a musical work, performance, or\u001b[01;31m\u001b[K sound \u001b[m\u001b[Krecording, Adapted Material is always produced where the Licensed Material is\u001b[01;31m\u001b[K synched \u001b[m\u001b[Kin timed relation with a moving image.\n",
      "\u001b[32m\u001b[K10\u001b[m\u001b[K\u001b[36m\u001b[K:\u001b[m\u001b[K    Adapter's License means the license You apply to Your Copyright and\u001b[01;31m\u001b[K Similar \u001b[m\u001b[KRights in Your contributions to Adapted Material in accordance with the terms and conditions of this Public License.\n",
      "\u001b[32m\u001b[K11\u001b[m\u001b[K\u001b[36m\u001b[K:\u001b[m\u001b[K    Copyright and\u001b[01;31m\u001b[K Similar \u001b[m\u001b[KRights means copyright and/or\u001b[01;31m\u001b[K similar \u001b[m\u001b[Krights closely related to copyright including, without limitation, performance, broadcast,\u001b[01;31m\u001b[K sound \u001b[m\u001b[Krecording, and\u001b[01;31m\u001b[K Sui \u001b[m\u001b[KGeneris Database Rights, without regard to how the rights are labeled or categorized. For purposes of this Public License, the rights\u001b[01;31m\u001b[K specified \u001b[m\u001b[Kin\u001b[01;31m\u001b[K Section \u001b[m\u001b[K2(b)(1)-(2) are not Copyright and\u001b[01;31m\u001b[K Similar \u001b[m\u001b[KRights.\n",
      "\u001b[32m\u001b[K12\u001b[m\u001b[K\u001b[36m\u001b[K:\u001b[m\u001b[K    Effective Technological Measures means those measures that, in the absence of proper authority, may not be circumvented under laws fulfilling obligations under Article 11 of the WIPO Copyright Treaty adopted on December 20, 1996, and/or\u001b[01;31m\u001b[K similar \u001b[m\u001b[Kinternational agreements.\n",
      "\u001b[32m\u001b[K13\u001b[m\u001b[K\u001b[36m\u001b[K:\u001b[m\u001b[K    Exceptions and Limitations means fair use, fair dealing, and/or any other exception or limitation to Copyright and\u001b[01;31m\u001b[K Similar \u001b[m\u001b[KRights that applies to Your use of the Licensed Material.\n",
      "\u001b[32m\u001b[K15\u001b[m\u001b[K\u001b[36m\u001b[K:\u001b[m\u001b[K    Licensed Rights means the rights granted to You\u001b[01;31m\u001b[K subject \u001b[m\u001b[Kto the terms and conditions of this Public License, which are limited to all Copyright and\u001b[01;31m\u001b[K Similar \u001b[m\u001b[KRights that apply to Your use of the Licensed Material and that the Licensor has authority to license.\n",
      "\u001b[32m\u001b[K17\u001b[m\u001b[K\u001b[36m\u001b[K:\u001b[m\u001b[K   \u001b[01;31m\u001b[K Share \u001b[m\u001b[Kmeans to provide material to the public by any means or process that requires permission under the Licensed Rights,\u001b[01;31m\u001b[K such \u001b[m\u001b[Kas reproduction, public display, public performance, distribution, dissemination, communication, or importation, and to make material available to the public including in ways that members of the public may access the material from a place and at a time individually chosen by them.\n",
      "\u001b[32m\u001b[K18\u001b[m\u001b[K\u001b[36m\u001b[K:\u001b[m\u001b[K   \u001b[01;31m\u001b[K Sui \u001b[m\u001b[KGeneris Database Rights means rights other than copyright resulting from Directive 96/9/EC of the European Parliament and of the Council of 11 March 1996 on the legal protection of databases, as amended and/or succeeded, as well as other essentially equivalent rights anywhere in the world.\n",
      "\u001b[32m\u001b[K24\u001b[m\u001b[K\u001b[36m\u001b[K:\u001b[m\u001b[K       \u001b[01;31m\u001b[K Subject \u001b[m\u001b[Kto the terms and conditions of this Public License, the Licensor hereby grants You a worldwide, royalty-free, non-sublicensable, non-exclusive, irrevocable license to exercise the Licensed Rights in the Licensed Material to:\n",
      "\u001b[32m\u001b[K25\u001b[m\u001b[K\u001b[36m\u001b[K:\u001b[m\u001b[K            reproduce and\u001b[01;31m\u001b[K Share \u001b[m\u001b[Kthe Licensed Material, in whole or in part; and\n",
      "\u001b[32m\u001b[K26\u001b[m\u001b[K\u001b[36m\u001b[K:\u001b[m\u001b[K            produce, reproduce, and\u001b[01;31m\u001b[K Share \u001b[m\u001b[KAdapted Material.\n",
      "\u001b[32m\u001b[K28\u001b[m\u001b[K\u001b[36m\u001b[K:\u001b[m\u001b[K        Term. The term of this Public License is\u001b[01;31m\u001b[K specified \u001b[m\u001b[Kin\u001b[01;31m\u001b[K Section \u001b[m\u001b[K6(a).\n",
      "\u001b[32m\u001b[K29\u001b[m\u001b[K\u001b[36m\u001b[K:\u001b[m\u001b[K        Media and formats; technical modifications allowed. The Licensor authorizes You to exercise the Licensed Rights in all media and formats whether now known or hereafter created, and to make technical modifications necessary to do so. The Licensor waives and/or agrees not to assert any right or authority to forbid You from making technical modifications necessary to exercise the Licensed Rights, including technical modifications necessary to circumvent Effective Technological Measures. For purposes of this Public License,\u001b[01;31m\u001b[K simply \u001b[m\u001b[Kmaking modifications authorized by this\u001b[01;31m\u001b[K Section \u001b[m\u001b[K2(a)(4) never produces Adapted Material.\n",
      "\u001b[32m\u001b[K32\u001b[m\u001b[K\u001b[36m\u001b[K:\u001b[m\u001b[K            No downstream restrictions. You may not offer or impose any additional or different terms or conditions on, or apply any Effective Technological Measures to, the Licensed Material if doing\u001b[01;31m\u001b[K so \u001b[m\u001b[Krestricts exercise of the Licensed Rights by any recipient of the Licensed Material.\n",
      "\u001b[32m\u001b[K33\u001b[m\u001b[K\u001b[36m\u001b[K:\u001b[m\u001b[K        No endorsement. Nothing in this Public License constitutes or may be construed as permission to assert or imply that You are, or that Your use of the Licensed Material is, connected with, or sponsored, endorsed, or granted official\u001b[01;31m\u001b[K status \u001b[m\u001b[Kby, the Licensor or others designated to receive attribution as provided in\u001b[01;31m\u001b[K Section \u001b[m\u001b[K3(a)(1)(A)(i).\n",
      "\u001b[32m\u001b[K36\u001b[m\u001b[K\u001b[36m\u001b[K:\u001b[m\u001b[K        Moral rights,\u001b[01;31m\u001b[K such \u001b[m\u001b[Kas the right of integrity, are not licensed under this Public License, nor are publicity, privacy, and/or other\u001b[01;31m\u001b[K similar \u001b[m\u001b[Kpersonality rights; however, to the extent possible, the Licensor waives and/or agrees not to assert any\u001b[01;31m\u001b[K such \u001b[m\u001b[Krights held by the Licensor to the limited extent necessary to allow You to exercise the Licensed Rights, but not otherwise.\n",
      "\u001b[32m\u001b[K38\u001b[m\u001b[K\u001b[36m\u001b[K:\u001b[m\u001b[K        To the extent possible, the Licensor waives any right to collect royalties from You for the exercise of the Licensed Rights, whether directly or through a collecting\u001b[01;31m\u001b[K society \u001b[m\u001b[Kunder any voluntary or waivable\u001b[01;31m\u001b[K statutory \u001b[m\u001b[Kor compulsory licensing scheme. In all other cases the Licensor expressly reserves any right to collect\u001b[01;31m\u001b[K such \u001b[m\u001b[Kroyalties.\n",
      "\u001b[32m\u001b[K42\u001b[m\u001b[K\u001b[36m\u001b[K:\u001b[m\u001b[KYour exercise of the Licensed Rights is expressly made\u001b[01;31m\u001b[K subject \u001b[m\u001b[Kto the following conditions.\n",
      "\u001b[32m\u001b[K46\u001b[m\u001b[K\u001b[36m\u001b[K:\u001b[m\u001b[K        If You\u001b[01;31m\u001b[K Share \u001b[m\u001b[Kthe Licensed Material (including in modified form), You must:\n",
      "\u001b[32m\u001b[K47\u001b[m\u001b[K\u001b[36m\u001b[K:\u001b[m\u001b[K            retain the following if it is\u001b[01;31m\u001b[K supplied \u001b[m\u001b[Kby the Licensor with the Licensed Material:\n",
      "\u001b[32m\u001b[K55\u001b[m\u001b[K\u001b[36m\u001b[K:\u001b[m\u001b[K        You may\u001b[01;31m\u001b[K satisfy \u001b[m\u001b[Kthe conditions in\u001b[01;31m\u001b[K Section \u001b[m\u001b[K3(a)(1) in any reasonable manner based on the medium, means, and context in which You\u001b[01;31m\u001b[K Share \u001b[m\u001b[Kthe Licensed Material. For example, it may be reasonable to\u001b[01;31m\u001b[K satisfy \u001b[m\u001b[Kthe conditions by providing a URI or hyperlink to a resource that includes the required information.\n",
      "\u001b[32m\u001b[K56\u001b[m\u001b[K\u001b[36m\u001b[K:\u001b[m\u001b[K        If requested by the Licensor, You must remove any of the information required by\u001b[01;31m\u001b[K Section \u001b[m\u001b[K3(a)(1)(A) to the extent reasonably practicable.\n",
      "\u001b[32m\u001b[K57\u001b[m\u001b[K\u001b[36m\u001b[K:\u001b[m\u001b[K        If You\u001b[01;31m\u001b[K Share \u001b[m\u001b[KAdapted Material You produce, the Adapter's License You apply must not prevent recipients of the Adapted Material from complying with this Public License.\n",
      "\u001b[32m\u001b[K59\u001b[m\u001b[K\u001b[36m\u001b[K:\u001b[m\u001b[KSection 4 –\u001b[01;31m\u001b[K Sui \u001b[m\u001b[KGeneris Database Rights.\n",
      "\u001b[32m\u001b[K61\u001b[m\u001b[K\u001b[36m\u001b[K:\u001b[m\u001b[KWhere the Licensed Rights include\u001b[01;31m\u001b[K Sui \u001b[m\u001b[KGeneris Database Rights that apply to Your use of the Licensed Material:\n"
     ]
    },
    {
     "name": "stdout",
     "output_type": "stream",
     "text": [
      "\u001b[32m\u001b[K63\u001b[m\u001b[K\u001b[36m\u001b[K:\u001b[m\u001b[K    for the avoidance of doubt,\u001b[01;31m\u001b[K Section \u001b[m\u001b[K2(a)(1) grants You the right to extract, reuse, reproduce, and\u001b[01;31m\u001b[K Share \u001b[m\u001b[Kall or a\u001b[01;31m\u001b[K substantial \u001b[m\u001b[Kportion of the contents of the database;\n",
      "\u001b[32m\u001b[K64\u001b[m\u001b[K\u001b[36m\u001b[K:\u001b[m\u001b[K    if You include all or a\u001b[01;31m\u001b[K substantial \u001b[m\u001b[Kportion of the database contents in a database in which You have\u001b[01;31m\u001b[K Sui \u001b[m\u001b[KGeneris Database Rights, then the database in which You have\u001b[01;31m\u001b[K Sui \u001b[m\u001b[KGeneris Database Rights (but not its individual contents) is Adapted Material; and\n",
      "\u001b[32m\u001b[K65\u001b[m\u001b[K\u001b[36m\u001b[K:\u001b[m\u001b[K    You must comply with the conditions in\u001b[01;31m\u001b[K Section \u001b[m\u001b[K3(a) if You\u001b[01;31m\u001b[K Share \u001b[m\u001b[Kall or a\u001b[01;31m\u001b[K substantial \u001b[m\u001b[Kportion of the contents of the database.\n",
      "\u001b[32m\u001b[K67\u001b[m\u001b[K\u001b[36m\u001b[K:\u001b[m\u001b[KFor the avoidance of doubt, this\u001b[01;31m\u001b[K Section \u001b[m\u001b[K4\u001b[01;31m\u001b[K supplements \u001b[m\u001b[Kand does not replace Your obligations under this Public License where the Licensed Rights include other Copyright and\u001b[01;31m\u001b[K Similar \u001b[m\u001b[KRights.\n",
      "\u001b[32m\u001b[K71\u001b[m\u001b[K\u001b[36m\u001b[K:\u001b[m\u001b[K    Unless otherwise\u001b[01;31m\u001b[K separately \u001b[m\u001b[Kundertaken by the Licensor, to the extent possible, the Licensor offers the Licensed Material as-is and as-available, and makes no representations or warranties of any kind concerning the Licensed Material, whether express, implied, statutory, or other. This includes, without limitation, warranties of title, merchantability, fitness for a particular purpose, non-infringement, absence of latent or other defects, accuracy, or the presence or absence of errors, whether or not known or discoverable. Where disclaimers of warranties are not allowed in full or in part, this disclaimer may not apply to You.\n",
      "\u001b[32m\u001b[K72\u001b[m\u001b[K\u001b[36m\u001b[K:\u001b[m\u001b[K    To the extent possible, in no event will the Licensor be liable to You on any legal theory (including, without limitation, negligence) or otherwise for any direct, special, indirect, incidental, consequential, punitive, exemplary, or other losses, costs, expenses, or damages arising out of this Public License or use of the Licensed Material, even if the Licensor has been advised of the possibility of\u001b[01;31m\u001b[K such \u001b[m\u001b[Klosses, costs, expenses, or damages. Where a limitation of liability is not allowed in full or in part, this limitation may not apply to You.\n",
      "\u001b[32m\u001b[K74\u001b[m\u001b[K\u001b[36m\u001b[K:\u001b[m\u001b[K    The disclaimer of warranties and limitation of liability provided above\u001b[01;31m\u001b[K shall \u001b[m\u001b[Kbe interpreted in a manner that, to the extent possible, most closely approximates an absolute disclaimer and waiver of all liability.\n",
      "\u001b[32m\u001b[K78\u001b[m\u001b[K\u001b[36m\u001b[K:\u001b[m\u001b[K    This Public License applies for the term of the Copyright and\u001b[01;31m\u001b[K Similar \u001b[m\u001b[KRights licensed here. However, if You fail to comply with this Public License, then Your rights under this Public License terminate automatically.\n",
      "\u001b[32m\u001b[K80\u001b[m\u001b[K\u001b[36m\u001b[K:\u001b[m\u001b[K    Where Your right to use the Licensed Material has terminated under\u001b[01;31m\u001b[K Section \u001b[m\u001b[K6(a), it reinstates:\n",
      "\u001b[32m\u001b[K83\u001b[m\u001b[K\u001b[36m\u001b[K:\u001b[m\u001b[K    For the avoidance of doubt, this\u001b[01;31m\u001b[K Section \u001b[m\u001b[K6(b) does not affect any right the Licensor may have to\u001b[01;31m\u001b[K seek \u001b[m\u001b[Kremedies for Your violations of this Public License.\n",
      "\u001b[32m\u001b[K84\u001b[m\u001b[K\u001b[36m\u001b[K:\u001b[m\u001b[K    For the avoidance of doubt, the Licensor may also offer the Licensed Material under\u001b[01;31m\u001b[K separate \u001b[m\u001b[Kterms or conditions or\u001b[01;31m\u001b[K stop \u001b[m\u001b[Kdistributing the Licensed Material at any time; however, doing\u001b[01;31m\u001b[K so \u001b[m\u001b[Kwill not terminate this Public License.\n",
      "\u001b[32m\u001b[K85\u001b[m\u001b[K\u001b[36m\u001b[K:\u001b[m\u001b[K   \u001b[01;31m\u001b[K Sections \u001b[m\u001b[K1, 5, 6, 7, and 8\u001b[01;31m\u001b[K survive \u001b[m\u001b[Ktermination of this Public License.\n",
      "\u001b[32m\u001b[K89\u001b[m\u001b[K\u001b[36m\u001b[K:\u001b[m\u001b[K    The Licensor\u001b[01;31m\u001b[K shall \u001b[m\u001b[Knot be bound by any additional or different terms or conditions communicated by You unless expressly agreed.\n",
      "\u001b[32m\u001b[K90\u001b[m\u001b[K\u001b[36m\u001b[K:\u001b[m\u001b[K    Any arrangements, understandings, or agreements regarding the Licensed Material not\u001b[01;31m\u001b[K stated \u001b[m\u001b[Kherein are\u001b[01;31m\u001b[K separate \u001b[m\u001b[Kfrom and independent of the terms and conditions of this Public License.\n",
      "\u001b[32m\u001b[K94\u001b[m\u001b[K\u001b[36m\u001b[K:\u001b[m\u001b[K    For the avoidance of doubt, this Public License does not, and\u001b[01;31m\u001b[K shall \u001b[m\u001b[Knot be interpreted to, reduce, limit, restrict, or impose conditions on any use of the Licensed Material that could lawfully be made without permission under this Public License.\n",
      "\u001b[32m\u001b[K95\u001b[m\u001b[K\u001b[36m\u001b[K:\u001b[m\u001b[K    To the extent possible, if any provision of this Public License is deemed unenforceable, it\u001b[01;31m\u001b[K shall \u001b[m\u001b[Kbe automatically reformed to the minimum extent necessary to make it enforceable. If the provision cannot be reformed, it\u001b[01;31m\u001b[K shall \u001b[m\u001b[Kbe\u001b[01;31m\u001b[K severed \u001b[m\u001b[Kfrom this Public License without affecting the enforceability of the remaining terms and conditions.\n",
      "\u001b[32m\u001b[K99\u001b[m\u001b[K\u001b[36m\u001b[K:\u001b[m\u001b[KCreative Commons is not a party to its public licenses. Notwithstanding, Creative Commons may elect to apply one of its public licenses to material it publishes and in those instances will be considered the “Licensor.” The text of the Creative Commons public licenses is dedicated to the public domain under the CC0 Public Domain Dedication. Except for the limited purpose of indicating that material is\u001b[01;31m\u001b[K shared \u001b[m\u001b[Kunder a Creative Commons public license or as otherwise permitted by the Creative Commons policies published at creativecommons.org/policies, Creative Commons does not authorize the use of the trademark “Creative Commons” or any other trademark or logo of Creative Commons without its prior written consent including, without limitation, in connection with any unauthorized modifications to any of its public licenses or any other arrangements, understandings, or agreements concerning use of licensed material. For the avoidance of doubt, this paragraph does not form part of the public licenses.\n"
     ]
    }
   ],
   "source": [
    "grep -E -in '\\sS\\w+\\s' License-CC-BY-4.0  # words that start with s (i.e. preceded by a space)\n"
   ]
  },
  {
   "cell_type": "code",
   "execution_count": 67,
   "metadata": {},
   "outputs": [
    {
     "name": "stdout",
     "output_type": "stream",
     "text": [
      "\u001b[32m\u001b[K11\u001b[m\u001b[K\u001b[36m\u001b[K:\u001b[m\u001b[K    Copyright and Similar Rights means copyright and/or similar rights closely related to copyright including, without limitation, performance, broadcast, sound recording, and Sui Generis Database Rights, without regard to how the rights are labeled or categorized. For purposes of this Public License, the rights specified in\u001b[01;31m\u001b[K Section 2\u001b[m\u001b[K(b)(1)-(2) are not Copyright and Similar Rights.\n",
      "\u001b[32m\u001b[K28\u001b[m\u001b[K\u001b[36m\u001b[K:\u001b[m\u001b[K        Term. The term of this Public License is specified in\u001b[01;31m\u001b[K Section 6\u001b[m\u001b[K(a).\n",
      "\u001b[32m\u001b[K29\u001b[m\u001b[K\u001b[36m\u001b[K:\u001b[m\u001b[K        Media and formats; technical modifications allowed. The Licensor authorizes You to exercise the Licensed Rights in all media and formats whether now known or hereafter created, and to make technical modifications necessary to do so. The Licensor waives and/or agrees not to assert any right or authority to forbid You from making technical modifications necessary to exercise the Licensed Rights, including technical modifications necessary to circumvent Effective Technological Measures. For purposes of this Public License, simply making modifications authorized by this\u001b[01;31m\u001b[K Section 2\u001b[m\u001b[K(a)(4) never produces Adapted Material.\n",
      "\u001b[32m\u001b[K33\u001b[m\u001b[K\u001b[36m\u001b[K:\u001b[m\u001b[K        No endorsement. Nothing in this Public License constitutes or may be construed as permission to assert or imply that You are, or that Your use of the Licensed Material is, connected with, or sponsored, endorsed, or granted official status by, the Licensor or others designated to receive attribution as provided in\u001b[01;31m\u001b[K Section 3\u001b[m\u001b[K(a)(1)(A)(i).\n",
      "\u001b[32m\u001b[K55\u001b[m\u001b[K\u001b[36m\u001b[K:\u001b[m\u001b[K        You may satisfy the conditions in\u001b[01;31m\u001b[K Section 3\u001b[m\u001b[K(a)(1) in any reasonable manner based on the medium, means, and context in which You Share the Licensed Material. For example, it may be reasonable to satisfy the conditions by providing a URI or hyperlink to a resource that includes the required information.\n",
      "\u001b[32m\u001b[K56\u001b[m\u001b[K\u001b[36m\u001b[K:\u001b[m\u001b[K        If requested by the Licensor, You must remove any of the information required by\u001b[01;31m\u001b[K Section 3\u001b[m\u001b[K(a)(1)(A) to the extent reasonably practicable.\n",
      "\u001b[32m\u001b[K63\u001b[m\u001b[K\u001b[36m\u001b[K:\u001b[m\u001b[K    for the avoidance of doubt,\u001b[01;31m\u001b[K Section 2\u001b[m\u001b[K(a)(1) grants You the right to extract, reuse, reproduce, and Share all or a substantial portion of the contents of the database;\n",
      "\u001b[32m\u001b[K65\u001b[m\u001b[K\u001b[36m\u001b[K:\u001b[m\u001b[K    You must comply with the conditions in\u001b[01;31m\u001b[K Section 3\u001b[m\u001b[K(a) if You Share all or a substantial portion of the contents of the database.\n",
      "\u001b[32m\u001b[K67\u001b[m\u001b[K\u001b[36m\u001b[K:\u001b[m\u001b[KFor the avoidance of doubt, this\u001b[01;31m\u001b[K Section 4\u001b[m\u001b[K supplements and does not replace Your obligations under this Public License where the Licensed Rights include other Copyright and Similar Rights.\n",
      "\u001b[32m\u001b[K80\u001b[m\u001b[K\u001b[36m\u001b[K:\u001b[m\u001b[K    Where Your right to use the Licensed Material has terminated under\u001b[01;31m\u001b[K Section 6\u001b[m\u001b[K(a), it reinstates:\n",
      "\u001b[32m\u001b[K83\u001b[m\u001b[K\u001b[36m\u001b[K:\u001b[m\u001b[K    For the avoidance of doubt, this\u001b[01;31m\u001b[K Section 6\u001b[m\u001b[K(b) does not affect any right the Licensor may have to seek remedies for Your violations of this Public License.\n"
     ]
    }
   ],
   "source": [
    "grep -E -in '\\sSection\\s[0-9]+' License-CC-BY-4.0   # references to sections"
   ]
  },
  {
   "cell_type": "code",
   "execution_count": 84,
   "metadata": {},
   "outputs": [
    {
     "name": "stdout",
     "output_type": "stream",
     "text": [
      "\u001b[32m\u001b[K11\u001b[m\u001b[K\u001b[36m\u001b[K:\u001b[m\u001b[K\u001b[01;31m\u001b[K Section 2(b)(1)-(2) \u001b[m\u001b[K\n",
      "\u001b[32m\u001b[K29\u001b[m\u001b[K\u001b[36m\u001b[K:\u001b[m\u001b[K\u001b[01;31m\u001b[K Section 2(a)(4) \u001b[m\u001b[K\n",
      "\u001b[32m\u001b[K55\u001b[m\u001b[K\u001b[36m\u001b[K:\u001b[m\u001b[K\u001b[01;31m\u001b[K Section 3(a)(1) \u001b[m\u001b[K\n",
      "\u001b[32m\u001b[K56\u001b[m\u001b[K\u001b[36m\u001b[K:\u001b[m\u001b[K\u001b[01;31m\u001b[K Section 3(a)(1)(A) \u001b[m\u001b[K\n",
      "\u001b[32m\u001b[K63\u001b[m\u001b[K\u001b[36m\u001b[K:\u001b[m\u001b[K\u001b[01;31m\u001b[K Section 2(a)(1) \u001b[m\u001b[K\n",
      "\u001b[32m\u001b[K65\u001b[m\u001b[K\u001b[36m\u001b[K:\u001b[m\u001b[K\u001b[01;31m\u001b[K Section 3(a) \u001b[m\u001b[K\n",
      "\u001b[32m\u001b[K80\u001b[m\u001b[K\u001b[36m\u001b[K:\u001b[m\u001b[K\u001b[01;31m\u001b[K Section 6(a), \u001b[m\u001b[K\n",
      "\u001b[32m\u001b[K83\u001b[m\u001b[K\u001b[36m\u001b[K:\u001b[m\u001b[K\u001b[01;31m\u001b[K Section 6(b) \u001b[m\u001b[K\n"
     ]
    }
   ],
   "source": [
    "grep -E -ino '\\sSection\\s[0-9]+\\S+\\s' License-CC-BY-4.0   # the -o argument prints ONLY the match"
   ]
  },
  {
   "cell_type": "code",
   "execution_count": 85,
   "metadata": {},
   "outputs": [
    {
     "name": "stdout",
     "output_type": "stream",
     "text": [
      "\u001b[32m\u001b[K7\u001b[m\u001b[K\u001b[36m\u001b[K:\u001b[m\u001b[K\u001b[01;31m\u001b[KSection\u001b[m\u001b[K 1 – Definitions.\n",
      "\u001b[32m\u001b[K21\u001b[m\u001b[K\u001b[36m\u001b[K:\u001b[m\u001b[K\u001b[01;31m\u001b[KSection\u001b[m\u001b[K 2 – Scope.\n",
      "\u001b[32m\u001b[K40\u001b[m\u001b[K\u001b[36m\u001b[K:\u001b[m\u001b[K\u001b[01;31m\u001b[KSection\u001b[m\u001b[K 3 – License Conditions.\n",
      "\u001b[32m\u001b[K59\u001b[m\u001b[K\u001b[36m\u001b[K:\u001b[m\u001b[K\u001b[01;31m\u001b[KSection\u001b[m\u001b[K 4 – Sui Generis Database Rights.\n",
      "\u001b[32m\u001b[K69\u001b[m\u001b[K\u001b[36m\u001b[K:\u001b[m\u001b[K\u001b[01;31m\u001b[KSection\u001b[m\u001b[K 5 – Disclaimer of Warranties and Limitation of Liability.\n",
      "\u001b[32m\u001b[K76\u001b[m\u001b[K\u001b[36m\u001b[K:\u001b[m\u001b[K\u001b[01;31m\u001b[KSection\u001b[m\u001b[K 6 – Term and Termination.\n",
      "\u001b[32m\u001b[K87\u001b[m\u001b[K\u001b[36m\u001b[K:\u001b[m\u001b[K\u001b[01;31m\u001b[KSection\u001b[m\u001b[K 7 – Other Terms and Conditions.\n",
      "\u001b[32m\u001b[K92\u001b[m\u001b[K\u001b[36m\u001b[K:\u001b[m\u001b[K\u001b[01;31m\u001b[KSection\u001b[m\u001b[K 8 – Interpretation.\n"
     ]
    }
   ],
   "source": [
    "grep -in \"^Section\" License-CC-BY-4.0  # \"Section\" at the beginning of the line only (  ^  )"
   ]
  },
  {
   "cell_type": "code",
   "execution_count": 71,
   "metadata": {},
   "outputs": [
    {
     "name": "stdout",
     "output_type": "stream",
     "text": [
      "Section 1 – Definitions.\n",
      "Section 2 – Scope.\n",
      "Section 3 – License Conditions.\n",
      "Section 4 – Sui Generis Database Rights.\n",
      "Section 5 – Disclaimer of Warranties and Limitation of Liability.\n",
      "Section 6 – Term and Termination.\n",
      "Section 7 – Other Terms and Conditions.\n",
      "Section 8 – Interpretation.\n"
     ]
    }
   ],
   "source": [
    "#  of course, you can use grep exactly like other command-line programs:\n",
    "\n",
    "grep -i \"^Section\" License-CC-BY-4.0   >   Table_of_contents.txt\n",
    "cat Table_of_contents.txt\n",
    "rm Table_of_contents.txt"
   ]
  },
  {
   "cell_type": "markdown",
   "metadata": {},
   "source": [
    "<pre>\n",
    "\n",
    "\n",
    "\n",
    "\n",
    "</pre>\n",
    "# Prove that you understand\n",
    "\n",
    "The commands below will unzip a FASTA-formatted file and print the first 5 lines so you can see them.\n",
    "\n",
    "## Task #1\n",
    "\n",
    "    * add an additional line that creates a file containing ONLY the EMBL accession numbers (e.g. A08585.1)\n",
    "    \n",
    "\n",
    "**hint - EMBL accession numbers always end with a \".1\", \".2\" etc.**\n",
    "\n",
    "<p style=\"visibility:hidden;\">grep -E '>' vector.fasta | grep -Eo \"\\w[0-9]+\\.[0-9]\" > accessions.list</p>"
   ]
  },
  {
   "cell_type": "code",
   "execution_count": 89,
   "metadata": {},
   "outputs": [
    {
     "name": "stdout",
     "output_type": "stream",
     "text": [
      ">gi|413493|emb|A08585.1| pMG36 expression vector DNA sequence\n",
      "ATGGCAATCGTTTCAGCAGAAAAATTCGTAATTCGAGCTCGCCCGGGGATCGATCCTCTAGAGTCGACCT\n",
      "GCAGGCATGCAAGCTT\n",
      ">gi|513652|emb|A13775.1| oligonucleotide 14\n",
      "CGAATCGTAACCGTTCGTACGAGAATCGCTGTCCTCTCCTTC\n",
      "\n",
      "cat: accessions.list: No such file or directory\n",
      "rm: cannot remove 'accessions.list': No such file or directory\n"
     ]
    }
   ],
   "source": [
    "gunzip -c vector.gz > vector.fasta\n",
    "head -5 vector.fasta\n",
    "echo \"\"\n",
    "\n",
    "\n",
    "# put your command here taht creates the file \"accessions.list\"\n",
    "\n",
    "\n",
    "cat accessions.list\n",
    "rm vector.fasta\n",
    "rm accessions.list"
   ]
  },
  {
   "cell_type": "markdown",
   "metadata": {},
   "source": [
    "<pre>\n",
    "\n",
    "\n",
    "\n",
    "</pre>\n",
    "## Task #2\n",
    "\n",
    "the command \"wc\" (word count) is able to tell you how many words and lines are in a file.  For example\n",
    "\n",
    "         wc -l License-CC-BY-4.0   # -l means \"just the number of lines\"\n",
    "        \n",
    "returns \"99\" because there are 99 lines in the license file.  wc accepts data from a pipe ( | )\n",
    "\n",
    "     * In the box below, create a command that counts the number of FASTA records in the Vector file.\n",
    "     * create a command that counts the number of entries in your accessions list\n",
    "     *  THIS IS AN IMPORTANT CONTROL!!!\n",
    "\n",
    "Just like in biology, controls are important!  You know you should have as many lines in your accessions list as there are records in the fasta file.... prove it!\n"
   ]
  },
  {
   "cell_type": "markdown",
   "metadata": {},
   "source": [
    "<pre>\n",
    "\n",
    "\n",
    "\n",
    "\n",
    "\n",
    "</pre>\n",
    "# Streams - stdin, stdout, stderr\n",
    "\n",
    "Linux has three \"data streams\" that are always \"open\".  These are:\n",
    "     \n",
    "     * Standard In - **stdin** - an input stream (generally connected to your keyboard input)\n",
    "     * Standard Out - **stdout** - an output stream (generally connected to the terminal window)\n",
    "     * Standard Error - **stderr** - an output stream (generally connected to the terminal window)\n",
    "\n",
    "You have already seen one way to access these, using \"pipes\"  ( | ), which connect the stdout of one command to the stdin of another command.  \n",
    "\n",
    "Now we will look at these streams in more detail.\n",
    "\n",
    "The different streams have different \"numerical values\" (think of them like \"names\" or \"identifiers\" for the moment).\n",
    "\n",
    "    * stdin    -->  0\n",
    "    * stdout   -->  1\n",
    "    * stderr   -->  2\n",
    "    \n",
    "Using these identifiers, we can ask the different streams to go to different places.  \n",
    "\n",
    "Note, first, that error messages and standard output are different streams!  By default, when I use a \">\" or \">>\", it selects the output of stream 1 (**stdout**) and NOT stream 2 (**stderr**).  This means that error messages are sent to the screen, but output data is sent to the file.\n",
    "\n",
    "           runme.sh  >   output.txt    # error messages go to the screen, NOT to output.txt!\n",
    "           \n",
    "\n",
    "Second:  You can change **stdin** to be a file, like this:\n",
    "\n",
    "           runme.sh  <  myinputfile.txt   # the content of myinputfile.txt are available as stdin for runme.sh\n",
    "\n",
    "\n",
    "<pre>\n",
    "\n",
    "\n",
    "</pre>\n",
    "## Try for yourself:\n",
    "\n",
    "I have created a small script \"getsections.sh\" that reads from stdin and executes the regular expression that outputs a table of contents.\n",
    "\n",
    "Show me TWO ways to send the License into that script, to output a table of contents.\n",
    "\n",
    "\n",
    "<p style=\"visibility:hidden;\">cat  License-CC-BY-4.0  | ./getsections.sh\n",
    "\n",
    "./getsections.sh < License-CC-BY-4.0</p>"
   ]
  },
  {
   "cell_type": "code",
   "execution_count": 4,
   "metadata": {},
   "outputs": [
    {
     "name": "stdout",
     "output_type": "stream",
     "text": [
      "Terminated\n"
     ]
    },
    {
     "ename": "",
     "evalue": "143",
     "output_type": "error",
     "traceback": []
    }
   ],
   "source": [
    "# put your code here:  (note that we must include the path information ./ before the script name\n",
    "\n",
    "#./getsections.sh\n",
    "\n",
    "#./getsections.sh\n"
   ]
  },
  {
   "cell_type": "code",
   "execution_count": 6,
   "metadata": {},
   "outputs": [
    {
     "name": "stdout",
     "output_type": "stream",
     "text": [
      "am I alive?\n"
     ]
    }
   ],
   "source": [
    "echo \"am I alive?\""
   ]
  },
  {
   "cell_type": "markdown",
   "metadata": {},
   "source": [
    "## stderr - how do we capture that?\n",
    "\n",
    "So far, in every example, error messages go to the screen.  Is there a way to capture error messages in a log file?  This is **extremely important** when you need to keep a record of your experiments!  errors that go to the screen will be lost forever, errors that are cqaptured in a log file, can be examined later, and even published as part of your materials and methods!\n",
    "\n",
    "Luckily (and by accident!  :-) ) our getsections.sh script outputs an error!  Let's capture that error by directing stream 2 to another file, like this:\n",
    "\n",
    "    cat License | ./getsections.sh  > table_of_contents.txt  2> error_log.txt\n",
    "\n",
    "Try it for yourself below:\n"
   ]
  },
  {
   "cell_type": "code",
   "execution_count": 8,
   "metadata": {},
   "outputs": [
    {
     "name": "stdout",
     "output_type": "stream",
     "text": [
      "updatedb: can not open a temporary file for `/var/lib/mlocate/mlocate.db'\n"
     ]
    },
    {
     "ename": "",
     "evalue": "1",
     "output_type": "error",
     "traceback": []
    }
   ],
   "source": [
    "updatedb"
   ]
  },
  {
   "cell_type": "markdown",
   "metadata": {},
   "source": [
    "<pre>\n",
    "\n",
    "\n",
    "</pre>\n",
    "Finally, if you need to refer to send one stream into another stream, you must refer to its value using '&X' \n",
    "\n",
    "    cat License | ./getsections.sh > all_output.txt  2>&1   # stderr is sent to &1, which is stdout (all_output.txt)\n",
    "    \n",
    "try that for yourself below:\n",
    "        "
   ]
  },
  {
   "cell_type": "markdown",
   "metadata": {},
   "source": [
    "# File Permissions and ownership\n",
    "\n",
    "Linux has a very rich permissions/ownership system - too rich to teach in an introductory course!  But we will look at some basics.\n",
    "\n",
    "## Ownership\n",
    "\n",
    "There are two kinds of ownership for a file - user-level, and group-level.  THESE ARE DIFFERENT, but we will treat them identically in this course.\n",
    "\n",
    "Any file that you create is owned by you.  Who are you?  Ask!"
   ]
  },
  {
   "cell_type": "code",
   "execution_count": 13,
   "metadata": {},
   "outputs": [
    {
     "name": "stdout",
     "output_type": "stream",
     "text": [
      "osboxes\n",
      "Usage: groups [OPTION]... [USERNAME]...\n",
      "Print group memberships for each USERNAME or, if no USERNAME is specified, for\n",
      "the current process (which may differ if the groups database has changed).\n",
      "      --help     display this help and exit\n",
      "      --version  output version information and exit\n",
      "\n",
      "GNU coreutils online help: <http://www.gnu.org/software/coreutils/>\n",
      "Full documentation at: <http://www.gnu.org/software/coreutils/groups>\n",
      "or available locally via: info '(coreutils) groups invocation'\n"
     ]
    }
   ],
   "source": [
    "whoami"
   ]
  },
  {
   "cell_type": "markdown",
   "metadata": {},
   "source": [
    "<pre>\n",
    "\n",
    "</pre>\n",
    "So your username (the name that you login with) is 'osboxes'.  When a user is created on a system, there is an identical group created with the same name.  Your user is also added to a few other groups on the system, that allow you to interact with files that are owned by those groups.  To find out what groups you belong to, use the 'groups' command:\n"
   ]
  },
  {
   "cell_type": "code",
   "execution_count": 14,
   "metadata": {},
   "outputs": [
    {
     "name": "stdout",
     "output_type": "stream",
     "text": [
      "osboxes adm cdrom sudo dip plugdev lpadmin sambashare\n"
     ]
    }
   ],
   "source": [
    "groups"
   ]
  },
  {
   "cell_type": "markdown",
   "metadata": {},
   "source": [
    "<pre>\n",
    "\n",
    "\n",
    "</pre>\n",
    "You now know that you are user 'osboxes', and you belong to a group called \"osboxes\" (among others).\n",
    "\n",
    "Now, look at your current directory listing again (ls -l):\n"
   ]
  },
  {
   "cell_type": "code",
   "execution_count": 17,
   "metadata": {},
   "outputs": [
    {
     "name": "stdout",
     "output_type": "stream",
     "text": [
      "total 1104\n",
      "-rw-rw-r-- 1 osboxes osboxes      0 Jul 11 05:08 all_output.txt\n",
      "-rwxrwxr-x 1 osboxes osboxes    110 Jul 11 04:58 \u001b[0m\u001b[01;32mgetsections.sh\u001b[0m\n",
      "-rw-rw-r-- 1 osboxes osboxes  14198 Jul  6 06:55 License-CC-BY-4.0\n",
      "-rw-rw-r-- 1 osboxes osboxes   1502 Jul  5 07:59 README.md\n",
      "-rw-rw-r-- 1 osboxes osboxes    151 Jul  6 03:50 samplefile.txt\n",
      "-rw-rw-r-- 1 osboxes osboxes 881144 Jul  6 07:46 \u001b[01;31mvector.gz\u001b[0m\n",
      "-rw-rw-r-- 1 osboxes osboxes 205716 Jul 11 05:33 Welcome!.ipynb\n",
      "-rw--w---- 1 root    root        34 Jul 11 05:20 you_cant_read_me.txt\n",
      "drwxrwxr-x 2 osboxes osboxes   4096 Jul 11 05:34 \u001b[01;34mzsubdir\u001b[0m\n"
     ]
    }
   ],
   "source": [
    "ls -l"
   ]
  },
  {
   "cell_type": "markdown",
   "metadata": {},
   "source": [
    "<pre>\n",
    "\n",
    "</pre>\n",
    "The information in columns 2 and 3 tell you the \"owner\" and the \"group owner\", respectively.  **Most** of your files are owned by the user 'osboxes' and the group 'osboxes'.\n",
    "\n",
    "## Permissions\n",
    "\n",
    "The first column contains information about what users and groups are allowed to *do* with a file.  It contains 10 fields.\n",
    "    1: directory or file?\n",
    "    2/3/4:  read/write/execute for user\n",
    "    5/6/7:  read/write/execute for group\n",
    "    8/9/10: read/write/execute for 'all'\n",
    "    \n",
    "So, the License file is\n",
    "\n",
    "    - rw-  rw-  r--    # not a directory, read/write for user, read/write for group, read for all\n",
    "    \n",
    "The getsections.sh file is:\n",
    "\n",
    "    -  rwx  rwx  r-x   # not a directory, r/w/execute for user, r/w/execute for group, read/execute for all\n",
    "    \n",
    "the zsubdir folder is:\n",
    "\n",
    "    d  rwx  rwx  r-x   # a directory, r/w/x for user, r/w/x for group, r/x for all\n",
    "    \n",
    "and finally the \"you can't read me\" file is **owned by user \"root\" and group \"root\"**,and is:\n",
    "\n",
    "    -  rw-  -w-  ---\n",
    "\n",
    "try to look at the content of \"you can't read me\"..."
   ]
  },
  {
   "cell_type": "code",
   "execution_count": 18,
   "metadata": {},
   "outputs": [
    {
     "name": "stdout",
     "output_type": "stream",
     "text": [
      "cat: you_cant_read_me.txt: Permission denied\n"
     ]
    },
    {
     "ename": "",
     "evalue": "1",
     "output_type": "error",
     "traceback": []
    }
   ],
   "source": [
    "cat you_cant_read_me.txt"
   ]
  },
  {
   "cell_type": "markdown",
   "metadata": {},
   "source": [
    "<pre>\n",
    "\n",
    "\n",
    "</pre>\n",
    "\n",
    "You don't have the permission to read that file - it is \"read/write\" **by __its__ user**, but its user is \"root\", not \"osboxes\"\n",
    "\n",
    "I am not going to show you how to change file permissions.  File permissions are usually set to be as safe as possible!  Usually it is not a good idea to change them, with one exception - changing a file **that you know is safe**, and that is an app, so that it has \"execute\" permission.  I will show you how to do that if we need it later.\n",
    "\n",
    "For now, we will find another way to deal with files that don't belong to us.  That is, we will change who we are.  Right now, we are 'osboxes'.  We want to become 'root' to view the content of that file."
   ]
  },
  {
   "cell_type": "markdown",
   "metadata": {},
   "source": [
    "<pre>\n",
    "\n",
    "\n",
    "\n",
    "\n",
    "</pre>\n",
    "# Super User!!!   \n",
    "\n",
    "When you login to your Linux machine, you are the user named \"osboxes\".  There can be many different users on your linux machine.  One of the users that always exists is called \"root\".  Root user is the \"super user\", meaning that they have the permission to do ANYTHING on the system (including to destroy it!).  With great power comes great responsibility... be careful!\n",
    "\n",
    "Look at the directory listing again (ls -l):\n"
   ]
  },
  {
   "cell_type": "code",
   "execution_count": 22,
   "metadata": {},
   "outputs": [
    {
     "name": "stdout",
     "output_type": "stream",
     "text": [
      "total 1104\n",
      "-rw-rw-r-- 1 osboxes osboxes      0 Jul 11 05:08 all_output.txt\n",
      "-rwxrwxr-x 1 osboxes osboxes    110 Jul 11 04:58 \u001b[0m\u001b[01;32mgetsections.sh\u001b[0m\n",
      "-rw-rw-r-- 1 osboxes osboxes  14198 Jul  6 06:55 License-CC-BY-4.0\n",
      "-rw-rw-r-- 1 osboxes osboxes   1502 Jul  5 07:59 README.md\n",
      "-rw-rw-r-- 1 osboxes osboxes    151 Jul  6 03:50 samplefile.txt\n",
      "-rw-rw-r-- 1 osboxes osboxes 881144 Jul  6 07:46 \u001b[01;31mvector.gz\u001b[0m\n",
      "-rw-rw-r-- 1 osboxes osboxes 208472 Jul 11 05:49 Welcome!.ipynb\n",
      "-rw--w---- 1 root    root        38 Jul 11 05:51 you_cant_read_me.txt\n",
      "drwxrwxr-x 2 osboxes osboxes   4096 Jul 11 05:34 \u001b[01;34mzsubdir\u001b[0m\n"
     ]
    }
   ],
   "source": [
    "ls -l\n"
   ]
  },
  {
   "cell_type": "markdown",
   "metadata": {},
   "source": [
    "<pre>\n",
    "\n",
    "</pre>\n",
    "\n",
    "to do *anything* with that file, we are going to have to become 'root' user.  There are two ways to do this:\n",
    "\n",
    "    1) change to become 'root' user - this can be very very dangerous (every command is accepted, even stupid ones!)\n",
    "    2) temporarily change to 'root' user for a single command\n",
    "\n",
    "the command to tempoarily change to the 'root' user is called \"sudo\" (super user do).\n",
    "\n",
    "In a terminal window, sudo will ask you for your password before it executes a command (open a terminal and type:\n",
    "\n",
    "    sudo ls -l\n",
    "    \n",
    "(remember that your password is 'oxboxes.org' - your login password)\n",
    "\n",
    "In Jupyter, we can't use a command prompt, so there is a way to send your password to the sudo command using a pipe:\n",
    "\n",
    "    echo osboxes.org | sudo -S cat you_cant_read_me.txt\n",
    "    \n",
    "the command echos your password to the 'sudo -S' command (-S accepts password from stdin).  It then executes 'cat you_cant_read_me.txt\" as 'root' user, and...\n"
   ]
  },
  {
   "cell_type": "code",
   "execution_count": 23,
   "metadata": {},
   "outputs": [
    {
     "name": "stdout",
     "output_type": "stream",
     "text": [
      "\n",
      "\n",
      "\n",
      "Ha!  You learned how to read me!\n",
      "\n",
      "\n"
     ]
    }
   ],
   "source": [
    "echo osboxes.org | sudo -S cat you_cant_read_me.txt"
   ]
  },
  {
   "cell_type": "markdown",
   "metadata": {},
   "source": [
    "## I will say it again - with great power, comes great responsibility!!  Be careful with sudo!\n"
   ]
  },
  {
   "cell_type": "markdown",
   "metadata": {},
   "source": [
    "<pre>\n",
    "\n",
    "\n",
    "\n",
    "\n",
    "</pre>\n",
    "\n",
    "# ===================================================\n",
    "\n",
    "# Totally New Topic!!!\n",
    "\n",
    "\n",
    "# GitHub - a place to store your software \"like a professional\"\n",
    "\n",
    "\n",
    "The rest of this lecture is in Google Drive as a slide show:\n",
    "\n",
    "http://tinyurl.com/MDW-Lesson1\n"
   ]
  }
 ],
 "metadata": {
  "kernelspec": {
   "display_name": "Bash",
   "language": "bash",
   "name": "bash"
  },
  "language_info": {
   "codemirror_mode": "shell",
   "file_extension": ".sh",
   "mimetype": "text/x-sh",
   "name": "bash"
  }
 },
 "nbformat": 4,
 "nbformat_minor": 2
}
